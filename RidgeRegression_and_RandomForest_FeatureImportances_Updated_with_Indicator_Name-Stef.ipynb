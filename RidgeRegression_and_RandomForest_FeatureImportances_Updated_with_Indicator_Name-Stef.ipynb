{
 "cells": [
  {
   "cell_type": "markdown",
   "metadata": {
    "colab_type": "text",
    "id": "HZKsBECS_g43"
   },
   "source": [
    "Import Library :"
   ]
  },
  {
   "cell_type": "code",
   "execution_count": 1,
   "metadata": {
    "colab": {},
    "colab_type": "code",
    "id": "F44X6Cw3-aVy"
   },
   "outputs": [],
   "source": [
    "from sklearn.linear_model import Ridge\n",
    "from sklearn.ensemble import RandomForestClassifier\n",
    "from sklearn.metrics import mean_squared_error\n",
    "from pandas import read_csv\n",
    "from pandas import read_pickle\n",
    "import numpy as np\n",
    "#from google.colab import drive\n",
    "\n",
    "def train_test_split(data, n_test):\n",
    "    return data[:-n_test], data[-n_test:]"
   ]
  },
  {
   "cell_type": "markdown",
   "metadata": {
    "colab_type": "text",
    "id": "Bq_PtoUaCBMc"
   },
   "source": [
    "Import Dataset & Pickle File"
   ]
  },
  {
   "cell_type": "code",
   "execution_count": 2,
   "metadata": {
    "colab": {
     "base_uri": "https://localhost:8080/",
     "height": 34
    },
    "colab_type": "code",
    "id": "VItu4JtBB0j9",
    "outputId": "43308fbc-8a8c-4c37-deb3-0aac1aa944e8"
   },
   "outputs": [],
   "source": [
    "#drive.mount('/content/gdrive')\n",
    "#root_path = 'gdrive/My Drive/______Research/'\n",
    "from pathlib import Path\n",
    "path = Path(\"dataset\")\n",
    "\n",
    "#df_X = read_csv(root_path+'df_X_with_year_column.csv', header=0, index_col=0)\n",
    "df_X = read_csv( path / 'df_X_with_year_column.csv', header=0, index_col=0)\n",
    "#df_Y = read_csv(root_path+'df_Y_GDP_constant_2010_USD.csv', header=0, index_col=0)\n",
    "df_Y = read_csv( path / 'df_Y_GDP_constant_2010_USD.csv', header=0, index_col=0)\n",
    "pFile = read_pickle( path / 'code_to_name_dict_of_indicator_names.p')"
   ]
  },
  {
   "cell_type": "markdown",
   "metadata": {
    "colab_type": "text",
    "id": "mRtxmo-uCGXU"
   },
   "source": [
    "Spliting Dataset"
   ]
  },
  {
   "cell_type": "code",
   "execution_count": 3,
   "metadata": {
    "colab": {
     "base_uri": "https://localhost:8080/",
     "height": 52
    },
    "colab_type": "code",
    "id": "4MVonmwGB2T0",
    "outputId": "e3f9c12e-b451-45e8-dddc-2a7aa8cf9139"
   },
   "outputs": [
    {
     "name": "stdout",
     "output_type": "stream",
     "text": [
      "(42, 163) (42, 1)\n",
      "(10, 163) (10, 1)\n"
     ]
    }
   ],
   "source": [
    "n_test = 10\n",
    "X_train, X_test = train_test_split(df_X, n_test)\n",
    "y_train, y_test = train_test_split(df_Y, n_test)\n",
    "print(X_train.shape, y_train.shape)\n",
    "print(X_test.shape, y_test.shape)"
   ]
  },
  {
   "cell_type": "markdown",
   "metadata": {
    "colab_type": "text",
    "id": "kfUQimqP_nqI"
   },
   "source": [
    "### Ridge Regression :"
   ]
  },
  {
   "cell_type": "code",
   "execution_count": 4,
   "metadata": {
    "colab": {
     "base_uri": "https://localhost:8080/",
     "height": 836
    },
    "colab_type": "code",
    "id": "vMtqHmyC-DBy",
    "outputId": "9d409e2f-2aa2-447f-a7d8-efb1b7fd3dad"
   },
   "outputs": [
    {
     "name": "stdout",
     "output_type": "stream",
     "text": [
      "Training set score(R^2): 1.00\n",
      "Test set score(R^2): -73507.10\n",
      "RMSE: 99778.65\n",
      "Coef-> [[ 3.67024384e-19 -1.59004754e-13  1.71703044e-09  1.26344846e-16\n",
      "  -8.44740365e-12 -4.41862945e-09  1.49590331e-10  7.21224978e-17\n",
      "   5.06608276e-18  7.09531731e-16  1.44544738e-17 -3.63264295e-17\n",
      "   4.31885956e-16 -1.82483439e-18  6.44995086e-12  3.10546567e-11\n",
      "  -1.68923659e-13  7.23714103e-16  7.51518188e-11 -4.20858140e-11\n",
      "   1.35151749e-15 -1.45729148e-12 -6.01943352e-09  1.64797572e-09\n",
      "   1.49142228e-11  1.29757605e-08 -6.54563654e-17  1.14183101e-09\n",
      "  -2.72716225e-11 -1.10758417e-11 -1.30370292e-09  7.18205383e-16\n",
      "   2.27681057e-12  8.81072719e-17  9.32688643e-17 -4.81955402e-13\n",
      "   2.51569158e-11  1.01609805e-17 -9.32471075e-18  1.31115956e-16\n",
      "   6.63265554e-18  5.58400225e-09 -4.50455669e-12 -1.77858866e-09\n",
      "   7.58236619e-19  1.00469704e-08 -7.39414288e-18 -1.79893610e-12\n",
      "   4.89757709e-17  2.17109766e-16 -1.21687090e-18 -1.01712230e-08\n",
      "   1.05833003e-08 -3.63006419e-18 -8.86733232e-12 -1.89388175e-18\n",
      "   4.50252274e-18  1.30936332e-17 -1.84556496e-16 -3.36530406e-11\n",
      "   1.45360766e-16 -6.58078706e-11  1.01529158e-18 -1.03657685e-12\n",
      "  -5.48809858e-09 -2.46797812e-16 -8.03448298e-18  5.04385714e-17\n",
      "  -5.79822658e-09 -5.86140911e-15  7.80281003e-17 -9.43354543e-18\n",
      "  -2.15747864e-09 -6.50198369e-17  3.71732290e-09 -1.53030728e-09\n",
      "  -1.74220179e-09 -1.71487438e-09  1.66679487e-09  5.51590730e-17\n",
      "  -2.15747864e-09  4.84693510e-18  7.60071677e-12 -3.86332459e-11\n",
      "  -5.79822658e-09  1.50806924e-17  5.43494393e-13 -2.81573888e-18\n",
      "   4.46978679e-13 -1.29538506e-09  7.36441810e-17  2.17490865e-17\n",
      "  -5.58373827e-09  3.33923504e-09  8.85987859e-09  2.46994998e-18\n",
      "   6.28577448e-19 -8.48030502e-18 -8.38197625e-12 -3.64172479e-09\n",
      "   2.70955151e-11  2.76341575e-16 -7.56173458e-17  1.06637815e-14\n",
      "   3.97570302e-12 -7.57900687e-15 -6.60069971e-09  2.19844846e-09\n",
      "  -1.35822454e-17  2.06406530e-11 -7.67448785e-09 -4.89757713e-17\n",
      "   5.29630553e-10  1.08272845e-11  1.64751930e-09 -1.60690915e-09\n",
      "   2.03754158e-09  6.54563654e-17 -1.38769789e-13  1.64805946e-17\n",
      "   2.37514994e-16 -1.30936332e-17 -2.37049217e-12 -1.29270480e-09\n",
      "   5.35208125e-18  3.84733068e-12 -1.14531822e-12 -4.91733876e-11\n",
      "   3.15018293e-14  1.60325594e-12  5.72007057e-18 -4.14554363e-09\n",
      "   6.06315430e-16 -8.07131289e-17 -3.50600240e-09 -2.09396333e-09\n",
      "  -2.74462438e-12 -3.21548300e-11  1.27165994e-17  7.35761970e-17\n",
      "  -8.94841789e-18 -4.18088763e-16 -5.87743470e-09 -1.87195900e-19\n",
      "  -1.41552542e-17 -2.01979462e-09 -2.33532267e-16  3.45118927e-09\n",
      "   7.78075809e-10  1.58097065e-16 -1.04002866e-13 -1.21876208e-17\n",
      "  -3.25622759e-12 -4.51664340e-20  1.26296398e-17  5.64999927e-14\n",
      "  -8.33785072e-15  1.84270402e-16 -1.98706410e-11 -5.75854525e-09\n",
      "  -2.54212601e-17 -1.09687404e-17 -6.17931570e-17]]\n"
     ]
    },
    {
     "name": "stderr",
     "output_type": "stream",
     "text": [
      "/home/hendra/anaconda3/lib/python3.7/site-packages/sklearn/linear_model/ridge.py:189: UserWarning: Singular matrix in solving dual problem. Using least-squares solution instead.\n",
      "  warnings.warn(\"Singular matrix in solving dual problem. Using \"\n"
     ]
    }
   ],
   "source": [
    "ridge = Ridge().fit(X_train, y_train)\n",
    "pred = ridge.predict(X_test)\n",
    "rmse = np.sqrt(mean_squared_error(y_test,pred))\n",
    "print('Training set score(R^2): {:.2f}'.format(ridge.score(X_train, y_train)))\n",
    "print('Test set score(R^2): {:.2f}'.format(ridge.score(X_test, y_test)))\n",
    "print('RMSE: {:.2f}'.format(rmse))\n",
    "print('Coef->',ridge.coef_)"
   ]
  },
  {
   "cell_type": "markdown",
   "metadata": {
    "colab_type": "text",
    "id": "CbnK09qw_yAf"
   },
   "source": [
    "### Random Forest :"
   ]
  },
  {
   "cell_type": "markdown",
   "metadata": {
    "colab_type": "text",
    "id": "Q9D24maWTzAq"
   },
   "source": [
    "Transform Tipe Data Continous ke Multiclass, agar bisa diproses RandomForestClassifier"
   ]
  },
  {
   "cell_type": "code",
   "execution_count": 5,
   "metadata": {
    "colab": {
     "base_uri": "https://localhost:8080/",
     "height": 72
    },
    "colab_type": "code",
    "id": "iO2v3_BCxisj",
    "outputId": "b4e39e80-5b4a-478c-8c50-3226c8eaae75"
   },
   "outputs": [
    {
     "name": "stderr",
     "output_type": "stream",
     "text": [
      "/home/hendra/anaconda3/lib/python3.7/site-packages/sklearn/preprocessing/label.py:235: DataConversionWarning: A column-vector y was passed when a 1d array was expected. Please change the shape of y to (n_samples, ), for example using ravel().\n",
      "  y = column_or_1d(y, warn=True)\n"
     ]
    }
   ],
   "source": [
    "from sklearn import preprocessing\n",
    "\n",
    "lab_enc = preprocessing.LabelEncoder()\n",
    "X_train_encoded =X_train.apply(preprocessing.LabelEncoder().fit_transform)\n",
    "y_train_encoded = lab_enc.fit_transform(y_train)\n",
    "X_test_encoded =X_test.apply(preprocessing.LabelEncoder().fit_transform)\n",
    "y_test_encoded = lab_enc.fit_transform(y_test)\n"
   ]
  },
  {
   "cell_type": "code",
   "execution_count": 6,
   "metadata": {
    "colab": {
     "base_uri": "https://localhost:8080/",
     "height": 69
    },
    "colab_type": "code",
    "id": "fTCRYcJTAOXe",
    "outputId": "cf4f9818-bb24-4f41-fc73-a8f712040ec9"
   },
   "outputs": [
    {
     "name": "stdout",
     "output_type": "stream",
     "text": [
      "Accuracy on training set: 0.929\n",
      "Accuracy on test set: 0.100\n",
      "RMSE: 2943.894\n"
     ]
    }
   ],
   "source": [
    "forest = RandomForestClassifier(n_estimators=5)\n",
    "forest.fit(X_train_encoded, y_train_encoded)\n",
    "pred = forest.predict(X_test)\n",
    "rmse = np.sqrt(mean_squared_error(y_test,pred))\n",
    "\n",
    "print(\"Accuracy on training set: {:.3f}\".format(forest.score(X_train_encoded, y_train_encoded)))\n",
    "print(\"Accuracy on test set: {:.3f}\".format(forest.score(X_test_encoded, y_test_encoded)))\n",
    "print('RMSE: {:.3f}'.format(rmse))"
   ]
  },
  {
   "cell_type": "markdown",
   "metadata": {
    "colab_type": "text",
    "id": "Dax4ZgoSSUW2"
   },
   "source": [
    "### Feature Importances"
   ]
  },
  {
   "cell_type": "code",
   "execution_count": 7,
   "metadata": {},
   "outputs": [
    {
     "data": {
      "text/plain": [
       "dict_keys(['EN.ATM.CO2E.KD.GD', 'NY.GNP.MKTP.KN', 'NY.GNP.MKTP.CN', 'NY.GNP.PCAP.KD.ZG', 'NY.GNP.MKTP.KD', 'NE.CON.GOVT.CN', 'DC.DAC.GBRL.CD', 'AG.PRD.FOOD.XD', 'NE.CON.PRVT.KD.ZG', 'AG.LND.CROP.ZS', 'NY.GNP.PCAP.KD', 'SP.POP.DPND.YG', 'EN.POP.DNST', 'NV.IND.TOTL.KD.ZG', 'SP.POP.DPND.OL', 'NY.GNP.PCAP.KN', 'AG.LND.CREL.HA', 'AG.LND.AGRI.K2', 'AG.YLD.CREL.KG', 'AG.PRD.CREL.MT', 'NV.AGR.TOTL.KN', 'NE.CON.PETC.KD.ZG', 'NE.GDI.TOTL.KD.ZG', 'ER.FSH.AQUA.MT', 'NE.CON.TETC.CN', 'NE.CON.TETC.KN', 'NE.CON.TETC.KD', 'MS.MIL.MPRT.KD', 'NE.CON.TETC.ZS', 'NE.CON.TOTL.CN', 'NE.CON.TOTL.KN', 'NE.CON.TOTL.KD', 'NV.AGR.TOTL.CN', 'NE.CON.GOVT.KD.ZG', 'NV.AGR.TOTL.KD', 'NV.AGR.TOTL.ZS', 'AG.SRF.TOTL.K2', 'AG.PRD.CROP.XD', 'NE.CON.GOVT.KD', 'NE.EXP.GNFS.KD.ZG', 'NE.CON.GOVT.KN', 'NE.CON.GOVT.ZS', 'NE.CON.PRVT.PC.KD.ZG', 'AG.LND.AGRI.ZS', 'NY.GNP.MKTP.KD.ZG', 'EN.URB.LCTY.UR.ZS', 'NE.EXP.GNFS.CN', 'EN.URB.LCTY', 'TM.VAL.MRCH.CD.WT', 'SP.POP.GROW', 'NE.EXP.GNFS.KN', 'NV.IND.TOTL.ZS', 'ER.FSH.CAPT.MT', 'NE.RSB.GNFS.ZS', 'TM.VAL.MRCH.RS.ZS', 'SP.POP.65UP.TO.ZS', 'NE.RSB.GNFS.KN', 'TM.VAL.MRCH.WL.CD', 'SP.POP.1564.TO.ZS', 'EN.URB.MCTY', 'EN.URB.MCTY.TL.ZS', 'SP.RUR.TOTL.ZG', 'SP.RUR.TOTL.ZS', 'NE.EXP.GNFS.ZS', 'SP.RUR.TOTL', 'TX.VAL.MRCH.R1.ZS', 'SP.POP.TOTL', 'SP.POP.TOTL.FE.ZS', 'NE.EXP.GNFS.KD', 'NY.EXP.CAPM.KN', 'TM.VAL.MRCH.HI.ZS', 'SP.DYN.LE00.MA.IN', 'SP.DYN.IMRT.IN', 'DT.ODA.ALLD.KD', 'FP.CPI.TOTL.ZG', 'SH.DYN.MORT', 'DT.ODA.ODAT.PC.ZS', 'DT.ODA.ALLD.CD', 'EN.ATM.CO2E.GF.ZS', 'DC.DAC.USAL.CD', 'DC.DAC.DEUL.CD', 'DC.DAC.TOTL.CD', 'NY.GSR.NFCY.CN', 'NE.RSB.GNFS.CN', 'SP.DYN.AMRT.MA', 'DT.ODA.ODAT.CD', 'SP.POP.0014.TO.ZS', 'NV.IND.TOTL.KD', 'NV.IND.TOTL.KN', 'DT.ODA.ODAT.KD', 'SP.DYN.CBRT.IN', 'SH.DTH.MORT', 'TM.VAL.MRCH.OR.ZS', 'SH.DTH.IMRT', 'NV.IND.TOTL.CN', 'SP.DYN.AMRT.FE', 'TM.VAL.MRCH.R5.ZS', 'NE.IMP.GNFS.CN', 'NY.GDP.DISC.CN', 'NE.DAB.TOTL.CN', 'SP.DYN.TFRT.IN', 'NE.DAB.DEFL.ZS', 'SP.DYN.LE00.IN', 'NE.CON.PRVT.KD', 'NE.DAB.TOTL.KN', 'NE.CON.PRVT.KN', 'NE.CON.PRVT.PC.KD', 'NE.CON.PETC.ZS', 'EN.ATM.CO2E.GF.KT', 'NE.CON.PETC.KD', 'NE.CON.PETC.KN', 'NE.CON.PETC.CN', 'NE.CON.PRVT.CN', 'SP.URB.GROW', 'NE.DAB.TOTL.KD', 'NY.GDS.TOTL.CN', 'NE.DAB.TOTL.ZS', 'BX.GRT.EXTA.CD.WD', 'NE.GDI.TOTL.KD', 'NE.GDI.TOTL.KN', 'NE.GDI.TOTL.CN', 'NY.GDY.TOTL.KN', 'NY.GDS.TOTL.ZS', 'EN.ATM.CO2E.KT', 'NE.GDI.TOTL.ZS', 'TX.VAL.MRCH.RS.ZS', 'SP.URB.TOTL.IN.ZS', 'NV.IND.MANF.KD', 'NV.SRV.TETC.CN', 'FP.CPI.TOTL', 'NE.IMP.GNFS.KD', 'NV.IND.MANF.KN', 'NV.SRV.TETC.KN', 'EN.ATM.CO2E.SF.KT', 'NV.IND.MANF.CN', 'SP.DYN.CDRT.IN', 'TX.VAL.MRCH.CD.WT', 'NY.GDP.DISC.KN', 'NV.SRV.TETC.ZS', 'NE.IMP.GNFS.KN', 'TX.VAL.MRCH.WL.CD', 'NV.SRV.TETC.KD', 'SP.URB.TOTL', 'EN.ATM.CO2E.SF.ZS', 'NV.IND.MANF.ZS', 'SP.DYN.LE00.FE.IN', 'NE.TRD.GNFS.ZS', 'FI.RES.XGLD.CD', 'EN.ATM.CO2E.PC', 'SP.DYN.TO65.FE.ZS', 'FI.RES.TOTL.CD', 'NE.IMP.GNFS.ZS', 'NY.TTF.GNFS.KN', 'BX.GRT.TECH.CD.WD', 'EN.ATM.CO2E.LF.ZS', 'EN.ATM.CO2E.LF.KT', 'SP.DYN.TO65.MA.ZS', 'ER.FSH.PROD.MT', 'AG.LND.ARBL.HA.PC', 'AG.LND.TOTL.K2', 'SP.POP.DPND', 'NY.GNP.PCAP.CN', 'NY.GDP.DEFL.KD.ZG', 'NV.IND.MANF.KD.ZG', 'AG.LND.ARBL.HA', 'NE.IMP.GNFS.KD.ZG', 'DC.DAC.JPNL.CD', 'SP.ADO.TFRT', 'AG.LND.ARBL.ZS', 'AG.PRD.LVSK.XD', 'NV.SRV.TETC.KD.ZG'])"
      ]
     },
     "execution_count": 7,
     "metadata": {},
     "output_type": "execute_result"
    }
   ],
   "source": [
    "pFile.keys()"
   ]
  },
  {
   "cell_type": "code",
   "execution_count": 8,
   "metadata": {
    "colab": {
     "base_uri": "https://localhost:8080/",
     "height": 208
    },
    "colab_type": "code",
    "id": "Zla_O4ms6Xzl",
    "outputId": "2de5b18f-5c66-451c-caaa-f0aa08b28a82"
   },
   "outputs": [
    {
     "name": "stdout",
     "output_type": "stream",
     "text": [
      "Top 10 Indicator ranking :\n",
      "1. CO2 emissions (kg per 2010 US$ of GDP) -> 0.033078\n",
      "2. GNI (constant LCU) -> 0.031778\n",
      "3. GNI (current LCU) -> 0.029782\n",
      "4. GNI per capita growth (annual %) -> 0.028801\n",
      "5. GNI (constant 2010 US$) -> 0.026610\n",
      "6. General government final consumption expenditure (current LCU) -> 0.025048\n",
      "7. Net bilateral aid flows from DAC donors, United Kingdom (current US$) -> 0.024653\n",
      "8. Food production index (2004-2006 = 100) -> 0.022253\n",
      "9. Permanent cropland (% of land area) -> 0.019733\n",
      "10. GNI per capita (constant 2010 US$) -> 0.019275\n"
     ]
    }
   ],
   "source": [
    "importances = forest.feature_importances_\n",
    "indices = np.argsort(importances)[::-1]\n",
    "\n",
    "# Print the feature ranking\n",
    "print(\"Top 10 Indicator ranking :\")\n",
    "for f in range(10):\n",
    "    print(\"%d. %s -> %f\" % (f + 1, pFile[df_X.columns[f]], importances[indices[f]]))"
   ]
  },
  {
   "cell_type": "code",
   "execution_count": null,
   "metadata": {},
   "outputs": [],
   "source": []
  }
 ],
 "metadata": {
  "accelerator": "TPU",
  "colab": {
   "name": "RidgeRegression_and_RandomForest.ipynb",
   "provenance": []
  },
  "kernelspec": {
   "display_name": "Python 3",
   "language": "python",
   "name": "python3"
  },
  "language_info": {
   "codemirror_mode": {
    "name": "ipython",
    "version": 3
   },
   "file_extension": ".py",
   "mimetype": "text/x-python",
   "name": "python",
   "nbconvert_exporter": "python",
   "pygments_lexer": "ipython3",
   "version": "3.7.3"
  }
 },
 "nbformat": 4,
 "nbformat_minor": 1
}
