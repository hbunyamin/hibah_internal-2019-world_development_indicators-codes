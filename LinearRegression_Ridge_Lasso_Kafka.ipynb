{
 "cells": [
  {
   "cell_type": "markdown",
   "metadata": {
    "colab_type": "text",
    "id": "9_zdQ6e-MD2K"
   },
   "source": [
    "## Importing from Google Drive"
   ]
  },
  {
   "cell_type": "code",
   "execution_count": 0,
   "metadata": {
    "colab": {},
    "colab_type": "code",
    "id": "IM29H75QJDiG"
   },
   "outputs": [],
   "source": [
    "# from google.colab import drive\n",
    "# from pandas import read_csv\n",
    "# from sklearn.model_selection import train_test_split\n",
    "# from matplotlib import pyplot as plt\n",
    "# import numpy as np\n",
    "# from pandas import read_pickle\n",
    "# import pickle\n",
    "\n",
    "# !pip install mglearn\n",
    "# drive.mount('/content/gdrive')\n",
    "# root_path = 'gdrive/My Drive/Colab Notebooks/dataset-and-dict/'\n",
    "\n",
    "# df_X = read_csv(root_path+'df_X_with_year_column.csv', header=0, index_col=0)\n",
    "# df_Y = read_csv(root_path+'df_Y_GDP_constant_2010_USD.csv', header=0, index_col=0)"
   ]
  },
  {
   "cell_type": "code",
   "execution_count": 3,
   "metadata": {},
   "outputs": [],
   "source": [
    "from pandas import read_csv\n",
    "from sklearn.model_selection import train_test_split\n",
    "from matplotlib import pyplot as plt\n",
    "import numpy as np\n",
    "from pandas import read_pickle\n",
    "import pickle\n",
    "\n",
    "from pathlib import Path\n",
    "root_path = Path('/home/hendra/Datasets/WDI_Indonesia')\n",
    "\n",
    "df_X = read_csv(root_path / 'df_X_with_year_column.csv', header=0, index_col=0)\n",
    "df_Y = read_csv(root_path / 'df_Y_GDP_constant_2010_USD.csv', header=0, index_col=0)"
   ]
  },
  {
   "cell_type": "markdown",
   "metadata": {
    "colab_type": "text",
    "id": "G5EdHaOWMnHS"
   },
   "source": [
    "## Linear Regression"
   ]
  },
  {
   "cell_type": "code",
   "execution_count": 5,
   "metadata": {
    "colab": {},
    "colab_type": "code",
    "id": "J446orGTlhvE"
   },
   "outputs": [
    {
     "name": "stdout",
     "output_type": "stream",
     "text": [
      "lr.intercept_: [332.95234522]\n",
      "Training set score: 1.00\n",
      "Test set score: 0.73\n",
      "lr.coef_: [[-1.74978184e-24 -4.64636408e-13  8.98746969e-14 -1.34813236e-23\n",
      "  -5.02377208e-17 -4.77556516e-14  3.46762200e-17 -1.77212238e-24\n",
      "  -3.40949134e-25 -2.28287839e-24 -3.05600690e-24  3.64710844e-24\n",
      "   6.82408038e-23  1.08795664e-25 -2.06344690e-20 -7.51448096e-18\n",
      "   4.96577957e-21  6.26252156e-22 -9.43248254e-18 -3.82835184e-13\n",
      "  -6.68307768e-23 -6.29317751e-22 -1.03169012e-13  2.71288549e-14\n",
      "   3.08133223e-18 -2.76901244e-16 -4.16242155e-23  6.72976063e-13\n",
      "   1.52699916e-13  1.68472600e-17  6.62045159e-13 -1.82497953e-23\n",
      "  -4.23512884e-17 -1.80882117e-23 -2.41608399e-24 -2.54276516e-17\n",
      "  -2.30999650e-13 -2.53457493e-25  2.74114842e-25 -1.28780010e-23\n",
      "  -7.13112810e-25 -1.92848966e-13  3.17718523e-19 -1.90511125e-15\n",
      "  -8.58715718e-26  3.78843505e-13  1.56854907e-23 -1.59366709e-19\n",
      "   1.55727582e-23  2.32406017e-23  1.05141378e-25  4.33655956e-13\n",
      "  -2.06052241e-15  7.93837992e-25  6.56032458e-19  8.00939022e-26\n",
      "  -1.29987830e-24 -7.89008507e-25  1.53607836e-23  4.77213451e-18\n",
      "  -1.56858549e-23  6.68840082e-18  4.34298526e-26  4.19371812e-17\n",
      "   8.49725122e-14 -2.16395958e-23  8.61052780e-25 -3.76691295e-24\n",
      "  -3.02895088e-15  8.22193433e-23 -7.45852189e-24 -5.36882313e-24\n",
      "  -7.00893480e-16 -1.69188595e-23 -3.50521115e-16  2.13466435e-16\n",
      "  -7.66960539e-16  1.09328686e-12 -9.54655888e-13 -1.63198856e-24\n",
      "  -7.00893480e-16 -8.98979302e-25  5.77559796e-18  4.98041635e-14\n",
      "  -3.02895088e-15 -1.92500005e-24 -3.38348808e-20 -4.39333826e-24\n",
      "  -2.36410500e-20  9.29784313e-13  7.78434263e-25 -4.82484140e-24\n",
      "   7.61743746e-13 -7.75745038e-13 -4.84030634e-14 -2.61939225e-25\n",
      "   2.11000600e-25  8.16191091e-25  4.89478817e-17  1.02005588e-13\n",
      "   4.49350998e-13 -5.54650506e-23 -4.13707581e-23 -1.17147709e-20\n",
      "  -3.32957862e-17 -2.98335808e-13 -5.56759623e-14  7.20436565e-13\n",
      "   5.64562160e-24  1.17769076e-17 -9.00018697e-13 -1.55727584e-23\n",
      "   1.41923186e-16  8.20144267e-18  7.30768908e-14  5.47365913e-14\n",
      "   5.32170831e-13  4.16242155e-23 -3.66060622e-20  2.60514573e-23\n",
      "   2.84583813e-23  7.89008507e-25 -5.12782272e-17 -2.59474490e-12\n",
      "  -6.30473038e-25 -3.85757580e-17 -4.65071038e-13  5.91461609e-13\n",
      "   6.22212980e-22 -1.42619463e-12 -6.21413871e-25 -5.20719864e-15\n",
      "  -6.21045972e-20  2.40272100e-24 -3.50616738e-13 -5.58533193e-15\n",
      "   6.51977935e-17  1.91626630e-18  3.53898896e-24  5.09719764e-24\n",
      "   7.69086334e-25  1.51488089e-23 -5.63561185e-16 -2.45544643e-25\n",
      "   8.37048854e-25  1.36069929e-16 -2.11974666e-25 -2.97933585e-13\n",
      "  -2.96714729e-17 -5.97007653e-25 -1.42989557e-20  1.25783522e-24\n",
      "  -1.59996027e-19  8.57809013e-28 -2.82059996e-24  1.04151784e-20\n",
      "   1.29268308e-22  3.71936916e-23  9.51613899e-19 -4.85348002e-16\n",
      "  -3.81040270e-23  5.25297891e-25  9.65631589e-24]]\n"
     ]
    }
   ],
   "source": [
    "from sklearn.linear_model import LinearRegression\n",
    "#import mglearn\n",
    "\n",
    "X_train, X_test, y_train, y_test = train_test_split(df_X, df_Y, train_size=0.4)\n",
    "\n",
    "lr = LinearRegression().fit(X_train, y_train)\n",
    "  \n",
    "print(\"lr.intercept_: {}\".format(lr.intercept_))\n",
    "print(\"Training set score: {:.2f}\".format(lr.score(X_train, y_train)))\n",
    "print(\"Test set score: {:.2f}\".format(lr.score(X_test, y_test)))\n",
    "print(\"lr.coef_: {}\".format(lr.coef_))"
   ]
  },
  {
   "cell_type": "code",
   "execution_count": 7,
   "metadata": {
    "colab": {},
    "colab_type": "code",
    "id": "wQDdydyOkEvo"
   },
   "outputs": [],
   "source": [
    "pFile = read_pickle(root_path / \"code_to_name_dict_of_indicator_names.p\")"
   ]
  },
  {
   "cell_type": "code",
   "execution_count": 8,
   "metadata": {
    "colab": {},
    "colab_type": "code",
    "id": "DagNhi3ah9ST"
   },
   "outputs": [],
   "source": [
    "coefficient = lr.coef_"
   ]
  },
  {
   "cell_type": "code",
   "execution_count": 9,
   "metadata": {
    "colab": {},
    "colab_type": "code",
    "id": "jYsFDkTDiOQw"
   },
   "outputs": [
    {
     "data": {
      "text/plain": [
       "numpy.ndarray"
      ]
     },
     "execution_count": 9,
     "metadata": {},
     "output_type": "execute_result"
    }
   ],
   "source": [
    "type(coefficient)"
   ]
  },
  {
   "cell_type": "code",
   "execution_count": 10,
   "metadata": {
    "colab": {},
    "colab_type": "code",
    "id": "bEZqQ5UmiSQg"
   },
   "outputs": [
    {
     "data": {
      "text/plain": [
       "(1, 163)"
      ]
     },
     "execution_count": 10,
     "metadata": {},
     "output_type": "execute_result"
    }
   ],
   "source": [
    "coefficient.shape"
   ]
  },
  {
   "cell_type": "code",
   "execution_count": 11,
   "metadata": {
    "colab": {},
    "colab_type": "code",
    "id": "js_sZ9o5ibiN"
   },
   "outputs": [],
   "source": [
    "coef_transpose = coefficient.T"
   ]
  },
  {
   "cell_type": "code",
   "execution_count": 12,
   "metadata": {
    "colab": {},
    "colab_type": "code",
    "id": "3n4OQ6XPikhF"
   },
   "outputs": [
    {
     "data": {
      "text/plain": [
       "(163, 1)"
      ]
     },
     "execution_count": 12,
     "metadata": {},
     "output_type": "execute_result"
    }
   ],
   "source": [
    "coef_transpose.shape"
   ]
  },
  {
   "cell_type": "code",
   "execution_count": 13,
   "metadata": {
    "colab": {},
    "colab_type": "code",
    "id": "EBGusfB6i8fV"
   },
   "outputs": [],
   "source": [
    "indices = np.argsort(coef_transpose)[::-1]"
   ]
  },
  {
   "cell_type": "code",
   "execution_count": 14,
   "metadata": {
    "colab": {},
    "colab_type": "code",
    "id": "xN_y0jPQlA_x"
   },
   "outputs": [
    {
     "data": {
      "text/plain": [
       "1.0932868564109697e-12"
      ]
     },
     "execution_count": 14,
     "metadata": {},
     "output_type": "execute_result"
    }
   ],
   "source": [
    "np.max(coef_transpose)"
   ]
  },
  {
   "cell_type": "code",
   "execution_count": 15,
   "metadata": {
    "colab": {},
    "colab_type": "code",
    "id": "hVUDdc6xjPx8"
   },
   "outputs": [
    {
     "name": "stdout",
     "output_type": "stream",
     "text": [
      "Top 10 :\n",
      "1. CO2 emissions (kg per 2010 US$ of GDP) -> -0.000000\n",
      "2. GNI (constant LCU) -> -0.000000\n",
      "3. GNI (current LCU) -> -0.000000\n",
      "4. GNI per capita growth (annual %) -> -0.000000\n",
      "5. GNI (constant 2010 US$) -> -0.000000\n",
      "6. General government final consumption expenditure (current LCU) -> -0.000000\n",
      "7. Net bilateral aid flows from DAC donors, United Kingdom (current US$) -> -0.000000\n",
      "8. Food production index (2004-2006 = 100) -> -0.000000\n",
      "9. Permanent cropland (% of land area) -> -0.000000\n",
      "10. GNI per capita (constant 2010 US$) -> -0.000000\n"
     ]
    }
   ],
   "source": [
    "print(\"Top 10 :\")\n",
    "for f in range(10):\n",
    "  print(\"%d. %s -> %f\" % (f+1, pFile[df_X.columns[f]], coef_transpose[indices[f]]))"
   ]
  },
  {
   "cell_type": "markdown",
   "metadata": {
    "colab_type": "text",
    "id": "R_kwJAXEM0LI"
   },
   "source": [
    "## Ridge Regression"
   ]
  },
  {
   "cell_type": "code",
   "execution_count": 16,
   "metadata": {
    "colab": {},
    "colab_type": "code",
    "id": "RFO40V8NLEK8"
   },
   "outputs": [
    {
     "name": "stdout",
     "output_type": "stream",
     "text": [
      "Training set score: 1.00\n",
      "Test set score: 1.00\n"
     ]
    },
    {
     "name": "stderr",
     "output_type": "stream",
     "text": [
      "/home/hendra/anaconda3/lib/python3.7/site-packages/sklearn/linear_model/ridge.py:189: UserWarning: Singular matrix in solving dual problem. Using least-squares solution instead.\n",
      "  warnings.warn(\"Singular matrix in solving dual problem. Using \"\n"
     ]
    }
   ],
   "source": [
    "from sklearn.linear_model import Ridge\n",
    "\n",
    "X_train, X_test, y_train, y_test = train_test_split(df_X, df_Y, train_size=0.25)\n",
    "\n",
    "ridge = Ridge().fit(X_train, y_train)\n",
    "\n",
    "print(\"Training set score: {:.2f}\".format(ridge.score(X_train, y_train)))\n",
    "print(\"Test set score: {:.2f}\".format(ridge.score(X_test, y_test)))"
   ]
  },
  {
   "cell_type": "markdown",
   "metadata": {
    "colab_type": "text",
    "id": "xQznIWkxM47b"
   },
   "source": [
    "## Lasso"
   ]
  },
  {
   "cell_type": "code",
   "execution_count": 17,
   "metadata": {
    "colab": {},
    "colab_type": "code",
    "id": "iSOgN3zxLdRj"
   },
   "outputs": [
    {
     "name": "stdout",
     "output_type": "stream",
     "text": [
      "Training set score: 1.00\n",
      "Test set score: -329752379.23\n",
      "Number of features used: 163\n",
      "[ 0.00000000e+00  4.22997068e-13 -3.99657525e-15 -0.00000000e+00\n",
      "  2.84141295e-11 -1.26143199e-14  9.79710990e-07 -0.00000000e+00\n",
      " -0.00000000e+00 -2.59314229e-02 -0.00000000e+00  2.26164630e-02\n",
      " -8.57346815e-02  0.00000000e+00 -3.08765347e-07  2.45386262e-05\n",
      " -7.05407193e-04  4.52865727e-02  1.51536279e-07 -3.31671736e-14\n",
      " -2.31443609e-01 -1.80328579e-05 -8.73675241e-16  2.75765854e-15\n",
      " -3.35428087e-15 -1.24718146e-08 -0.00000000e+00 -2.25682029e-15\n",
      "  6.74197541e-16  6.36972565e-16  1.53519382e-14  0.00000000e+00\n",
      "  6.33194325e-10 -0.00000000e+00 -0.00000000e+00  5.74069094e-10\n",
      "  5.14093224e-19  0.00000000e+00 -0.00000000e+00 -0.00000000e+00\n",
      "  0.00000000e+00 -3.51421170e-14 -9.63304018e-07 -6.18017524e-10\n",
      " -0.00000000e+00  1.51894767e-14  0.00000000e+00  7.06308086e-07\n",
      "  0.00000000e+00  0.00000000e+00  0.00000000e+00  3.77009205e-13\n",
      "  1.18823252e-11 -0.00000000e+00 -9.09173535e-07  0.00000000e+00\n",
      " -0.00000000e+00  0.00000000e+00  0.00000000e+00 -3.78190855e-07\n",
      " -0.00000000e+00 -3.89424547e-08  0.00000000e+00 -2.03724401e-10\n",
      "  1.06343093e-14 -0.00000000e+00  0.00000000e+00 -0.00000000e+00\n",
      " -2.56404140e-08 -3.03555163e-01  0.00000000e+00  0.00000000e+00\n",
      "  1.49839466e-08 -0.00000000e+00 -4.70445606e-07  1.44300570e-07\n",
      "  3.96112349e-08 -8.50610677e-13 -4.98166742e-13  6.82748026e-01\n",
      " -3.25184308e-08  0.00000000e+00 -1.01640179e-10  5.92706399e-19\n",
      "  5.07416255e-09 -0.00000000e+00  2.88882120e-05  0.00000000e+00\n",
      " -1.55489449e-05 -3.29617311e-15  0.00000000e+00  0.00000000e+00\n",
      "  1.94765836e-14 -3.67637438e-13 -5.65857056e-15  0.00000000e+00\n",
      "  0.00000000e+00 -0.00000000e+00 -9.56361407e-11 -9.39344897e-17\n",
      "  1.58706330e-16 -0.00000000e+00 -4.92685450e-02 -2.37872123e-04\n",
      "  5.01956222e-11 -7.87402167e-19  4.86650911e-15  1.67118121e-16\n",
      "  0.00000000e+00 -2.32373690e-11  2.57176511e-14 -0.00000000e+00\n",
      " -7.49428614e-08 -6.82454053e-11 -4.18034911e-19  3.61036517e-14\n",
      " -1.49189265e-16  0.00000000e+00  1.90328463e-04  0.00000000e+00\n",
      "  0.00000000e+00 -0.00000000e+00 -4.92538438e-10  3.61329487e-15\n",
      "  0.00000000e+00 -1.72311776e-10  1.23784992e-14 -2.36897309e-14\n",
      "  1.04897572e-04  2.42832101e-14 -0.00000000e+00 -1.12587335e-11\n",
      " -3.70924440e-07  0.00000000e+00  1.48438969e-16  1.54238977e-10\n",
      " -2.18447707e-10  7.90980083e-07 -0.00000000e+00 -0.00000000e+00\n",
      "  0.00000000e+00  0.00000000e+00  3.71653308e-10  0.00000000e+00\n",
      "  0.00000000e+00 -2.20401196e-11  0.00000000e+00  2.36997565e-13\n",
      " -1.49543483e-08  0.00000000e+00  6.93014770e-04 -0.00000000e+00\n",
      " -2.23767644e-05 -0.00000000e+00 -0.00000000e+00  4.07145026e-07\n",
      " -0.00000000e+00 -4.93624451e-01 -1.34369124e-05  6.73647674e-08\n",
      " -0.00000000e+00  0.00000000e+00 -0.00000000e+00]\n"
     ]
    },
    {
     "data": {
      "text/plain": [
       "Text(0, 0.5, 'Coefficient magnitude')"
      ]
     },
     "execution_count": 17,
     "metadata": {},
     "output_type": "execute_result"
    },
    {
     "data": {
      "image/png": "[encoded data removed]",
      "text/plain": [
       "<Figure size 432x288 with 1 Axes>"
      ]
     },
     "metadata": {
      "needs_background": "light"
     },
     "output_type": "display_data"
    }
   ],
   "source": [
    "from sklearn.linear_model import Lasso\n",
    "import numpy as np\n",
    "\n",
    "X_train, X_test, y_train, y_test = train_test_split(df_X, df_Y, train_size=0.4)\n",
    "\n",
    "lasso = Lasso().fit(X_train, y_train)\n",
    "\n",
    "lasso001 = Lasso(alpha=0.0001, max_iter=100000).fit(X_train, y_train)\n",
    "\n",
    "print(\"Training set score: {:.2f}\".format(lasso001.score(X_train, y_train)))\n",
    "print(\"Test set score: {:.2f}\".format(lasso001.score(X_test, y_test)))\n",
    "print(\"Number of features used: {}\".format(np.sum(lasso001.coef_ != 0)))\n",
    "print(lasso.coef_)\n",
    "\n",
    "plt.plot(lasso.coef_, 's', label=\"Lasso alpha=1\")\n",
    "plt.plot(lasso001.coef_, '^', label=\"Lasso alpha=0.01\")\n",
    "plt.legend(ncol=2, loc=(0, 1.05))\n",
    "plt.ylim(-25, 25)\n",
    "plt.xlabel(\"Coefficient index\")\n",
    "plt.ylabel(\"Coefficient magnitude\")"
   ]
  },
  {
   "cell_type": "code",
   "execution_count": 18,
   "metadata": {
    "colab": {},
    "colab_type": "code",
    "id": "ditZ8HWilp9t"
   },
   "outputs": [],
   "source": [
    "lassoCoef1 = lasso.coef_\n",
    "lassoCoef2 = lasso001.coef_"
   ]
  },
  {
   "cell_type": "code",
   "execution_count": 19,
   "metadata": {
    "colab": {},
    "colab_type": "code",
    "id": "LFOL_yq3l-Bn"
   },
   "outputs": [
    {
     "data": {
      "text/plain": [
       "(163,)"
      ]
     },
     "execution_count": 19,
     "metadata": {},
     "output_type": "execute_result"
    }
   ],
   "source": [
    "lassoCoef2.shape"
   ]
  },
  {
   "cell_type": "code",
   "execution_count": 20,
   "metadata": {
    "colab": {},
    "colab_type": "code",
    "id": "7gKpZlALmOIq"
   },
   "outputs": [],
   "source": [
    "lassoCoef1Trans = lassoCoef1.T\n",
    "lassoCoef2Trans = lassoCoef2.T"
   ]
  },
  {
   "cell_type": "code",
   "execution_count": 21,
   "metadata": {
    "colab": {},
    "colab_type": "code",
    "id": "2T3wYzLGmbKw"
   },
   "outputs": [],
   "source": [
    "indices1 = np.argsort(lassoCoef1Trans)[::-1]\n",
    "indices2 = np.argsort(lassoCoef2Trans)[::-1]"
   ]
  },
  {
   "cell_type": "code",
   "execution_count": 22,
   "metadata": {
    "colab": {},
    "colab_type": "code",
    "id": "LkggZG0knMOD"
   },
   "outputs": [
    {
     "name": "stdout",
     "output_type": "stream",
     "text": [
      "0.682748026012808\n",
      "4204.509197273248\n"
     ]
    }
   ],
   "source": [
    "print(np.max(lassoCoef1Trans))\n",
    "print(np.max(lassoCoef2Trans))"
   ]
  },
  {
   "cell_type": "code",
   "execution_count": 23,
   "metadata": {
    "colab": {},
    "colab_type": "code",
    "id": "5aJti1-Jo_l5"
   },
   "outputs": [
    {
     "name": "stdout",
     "output_type": "stream",
     "text": [
      "Top 10 Lasso 1:\n",
      "1. CO2 emissions (kg per 2010 US$ of GDP) -> 0.682748\n",
      "2. GNI (constant LCU) -> 0.045287\n",
      "3. GNI (current LCU) -> 0.022616\n",
      "4. GNI per capita growth (annual %) -> 0.000693\n",
      "5. GNI (constant 2010 US$) -> 0.000190\n",
      "6. General government final consumption expenditure (current LCU) -> 0.000105\n",
      "7. Net bilateral aid flows from DAC donors, United Kingdom (current US$) -> 0.000029\n",
      "8. Food production index (2004-2006 = 100) -> 0.000025\n",
      "9. Permanent cropland (% of land area) -> 0.000001\n",
      "10. GNI per capita (constant 2010 US$) -> 0.000001\n"
     ]
    }
   ],
   "source": [
    "print(\"Top 10 Lasso 1:\")\n",
    "for f in range(10):\n",
    "  print(\"%d. %s -> %f\" % (f+1, pFile[df_X.columns[f]], lassoCoef1Trans[indices1[f]]))"
   ]
  },
  {
   "cell_type": "code",
   "execution_count": 24,
   "metadata": {
    "colab": {},
    "colab_type": "code",
    "id": "GBhgNqYWpb6D"
   },
   "outputs": [
    {
     "name": "stdout",
     "output_type": "stream",
     "text": [
      "Top 10 Lasso 2:\n",
      "1. CO2 emissions (kg per 2010 US$ of GDP) -> 4204.509197\n",
      "2. GNI (constant LCU) -> 690.841888\n",
      "3. GNI (current LCU) -> 28.976708\n",
      "4. GNI per capita growth (annual %) -> 15.042963\n",
      "5. GNI (constant 2010 US$) -> 14.894958\n",
      "6. General government final consumption expenditure (current LCU) -> 8.315103\n",
      "7. Net bilateral aid flows from DAC donors, United Kingdom (current US$) -> 8.043102\n",
      "8. Food production index (2004-2006 = 100) -> 7.412775\n",
      "9. Permanent cropland (% of land area) -> 6.736896\n",
      "10. GNI per capita (constant 2010 US$) -> 5.186096\n"
     ]
    }
   ],
   "source": [
    "print(\"Top 10 Lasso 2:\")\n",
    "for f in range(10):\n",
    "  print(\"%d. %s -> %f\" % (f+1, pFile[df_X.columns[f]], lassoCoef2Trans[indices2[f]]))"
   ]
  },
  {
   "cell_type": "code",
   "execution_count": null,
   "metadata": {},
   "outputs": [],
   "source": []
  }
 ],
 "metadata": {
  "colab": {
   "name": "LinearRegression_Ridge_Lasso-Kafka.ipynb",
   "provenance": []
  },
  "kernelspec": {
   "display_name": "Python 3",
   "language": "python",
   "name": "python3"
  },
  "language_info": {
   "codemirror_mode": {
    "name": "ipython",
    "version": 3
   },
   "file_extension": ".py",
   "mimetype": "text/x-python",
   "name": "python",
   "nbconvert_exporter": "python",
   "pygments_lexer": "ipython3",
   "version": "3.7.3"
  }
 },
 "nbformat": 4,
 "nbformat_minor": 1
}
