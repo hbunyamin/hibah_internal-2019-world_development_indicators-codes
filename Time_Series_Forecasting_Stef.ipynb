{
 "cells": [
  {
   "cell_type": "markdown",
   "metadata": {},
   "source": [
    "# AR Model"
   ]
  },
  {
   "cell_type": "markdown",
   "metadata": {},
   "source": [
    "All the libraries:"
   ]
  },
  {
   "cell_type": "code",
   "execution_count": 1,
   "metadata": {},
   "outputs": [],
   "source": [
    "%matplotlib notebook\n",
    "%matplotlib inline"
   ]
  },
  {
   "cell_type": "code",
   "execution_count": 3,
   "metadata": {},
   "outputs": [],
   "source": [
    "import pandas as pd\n",
    "import numpy as np\n",
    "from pandas import Series\n",
    "from matplotlib import pyplot as plt\n",
    "from matplotlib.pyplot import xticks\n",
    "\n",
    "from statsmodels.tsa.ar_model import AR\n",
    "from statsmodels.tsa.arima_model import ARMA\n",
    "from statsmodels.tsa.arima_model import ARIMA\n",
    "from statsmodels.tsa.statespace.sarimax import SARIMAX\n",
    "from statsmodels.tsa.holtwinters import SimpleExpSmoothing\n",
    "from statsmodels.tsa.holtwinters import ExponentialSmoothing\n",
    "\n",
    "from sklearn.metrics import mean_squared_error\n",
    "from sklearn.metrics import mean_absolute_error\n",
    "from sklearn.metrics import mean_squared_error\n",
    "\n",
    "from pathlib import Path"
   ]
  },
  {
   "cell_type": "code",
   "execution_count": 4,
   "metadata": {},
   "outputs": [],
   "source": [
    "WDI_path = Path( \"/home/hendra/Datasets/WDI_Indonesia/\" )"
   ]
  },
  {
   "cell_type": "code",
   "execution_count": null,
   "metadata": {},
   "outputs": [],
   "source": [
    "#WDI_path = \"/home/hendra/Datasets/WDI_Indonesia/\""
   ]
  },
  {
   "cell_type": "code",
   "execution_count": 6,
   "metadata": {},
   "outputs": [],
   "source": [
    "WDI_df = pd.read_csv( WDI_path / \"completed_values_1962_2013_design_matrix_with_codes_by_year.csv\" )\n",
    "# WDI_df = pd.read_csv(\"completed_values_1962_2013_design_matrix_with_codes_by_year.csv\")"
   ]
  },
  {
   "cell_type": "markdown",
   "metadata": {},
   "source": [
    "The indicator name is displayed below:"
   ]
  },
  {
   "cell_type": "code",
   "execution_count": 7,
   "metadata": {},
   "outputs": [
    {
     "data": {
      "text/plain": [
       "'EN.ATM.CO2E.KD.GD'"
      ]
     },
     "execution_count": 7,
     "metadata": {},
     "output_type": "execute_result"
    }
   ],
   "source": [
    "WDI_df.columns[1]"
   ]
  },
  {
   "cell_type": "markdown",
   "metadata": {},
   "source": [
    "We divide the dataset into 2 as follows: _train set_ and _test set_.         \n",
    "The _train set_ and _test set_ comprise of 49 (from 1962 to 2010) and 3 (from 2011 to 2013) examples respectively."
   ]
  },
  {
   "cell_type": "code",
   "execution_count": 9,
   "metadata": {},
   "outputs": [
    {
     "data": {
      "text/plain": [
       "(52, 172)"
      ]
     },
     "execution_count": 9,
     "metadata": {},
     "output_type": "execute_result"
    }
   ],
   "source": [
    "WDI_df.shape"
   ]
  },
  {
   "cell_type": "code",
   "execution_count": 10,
   "metadata": {},
   "outputs": [],
   "source": [
    "train_set, test_set = WDI_df.iloc[:49, 1], WDI_df.iloc[49:,1]"
   ]
  },
  {
   "cell_type": "code",
   "execution_count": 11,
   "metadata": {},
   "outputs": [
    {
     "data": {
      "text/plain": [
       "(49, 3)"
      ]
     },
     "execution_count": 11,
     "metadata": {},
     "output_type": "execute_result"
    }
   ],
   "source": [
    "len(train_set), len(test_set)"
   ]
  },
  {
   "cell_type": "markdown",
   "metadata": {},
   "source": [
    "We train the **AR** model."
   ]
  },
  {
   "cell_type": "code",
   "execution_count": 13,
   "metadata": {},
   "outputs": [],
   "source": [
    "ar_model = AR(train_set)\n",
    "ar_model_fit = ar_model.fit(disp=False)"
   ]
  },
  {
   "cell_type": "markdown",
   "metadata": {},
   "source": [
    "Next we make predictions. "
   ]
  },
  {
   "cell_type": "code",
   "execution_count": 14,
   "metadata": {},
   "outputs": [
    {
     "name": "stdout",
     "output_type": "stream",
     "text": [
      "49    0.540190\n",
      "50    0.541905\n",
      "51    0.544837\n",
      "dtype: float64\n"
     ]
    }
   ],
   "source": [
    "ar_predictions = ar_model_fit.predict(len(train_set), len(train_set)+2)\n",
    "print(ar_predictions)"
   ]
  },
  {
   "cell_type": "markdown",
   "metadata": {},
   "source": [
    "We create a list of years which we predict."
   ]
  },
  {
   "cell_type": "code",
   "execution_count": 15,
   "metadata": {},
   "outputs": [],
   "source": [
    "test_year = [2011, 2012, 2013]"
   ]
  },
  {
   "cell_type": "markdown",
   "metadata": {},
   "source": [
    "#### Referensi untuk menghitung [_performance measure_](https://machinelearningmastery.com/time-series-forecasting-performance-measures-with-python)."
   ]
  },
  {
   "cell_type": "code",
   "execution_count": 16,
   "metadata": {
    "scrolled": true
   },
   "outputs": [
    {
     "name": "stdout",
     "output_type": "stream",
     "text": [
      "MFE: 0.109288\n",
      "MAE: 0.116344\n",
      "MSE: 0.019151\n",
      "RMSE: 0.138387\n"
     ]
    }
   ],
   "source": [
    "# Mean Forecast Error\n",
    "forecast_errors = [test_set.values[i]-ar_predictions.values[i] for i in range(len(test_set))]\n",
    "ar_mfe = sum(forecast_errors) * 1.0/len(test_set)\n",
    "print('MFE: %f' % ar_mfe)\n",
    "\n",
    "# Mean Absolute Error\n",
    "ar_mae = mean_absolute_error(test_set, ar_predictions)\n",
    "print('MAE: %f' % ar_mae)\n",
    "\n",
    "# Mean Squared Error\n",
    "ar_mse = mean_squared_error(test_set, ar_predictions)\n",
    "print('MSE: %f' % ar_mse)\n",
    "\n",
    "# Root Mean Squared Error\n",
    "ar_rmse = np.sqrt(ar_mse)\n",
    "print('RMSE: %f' % ar_rmse)"
   ]
  },
  {
   "cell_type": "markdown",
   "metadata": {},
   "source": [
    "Let us plot our predictions dan true values."
   ]
  },
  {
   "cell_type": "code",
   "execution_count": 17,
   "metadata": {},
   "outputs": [
    {
     "data": {
      "text/plain": [
       "<matplotlib.legend.Legend at 0x7f35d0e0b6d8>"
      ]
     },
     "execution_count": 17,
     "metadata": {},
     "output_type": "execute_result"
    },
    {
     "data": {
      "image/png": "[encoded data removed]",
      "text/plain": [
       "<Figure size 432x288 with 1 Axes>"
      ]
     },
     "metadata": {
      "needs_background": "light"
     },
     "output_type": "display_data"
    }
   ],
   "source": [
    "plt.xticks(np.arange(2011, 2014, step=1)) \n",
    "plt.plot(test_year, ar_predictions, \"g-o\", test_year, test_set, \"r-^\")\n",
    "plt.title(\"Indicator name: \"+WDI_df.columns[1])\n",
    "plt.xlabel(\"Year\")\n",
    "plt.ylabel(\"Indicator values\")\n",
    "plt.legend((\"Our predictions\", \"True values\"), loc=1)"
   ]
  },
  {
   "cell_type": "markdown",
   "metadata": {},
   "source": [
    "# MA Model"
   ]
  },
  {
   "cell_type": "code",
   "execution_count": 18,
   "metadata": {},
   "outputs": [],
   "source": [
    "ma_model = ARMA(train_set, order=(0, 1))\n",
    "ma_model_fit = ma_model.fit(disp=False)"
   ]
  },
  {
   "cell_type": "code",
   "execution_count": 19,
   "metadata": {
    "scrolled": true
   },
   "outputs": [
    {
     "name": "stdout",
     "output_type": "stream",
     "text": [
      "49    0.530152\n",
      "50    0.537200\n",
      "51    0.537200\n",
      "dtype: float64\n"
     ]
    }
   ],
   "source": [
    "ma_predictions = ma_model_fit.predict(len(train_set), len(train_set)+2)\n",
    "print(ma_predictions)"
   ]
  },
  {
   "cell_type": "code",
   "execution_count": 20,
   "metadata": {},
   "outputs": [
    {
     "name": "stdout",
     "output_type": "stream",
     "text": [
      "MFE: 0.116748\n",
      "MAE: 0.118712\n",
      "MSE: 0.020841\n",
      "RMSE: 0.144365\n"
     ]
    }
   ],
   "source": [
    "# Mean Forecast Error\n",
    "forecast_errors = [test_set.values[i]-ma_predictions.values[i] for i in range(len(test_set))]\n",
    "ma_mfe = sum(forecast_errors) * 1.0/len(test_set)\n",
    "print('MFE: %f' % ma_mfe)\n",
    "\n",
    "# Mean Absolute Error\n",
    "ma_mae = mean_absolute_error(test_set, ma_predictions)\n",
    "print('MAE: %f' % ma_mae)\n",
    "\n",
    "# Mean Squared Error\n",
    "ma_mse = mean_squared_error(test_set, ma_predictions)\n",
    "print('MSE: %f' % ma_mse)\n",
    "\n",
    "# Root Mean Squared Error\n",
    "ma_rmse = np.sqrt(ma_mse)\n",
    "print('RMSE: %f' % ma_rmse)"
   ]
  },
  {
   "cell_type": "code",
   "execution_count": 21,
   "metadata": {},
   "outputs": [
    {
     "data": {
      "text/plain": [
       "<matplotlib.legend.Legend at 0x7f35cf9c68d0>"
      ]
     },
     "execution_count": 21,
     "metadata": {},
     "output_type": "execute_result"
    },
    {
     "data": {
      "image/png": "[encoded data removed]",
      "text/plain": [
       "<Figure size 432x288 with 1 Axes>"
      ]
     },
     "metadata": {
      "needs_background": "light"
     },
     "output_type": "display_data"
    }
   ],
   "source": [
    "plt.xticks(np.arange(2011, 2014, step=1)) \n",
    "plt.plot(test_year, ma_predictions, \"g-o\", test_year, test_set, \"r-^\")\n",
    "plt.title(\"Indicator name: \"+WDI_df.columns[1])\n",
    "plt.xlabel(\"Year\")\n",
    "plt.ylabel(\"Indicator values\")\n",
    "plt.legend((\"Our predictions\", \"True values\"), loc=1)"
   ]
  },
  {
   "cell_type": "markdown",
   "metadata": {},
   "source": [
    "# ARMA Model"
   ]
  },
  {
   "cell_type": "code",
   "execution_count": 22,
   "metadata": {
    "scrolled": true
   },
   "outputs": [],
   "source": [
    "arma_model = ARMA(train_set, order=(2, 1))\n",
    "arma_model_fit = arma_model.fit(disp=False)"
   ]
  },
  {
   "cell_type": "code",
   "execution_count": 23,
   "metadata": {},
   "outputs": [
    {
     "name": "stdout",
     "output_type": "stream",
     "text": [
      "49    0.558240\n",
      "50    0.549595\n",
      "51    0.541877\n",
      "dtype: float64\n"
     ]
    }
   ],
   "source": [
    "arma_predictions = arma_model_fit.predict(len(train_set), len(train_set)+2)\n",
    "print(arma_predictions)"
   ]
  },
  {
   "cell_type": "code",
   "execution_count": 24,
   "metadata": {},
   "outputs": [
    {
     "name": "stdout",
     "output_type": "stream",
     "text": [
      "MFE: 0.101695\n",
      "MAE: 0.106777\n",
      "MSE: 0.016317\n",
      "RMSE: 0.127739\n"
     ]
    }
   ],
   "source": [
    "# Mean Forecast Error\n",
    "forecast_errors = [test_set.values[i]-arma_predictions.values[i] for i in range(len(test_set))]\n",
    "arma_mfe = sum(forecast_errors) * 1.0/len(test_set)\n",
    "\n",
    "print('MFE: %f' % arma_mfe)\n",
    "# Mean Absolute Error\n",
    "arma_mae = mean_absolute_error(test_set, arma_predictions)\n",
    "print('MAE: %f' % arma_mae)\n",
    "\n",
    "# Mean Squared Error\n",
    "arma_mse = mean_squared_error(test_set, arma_predictions)\n",
    "print('MSE: %f' % arma_mse)\n",
    "\n",
    "# Root Mean Squared Error\n",
    "arma_rmse = np.sqrt(arma_mse)\n",
    "print('RMSE: %f' % arma_rmse)"
   ]
  },
  {
   "cell_type": "code",
   "execution_count": 25,
   "metadata": {},
   "outputs": [
    {
     "data": {
      "text/plain": [
       "<matplotlib.legend.Legend at 0x7f35d0054da0>"
      ]
     },
     "execution_count": 25,
     "metadata": {},
     "output_type": "execute_result"
    },
    {
     "data": {
      "image/png": "[encoded data removed]",
      "text/plain": [
       "<Figure size 432x288 with 1 Axes>"
      ]
     },
     "metadata": {
      "needs_background": "light"
     },
     "output_type": "display_data"
    }
   ],
   "source": [
    "plt.xticks(np.arange(2011, 2014, step=1)) \n",
    "plt.plot(test_year, arma_predictions, \"g-o\", test_year, test_set, \"r-^\")\n",
    "plt.title(\"Indicator name: \"+WDI_df.columns[1])\n",
    "plt.xlabel(\"Year\")\n",
    "plt.ylabel(\"Indicator values\")\n",
    "plt.legend((\"Our predictions\", \"True values\"), loc=1)"
   ]
  },
  {
   "cell_type": "markdown",
   "metadata": {},
   "source": [
    "# ARIMA Model"
   ]
  },
  {
   "cell_type": "code",
   "execution_count": 26,
   "metadata": {},
   "outputs": [],
   "source": [
    "arima_model = ARIMA(train_set, order=(0,0,0))\n",
    "arima_model_fit = arima_model.fit(disp=False)"
   ]
  },
  {
   "cell_type": "code",
   "execution_count": 27,
   "metadata": {},
   "outputs": [
    {
     "name": "stdout",
     "output_type": "stream",
     "text": [
      "49    0.53874\n",
      "50    0.53874\n",
      "51    0.53874\n",
      "dtype: float64\n"
     ]
    }
   ],
   "source": [
    "arima_predictions = arima_model_fit.predict(len(train_set), len(train_set)+2)\n",
    "print(arima_predictions)"
   ]
  },
  {
   "cell_type": "code",
   "execution_count": 29,
   "metadata": {},
   "outputs": [
    {
     "name": "stdout",
     "output_type": "stream",
     "text": [
      "MFE: 0.112859\n",
      "MAE: 0.115850\n",
      "MSE: 0.019638\n",
      "RMSE: 0.140137\n"
     ]
    }
   ],
   "source": [
    "# Mean Forecast Error\n",
    "forecast_errors = [test_set.values[i]-arima_predictions.values[i] for i in range(len(test_set))]\n",
    "arima_mfe = sum(forecast_errors) * 1.0/len(test_set)\n",
    "print('MFE: %f' % arima_mfe)\n",
    "\n",
    "# Mean Absolute Error\n",
    "arima_mae = mean_absolute_error(test_set, arima_predictions)\n",
    "print('MAE: %f' % arima_mae)\n",
    "\n",
    "# Mean Squared Error\n",
    "arima_mse = mean_squared_error(test_set, arima_predictions)\n",
    "print('MSE: %f' % arima_mse)\n",
    "\n",
    "# Root Mean Squared Error\n",
    "arima_rmse = np.sqrt(arima_mse)\n",
    "print('RMSE: %f' % arima_rmse)"
   ]
  },
  {
   "cell_type": "code",
   "execution_count": 30,
   "metadata": {},
   "outputs": [
    {
     "data": {
      "text/plain": [
       "<matplotlib.legend.Legend at 0x7f35cf9e91d0>"
      ]
     },
     "execution_count": 30,
     "metadata": {},
     "output_type": "execute_result"
    },
    {
     "data": {
      "image/png": "[encoded data removed]",
      "text/plain": [
       "<Figure size 432x288 with 1 Axes>"
      ]
     },
     "metadata": {
      "needs_background": "light"
     },
     "output_type": "display_data"
    }
   ],
   "source": [
    "plt.xticks(np.arange(2011, 2014, step=1)) \n",
    "plt.plot(test_year, arima_predictions, \"g-o\", test_year, test_set, \"r-^\")\n",
    "plt.title(\"Indicator name: \"+WDI_df.columns[1])\n",
    "plt.xlabel(\"Year\")\n",
    "plt.ylabel(\"Indicator values\")\n",
    "plt.legend((\"Our predictions\", \"True values\"), loc=1)"
   ]
  },
  {
   "cell_type": "markdown",
   "metadata": {},
   "source": [
    "# SARIMA Model"
   ]
  },
  {
   "cell_type": "code",
   "execution_count": 31,
   "metadata": {},
   "outputs": [],
   "source": [
    "sarima_model = SARIMAX(train_set, order=(1, 1, 1), seasonal_order=(0,0,0,0))\n",
    "sarima_model_fit = sarima_model.fit(disp=False)"
   ]
  },
  {
   "cell_type": "code",
   "execution_count": 32,
   "metadata": {
    "scrolled": true
   },
   "outputs": [
    {
     "name": "stdout",
     "output_type": "stream",
     "text": [
      "49    0.569099\n",
      "50    0.570131\n",
      "51    0.570968\n",
      "dtype: float64\n"
     ]
    }
   ],
   "source": [
    "sarima_predictions = sarima_model_fit.predict(len(train_set), len(train_set)+2)\n",
    "print(sarima_predictions)"
   ]
  },
  {
   "cell_type": "code",
   "execution_count": 33,
   "metadata": {},
   "outputs": [
    {
     "name": "stdout",
     "output_type": "stream",
     "text": [
      "MFE: 0.081532\n",
      "MAE: 0.106009\n",
      "MSE: 0.013659\n",
      "RMSE: 0.116870\n"
     ]
    }
   ],
   "source": [
    "# Mean Forecast Error\n",
    "forecast_errors = [test_set.values[i]-sarima_predictions.values[i] for i in range(len(test_set))]\n",
    "sarima_mfe = sum(forecast_errors) * 1.0/len(test_set)\n",
    "print('MFE: %f' % sarima_mfe)\n",
    "\n",
    "# Mean Absolute Error\n",
    "sarima_mae = mean_absolute_error(test_set, sarima_predictions)\n",
    "print('MAE: %f' % sarima_mae)\n",
    "\n",
    "# Mean Squared Error\n",
    "sarima_mse = mean_squared_error(test_set, sarima_predictions)\n",
    "print('MSE: %f' % sarima_mse)\n",
    "\n",
    "# Root Mean Squared Error\n",
    "sarima_rmse = np.sqrt(sarima_mse)\n",
    "print('RMSE: %f' % sarima_rmse)"
   ]
  },
  {
   "cell_type": "code",
   "execution_count": 34,
   "metadata": {},
   "outputs": [
    {
     "data": {
      "text/plain": [
       "<matplotlib.legend.Legend at 0x7f35cf7c44a8>"
      ]
     },
     "execution_count": 34,
     "metadata": {},
     "output_type": "execute_result"
    },
    {
     "data": {
      "image/png": "[encoded data removed]",
      "text/plain": [
       "<Figure size 432x288 with 1 Axes>"
      ]
     },
     "metadata": {
      "needs_background": "light"
     },
     "output_type": "display_data"
    }
   ],
   "source": [
    "plt.xticks(np.arange(2011, 2014, step=1)) \n",
    "plt.plot(test_year, sarima_predictions, \"g-o\", test_year, test_set, \"r-^\")\n",
    "plt.title(\"Indicator name: \"+WDI_df.columns[1])\n",
    "plt.xlabel(\"Year\")\n",
    "plt.ylabel(\"Indicator values\")\n",
    "plt.legend((\"Our predictions\", \"True values\"), loc=1)"
   ]
  },
  {
   "cell_type": "markdown",
   "metadata": {},
   "source": [
    "# SARIMAX Model"
   ]
  },
  {
   "cell_type": "markdown",
   "metadata": {},
   "source": [
    "We do not utilize the **SARIMAX** model as our time series has no trend and/or seasonal components and exogenous variables."
   ]
  },
  {
   "cell_type": "markdown",
   "metadata": {},
   "source": [
    "# SES Model"
   ]
  },
  {
   "cell_type": "code",
   "execution_count": 45,
   "metadata": {},
   "outputs": [],
   "source": [
    "ses_model = SimpleExpSmoothing(train_set)\n",
    "ses_model_fit = ses_model.fit()"
   ]
  },
  {
   "cell_type": "code",
   "execution_count": 48,
   "metadata": {},
   "outputs": [
    {
     "name": "stdout",
     "output_type": "stream",
     "text": [
      "49    0.567824\n",
      "50    0.567824\n",
      "51    0.567824\n",
      "dtype: float64\n"
     ]
    }
   ],
   "source": [
    "ses_predictions = ses_model_fit.predict(start=len(train_set), end=len(train_set)+2)\n",
    "print(ses_predictions)"
   ]
  },
  {
   "cell_type": "code",
   "execution_count": 49,
   "metadata": {},
   "outputs": [
    {
     "ename": "KeyError",
     "evalue": "0",
     "output_type": "error",
     "traceback": [
      "\u001b[0;31m---------------------------------------------------------------------------\u001b[0m",
      "\u001b[0;31mKeyError\u001b[0m                                  Traceback (most recent call last)",
      "\u001b[0;32m<ipython-input-49-484943796a31>\u001b[0m in \u001b[0;36m<module>\u001b[0;34m\u001b[0m\n\u001b[1;32m      1\u001b[0m \u001b[0;31m# Mean Forecast Error\u001b[0m\u001b[0;34m\u001b[0m\u001b[0;34m\u001b[0m\u001b[0;34m\u001b[0m\u001b[0m\n\u001b[0;32m----> 2\u001b[0;31m \u001b[0mforecast_errors\u001b[0m \u001b[0;34m=\u001b[0m \u001b[0;34m[\u001b[0m\u001b[0mtest_set\u001b[0m\u001b[0;34m.\u001b[0m\u001b[0mvalues\u001b[0m\u001b[0;34m[\u001b[0m\u001b[0mi\u001b[0m\u001b[0;34m]\u001b[0m\u001b[0;34m-\u001b[0m\u001b[0mses_predictions\u001b[0m\u001b[0;34m[\u001b[0m\u001b[0mi\u001b[0m\u001b[0;34m]\u001b[0m \u001b[0;32mfor\u001b[0m \u001b[0mi\u001b[0m \u001b[0;32min\u001b[0m \u001b[0mrange\u001b[0m\u001b[0;34m(\u001b[0m\u001b[0mlen\u001b[0m\u001b[0;34m(\u001b[0m\u001b[0mtest_set\u001b[0m\u001b[0;34m)\u001b[0m\u001b[0;34m)\u001b[0m\u001b[0;34m]\u001b[0m\u001b[0;34m\u001b[0m\u001b[0;34m\u001b[0m\u001b[0m\n\u001b[0m\u001b[1;32m      3\u001b[0m \u001b[0mses_mfe\u001b[0m \u001b[0;34m=\u001b[0m \u001b[0msum\u001b[0m\u001b[0;34m(\u001b[0m\u001b[0mforecast_errors\u001b[0m\u001b[0;34m)\u001b[0m \u001b[0;34m*\u001b[0m \u001b[0;36m1.0\u001b[0m\u001b[0;34m/\u001b[0m\u001b[0mlen\u001b[0m\u001b[0;34m(\u001b[0m\u001b[0mtest_set\u001b[0m\u001b[0;34m)\u001b[0m\u001b[0;34m\u001b[0m\u001b[0;34m\u001b[0m\u001b[0m\n\u001b[1;32m      4\u001b[0m \u001b[0mprint\u001b[0m\u001b[0;34m(\u001b[0m\u001b[0;34m'MFE: %f'\u001b[0m \u001b[0;34m%\u001b[0m \u001b[0mses_mfe\u001b[0m\u001b[0;34m)\u001b[0m\u001b[0;34m\u001b[0m\u001b[0;34m\u001b[0m\u001b[0m\n\u001b[1;32m      5\u001b[0m \u001b[0;34m\u001b[0m\u001b[0m\n",
      "\u001b[0;32m<ipython-input-49-484943796a31>\u001b[0m in \u001b[0;36m<listcomp>\u001b[0;34m(.0)\u001b[0m\n\u001b[1;32m      1\u001b[0m \u001b[0;31m# Mean Forecast Error\u001b[0m\u001b[0;34m\u001b[0m\u001b[0;34m\u001b[0m\u001b[0;34m\u001b[0m\u001b[0m\n\u001b[0;32m----> 2\u001b[0;31m \u001b[0mforecast_errors\u001b[0m \u001b[0;34m=\u001b[0m \u001b[0;34m[\u001b[0m\u001b[0mtest_set\u001b[0m\u001b[0;34m.\u001b[0m\u001b[0mvalues\u001b[0m\u001b[0;34m[\u001b[0m\u001b[0mi\u001b[0m\u001b[0;34m]\u001b[0m\u001b[0;34m-\u001b[0m\u001b[0mses_predictions\u001b[0m\u001b[0;34m[\u001b[0m\u001b[0mi\u001b[0m\u001b[0;34m]\u001b[0m \u001b[0;32mfor\u001b[0m \u001b[0mi\u001b[0m \u001b[0;32min\u001b[0m \u001b[0mrange\u001b[0m\u001b[0;34m(\u001b[0m\u001b[0mlen\u001b[0m\u001b[0;34m(\u001b[0m\u001b[0mtest_set\u001b[0m\u001b[0;34m)\u001b[0m\u001b[0;34m)\u001b[0m\u001b[0;34m]\u001b[0m\u001b[0;34m\u001b[0m\u001b[0;34m\u001b[0m\u001b[0m\n\u001b[0m\u001b[1;32m      3\u001b[0m \u001b[0mses_mfe\u001b[0m \u001b[0;34m=\u001b[0m \u001b[0msum\u001b[0m\u001b[0;34m(\u001b[0m\u001b[0mforecast_errors\u001b[0m\u001b[0;34m)\u001b[0m \u001b[0;34m*\u001b[0m \u001b[0;36m1.0\u001b[0m\u001b[0;34m/\u001b[0m\u001b[0mlen\u001b[0m\u001b[0;34m(\u001b[0m\u001b[0mtest_set\u001b[0m\u001b[0;34m)\u001b[0m\u001b[0;34m\u001b[0m\u001b[0;34m\u001b[0m\u001b[0m\n\u001b[1;32m      4\u001b[0m \u001b[0mprint\u001b[0m\u001b[0;34m(\u001b[0m\u001b[0;34m'MFE: %f'\u001b[0m \u001b[0;34m%\u001b[0m \u001b[0mses_mfe\u001b[0m\u001b[0;34m)\u001b[0m\u001b[0;34m\u001b[0m\u001b[0;34m\u001b[0m\u001b[0m\n\u001b[1;32m      5\u001b[0m \u001b[0;34m\u001b[0m\u001b[0m\n",
      "\u001b[0;32m~/anaconda3/envs/wdi-project/lib/python3.7/site-packages/pandas/core/series.py\u001b[0m in \u001b[0;36m__getitem__\u001b[0;34m(self, key)\u001b[0m\n\u001b[1;32m    765\u001b[0m         \u001b[0mkey\u001b[0m \u001b[0;34m=\u001b[0m \u001b[0mcom\u001b[0m\u001b[0;34m.\u001b[0m\u001b[0m_apply_if_callable\u001b[0m\u001b[0;34m(\u001b[0m\u001b[0mkey\u001b[0m\u001b[0;34m,\u001b[0m \u001b[0mself\u001b[0m\u001b[0;34m)\u001b[0m\u001b[0;34m\u001b[0m\u001b[0;34m\u001b[0m\u001b[0m\n\u001b[1;32m    766\u001b[0m         \u001b[0;32mtry\u001b[0m\u001b[0;34m:\u001b[0m\u001b[0;34m\u001b[0m\u001b[0;34m\u001b[0m\u001b[0m\n\u001b[0;32m--> 767\u001b[0;31m             \u001b[0mresult\u001b[0m \u001b[0;34m=\u001b[0m \u001b[0mself\u001b[0m\u001b[0;34m.\u001b[0m\u001b[0mindex\u001b[0m\u001b[0;34m.\u001b[0m\u001b[0mget_value\u001b[0m\u001b[0;34m(\u001b[0m\u001b[0mself\u001b[0m\u001b[0;34m,\u001b[0m \u001b[0mkey\u001b[0m\u001b[0;34m)\u001b[0m\u001b[0;34m\u001b[0m\u001b[0;34m\u001b[0m\u001b[0m\n\u001b[0m\u001b[1;32m    768\u001b[0m \u001b[0;34m\u001b[0m\u001b[0m\n\u001b[1;32m    769\u001b[0m             \u001b[0;32mif\u001b[0m \u001b[0;32mnot\u001b[0m \u001b[0mis_scalar\u001b[0m\u001b[0;34m(\u001b[0m\u001b[0mresult\u001b[0m\u001b[0;34m)\u001b[0m\u001b[0;34m:\u001b[0m\u001b[0;34m\u001b[0m\u001b[0;34m\u001b[0m\u001b[0m\n",
      "\u001b[0;32m~/anaconda3/envs/wdi-project/lib/python3.7/site-packages/pandas/core/indexes/base.py\u001b[0m in \u001b[0;36mget_value\u001b[0;34m(self, series, key)\u001b[0m\n\u001b[1;32m   3116\u001b[0m         \u001b[0;32mtry\u001b[0m\u001b[0;34m:\u001b[0m\u001b[0;34m\u001b[0m\u001b[0;34m\u001b[0m\u001b[0m\n\u001b[1;32m   3117\u001b[0m             return self._engine.get_value(s, k,\n\u001b[0;32m-> 3118\u001b[0;31m                                           tz=getattr(series.dtype, 'tz', None))\n\u001b[0m\u001b[1;32m   3119\u001b[0m         \u001b[0;32mexcept\u001b[0m \u001b[0mKeyError\u001b[0m \u001b[0;32mas\u001b[0m \u001b[0me1\u001b[0m\u001b[0;34m:\u001b[0m\u001b[0;34m\u001b[0m\u001b[0;34m\u001b[0m\u001b[0m\n\u001b[1;32m   3120\u001b[0m             \u001b[0;32mif\u001b[0m \u001b[0mlen\u001b[0m\u001b[0;34m(\u001b[0m\u001b[0mself\u001b[0m\u001b[0;34m)\u001b[0m \u001b[0;34m>\u001b[0m \u001b[0;36m0\u001b[0m \u001b[0;32mand\u001b[0m \u001b[0mself\u001b[0m\u001b[0;34m.\u001b[0m\u001b[0minferred_type\u001b[0m \u001b[0;32min\u001b[0m \u001b[0;34m[\u001b[0m\u001b[0;34m'integer'\u001b[0m\u001b[0;34m,\u001b[0m \u001b[0;34m'boolean'\u001b[0m\u001b[0;34m]\u001b[0m\u001b[0;34m:\u001b[0m\u001b[0;34m\u001b[0m\u001b[0;34m\u001b[0m\u001b[0m\n",
      "\u001b[0;32mpandas/_libs/index.pyx\u001b[0m in \u001b[0;36mpandas._libs.index.IndexEngine.get_value\u001b[0;34m()\u001b[0m\n",
      "\u001b[0;32mpandas/_libs/index.pyx\u001b[0m in \u001b[0;36mpandas._libs.index.IndexEngine.get_value\u001b[0;34m()\u001b[0m\n",
      "\u001b[0;32mpandas/_libs/index.pyx\u001b[0m in \u001b[0;36mpandas._libs.index.IndexEngine.get_loc\u001b[0;34m()\u001b[0m\n",
      "\u001b[0;32mpandas/_libs/hashtable_class_helper.pxi\u001b[0m in \u001b[0;36mpandas._libs.hashtable.Int64HashTable.get_item\u001b[0;34m()\u001b[0m\n",
      "\u001b[0;32mpandas/_libs/hashtable_class_helper.pxi\u001b[0m in \u001b[0;36mpandas._libs.hashtable.Int64HashTable.get_item\u001b[0;34m()\u001b[0m\n",
      "\u001b[0;31mKeyError\u001b[0m: 0"
     ]
    }
   ],
   "source": [
    "# Mean Forecast Error\n",
    "forecast_errors = [test_set.values[i]-ses_predictions[i] for i in range(len(test_set))]\n",
    "ses_mfe = sum(forecast_errors) * 1.0/len(test_set)\n",
    "print('MFE: %f' % ses_mfe)\n",
    "\n",
    "# Mean Absolute Error\n",
    "ses_mae = mean_absolute_error(test_set, ses_predictions)\n",
    "print('MAE: %f' % ses_mae)\n",
    "\n",
    "# Mean Squared Error\n",
    "ses_mse = mean_squared_error(test_set, ses_predictions)\n",
    "print('MSE: %f' % ses_mse)\n",
    "\n",
    "# Root Mean Squared Error\n",
    "ses_rmse = np.sqrt(ses_mse)\n",
    "print('RMSE: %f' % ses_rmse)"
   ]
  },
  {
   "cell_type": "code",
   "execution_count": null,
   "metadata": {},
   "outputs": [],
   "source": [
    "plt.xticks(np.arange(2011, 2014, step=1)) \n",
    "plt.plot(test_year, ses_predictions, \"g-o\", test_year, test_set, \"r-^\")\n",
    "plt.title(\"Indicator name: \"+WDI_df.columns[1])\n",
    "plt.xlabel(\"Year\")\n",
    "plt.ylabel(\"Indicator values\")\n",
    "plt.legend((\"Our predictions\", \"True values\"), loc=1)"
   ]
  },
  {
   "cell_type": "markdown",
   "metadata": {},
   "source": [
    "# HWES Model"
   ]
  },
  {
   "cell_type": "code",
   "execution_count": null,
   "metadata": {},
   "outputs": [],
   "source": [
    "hwes_model = ExponentialSmoothing(train_set)\n",
    "hwes_model_fit = hwes_model.fit()"
   ]
  },
  {
   "cell_type": "code",
   "execution_count": null,
   "metadata": {},
   "outputs": [],
   "source": [
    "hwes_predictions = model_fit.predict(start=len(train_set), end=len(train_set)+2)\n",
    "print(hwes_predictions)"
   ]
  },
  {
   "cell_type": "code",
   "execution_count": null,
   "metadata": {},
   "outputs": [],
   "source": [
    "# Mean Forecast Error\n",
    "forecast_errors = [test_set.values[i]-hwes_predictions[i] for i in range(len(test_set))]\n",
    "hwes_mfe = sum(forecast_errors) * 1.0/len(test_set)\n",
    "print('MFE: %f' % hwes_mfe)\n",
    "\n",
    "# Mean Absolute Error\n",
    "hwes_mae = mean_absolute_error(test_set, hwes_predictions)\n",
    "print('MAE: %f' % hwes_mae)\n",
    "\n",
    "# Mean Squared Error\n",
    "hwes_mse = mean_squared_error(test_set, hwes_predictions)\n",
    "print('MSE: %f' % hwes_mse)\n",
    "\n",
    "# Root Mean Squared Error\n",
    "hwes_rmse = np.sqrt(hwes_mse)\n",
    "print('RMSE: %f' % hwes_rmse)"
   ]
  },
  {
   "cell_type": "code",
   "execution_count": null,
   "metadata": {},
   "outputs": [],
   "source": [
    "plt.xticks(np.arange(2011, 2014, step=1)) \n",
    "plt.plot(test_year, hwes_predictions, \"g-o\", test_year, test_set, \"r-^\")\n",
    "plt.title(\"Indicator name: \"+WDI_df.columns[1])\n",
    "plt.xlabel(\"Year\")\n",
    "plt.ylabel(\"Indicator values\")\n",
    "plt.legend((\"Our predictions\", \"True values\"), loc=1)"
   ]
  },
  {
   "cell_type": "markdown",
   "metadata": {},
   "source": [
    "# Tabel"
   ]
  },
  {
   "cell_type": "code",
   "execution_count": null,
   "metadata": {},
   "outputs": [],
   "source": [
    "dict = {\n",
    "        'Method':[\"AR\", \"MA\", \"ARMA\", \"ARIMA\", \"SARIMA\", \"SARIMAX\", \"SES\",\"HWES\"], \n",
    "        #'Expected': [], \n",
    "        #'Predictions': [ar_predictions.values, ma_predictions.values, arma_predictions.values, arima_predictions.values, sarima_predictions.values, sarimax_predictions.values, ses_predictions.values, hwes_predictions.values],\n",
    "        'MFE':[ar_mfe,   ma_mfe,  arma_mfe,  arima_mfe,  sarima_mfe,  sarimax_mfe,  ses_mfe, hwes_mfe],\n",
    "        'MAE':[ar_mae,   ma_mae,  arma_mae,  arima_mae,  sarima_mae,  sarimax_mae,  ses_mae, hwes_mae],\n",
    "        'MSE':[ar_mse,   ma_mse,  arma_mse,  arima_mse,  sarima_mse,  sarimax_mse,  ses_mse, hwes_mse],\n",
    "        'RMSE':[ar_rmse, ma_rmse, arma_rmse, arima_rmse, sarima_rmse, sarimax_rmse, ses_rmse, hwes_rmse],\n",
    "        }  \n",
    "print(pd.DataFrame(dict)) \n",
    "    "
   ]
  },
  {
   "cell_type": "code",
   "execution_count": null,
   "metadata": {},
   "outputs": [],
   "source": []
  },
  {
   "cell_type": "code",
   "execution_count": null,
   "metadata": {},
   "outputs": [],
   "source": []
  },
  {
   "cell_type": "code",
   "execution_count": null,
   "metadata": {},
   "outputs": [],
   "source": []
  }
 ],
 "metadata": {
  "kernelspec": {
   "display_name": "wdi-project",
   "language": "python",
   "name": "wdi-project"
  },
  "language_info": {
   "codemirror_mode": {
    "name": "ipython",
    "version": 3
   },
   "file_extension": ".py",
   "mimetype": "text/x-python",
   "name": "python",
   "nbconvert_exporter": "python",
   "pygments_lexer": "ipython3",
   "version": "3.7.1"
  }
 },
 "nbformat": 4,
 "nbformat_minor": 2
}
