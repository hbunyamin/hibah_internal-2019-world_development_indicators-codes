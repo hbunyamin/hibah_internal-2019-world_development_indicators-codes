{
 "cells": [
  {
   "cell_type": "markdown",
   "metadata": {},
   "source": [
    "# Exploring the Dataset"
   ]
  },
  {
   "cell_type": "markdown",
   "metadata": {},
   "source": [
    "We import all the libraries"
   ]
  },
  {
   "cell_type": "code",
   "execution_count": 2,
   "metadata": {},
   "outputs": [],
   "source": [
    "%matplotlib notebook\n",
    "import matplotlib.pyplot as plt"
   ]
  },
  {
   "cell_type": "code",
   "execution_count": 3,
   "metadata": {},
   "outputs": [],
   "source": [
    "import csv\n",
    "import pandas as pd\n",
    "import numpy as np\n",
    "import pickle"
   ]
  },
  {
   "cell_type": "markdown",
   "metadata": {},
   "source": [
    "The path to WDI dataset"
   ]
  },
  {
   "cell_type": "code",
   "execution_count": 4,
   "metadata": {},
   "outputs": [],
   "source": [
    "WDI_path=\"/home/hendra/Datasets/WDI_Indonesia/\""
   ]
  },
  {
   "cell_type": "markdown",
   "metadata": {},
   "source": [
    "#### BEGIN: MWE"
   ]
  },
  {
   "cell_type": "code",
   "execution_count": null,
   "metadata": {},
   "outputs": [],
   "source": [
    "x = np.linspace(-10, 10, 100)"
   ]
  },
  {
   "cell_type": "code",
   "execution_count": null,
   "metadata": {},
   "outputs": [],
   "source": [
    "y = np.sin(x)"
   ]
  },
  {
   "cell_type": "code",
   "execution_count": null,
   "metadata": {},
   "outputs": [],
   "source": [
    "plt.plot(x,y,marker=\"x\")"
   ]
  },
  {
   "cell_type": "markdown",
   "metadata": {},
   "source": [
    "#### END: MWE"
   ]
  },
  {
   "cell_type": "markdown",
   "metadata": {},
   "source": [
    "We read the design matrix of X "
   ]
  },
  {
   "cell_type": "code",
   "execution_count": 5,
   "metadata": {},
   "outputs": [],
   "source": [
    "WDI_df = pd.read_csv(WDI_path+\"WDI-design-matrix-X.csv\")"
   ]
  },
  {
   "cell_type": "code",
   "execution_count": 6,
   "metadata": {},
   "outputs": [
    {
     "data": {
      "text/plain": [
       "(75753, 5)"
      ]
     },
     "execution_count": 6,
     "metadata": {},
     "output_type": "execute_result"
    }
   ],
   "source": [
    "WDI_df.shape"
   ]
  },
  {
   "cell_type": "code",
   "execution_count": 7,
   "metadata": {},
   "outputs": [
    {
     "data": {
      "text/html": [
       "<div>\n",
       "<style scoped>\n",
       "    .dataframe tbody tr th:only-of-type {\n",
       "        vertical-align: middle;\n",
       "    }\n",
       "\n",
       "    .dataframe tbody tr th {\n",
       "        vertical-align: top;\n",
       "    }\n",
       "\n",
       "    .dataframe thead th {\n",
       "        text-align: right;\n",
       "    }\n",
       "</style>\n",
       "<table border=\"1\" class=\"dataframe\">\n",
       "  <thead>\n",
       "    <tr style=\"text-align: right;\">\n",
       "      <th></th>\n",
       "      <th>Unnamed: 0</th>\n",
       "      <th>year</th>\n",
       "      <th>indicator_name</th>\n",
       "      <th>indicator_value</th>\n",
       "      <th>Unnamed: 3</th>\n",
       "    </tr>\n",
       "  </thead>\n",
       "  <tbody>\n",
       "    <tr>\n",
       "      <th>0</th>\n",
       "      <td>0</td>\n",
       "      <td>1971</td>\n",
       "      <td>Adjusted net enrolment rate, primary, both sex...</td>\n",
       "      <td>70.065018</td>\n",
       "      <td>NaN</td>\n",
       "    </tr>\n",
       "    <tr>\n",
       "      <th>1</th>\n",
       "      <td>1</td>\n",
       "      <td>1972</td>\n",
       "      <td>Adjusted net enrolment rate, primary, both sex...</td>\n",
       "      <td>71.205940</td>\n",
       "      <td>NaN</td>\n",
       "    </tr>\n",
       "    <tr>\n",
       "      <th>2</th>\n",
       "      <td>2</td>\n",
       "      <td>1974</td>\n",
       "      <td>Adjusted net enrolment rate, primary, both sex...</td>\n",
       "      <td>70.920738</td>\n",
       "      <td>NaN</td>\n",
       "    </tr>\n",
       "    <tr>\n",
       "      <th>3</th>\n",
       "      <td>3</td>\n",
       "      <td>1975</td>\n",
       "      <td>Adjusted net enrolment rate, primary, both sex...</td>\n",
       "      <td>73.359596</td>\n",
       "      <td>NaN</td>\n",
       "    </tr>\n",
       "    <tr>\n",
       "      <th>4</th>\n",
       "      <td>4</td>\n",
       "      <td>1976</td>\n",
       "      <td>Adjusted net enrolment rate, primary, both sex...</td>\n",
       "      <td>76.275833</td>\n",
       "      <td>NaN</td>\n",
       "    </tr>\n",
       "  </tbody>\n",
       "</table>\n",
       "</div>"
      ],
      "text/plain": [
       "   Unnamed: 0  year                                     indicator_name  \\\n",
       "0           0  1971  Adjusted net enrolment rate, primary, both sex...   \n",
       "1           1  1972  Adjusted net enrolment rate, primary, both sex...   \n",
       "2           2  1974  Adjusted net enrolment rate, primary, both sex...   \n",
       "3           3  1975  Adjusted net enrolment rate, primary, both sex...   \n",
       "4           4  1976  Adjusted net enrolment rate, primary, both sex...   \n",
       "\n",
       "   indicator_value  Unnamed: 3  \n",
       "0        70.065018         NaN  \n",
       "1        71.205940         NaN  \n",
       "2        70.920738         NaN  \n",
       "3        73.359596         NaN  \n",
       "4        76.275833         NaN  "
      ]
     },
     "execution_count": 7,
     "metadata": {},
     "output_type": "execute_result"
    }
   ],
   "source": [
    "WDI_df.head()"
   ]
  },
  {
   "cell_type": "markdown",
   "metadata": {},
   "source": [
    "We sort the rows according to the `year` ascendingly."
   ]
  },
  {
   "cell_type": "code",
   "execution_count": 8,
   "metadata": {},
   "outputs": [],
   "source": [
    "WDI_df_sorted = WDI_df.sort_values('year')"
   ]
  },
  {
   "cell_type": "code",
   "execution_count": 10,
   "metadata": {},
   "outputs": [
    {
     "data": {
      "text/html": [
       "<div>\n",
       "<style scoped>\n",
       "    .dataframe tbody tr th:only-of-type {\n",
       "        vertical-align: middle;\n",
       "    }\n",
       "\n",
       "    .dataframe tbody tr th {\n",
       "        vertical-align: top;\n",
       "    }\n",
       "\n",
       "    .dataframe thead th {\n",
       "        text-align: right;\n",
       "    }\n",
       "</style>\n",
       "<table border=\"1\" class=\"dataframe\">\n",
       "  <thead>\n",
       "    <tr style=\"text-align: right;\">\n",
       "      <th></th>\n",
       "      <th>Unnamed: 0</th>\n",
       "      <th>year</th>\n",
       "      <th>indicator_name</th>\n",
       "      <th>indicator_value</th>\n",
       "      <th>Unnamed: 3</th>\n",
       "    </tr>\n",
       "  </thead>\n",
       "  <tbody>\n",
       "    <tr>\n",
       "      <th>74863</th>\n",
       "      <td>74863</td>\n",
       "      <td>2016</td>\n",
       "      <td>Agricultural machinery, tractors</td>\n",
       "      <td>NaN</td>\n",
       "      <td>NaN</td>\n",
       "    </tr>\n",
       "    <tr>\n",
       "      <th>74862</th>\n",
       "      <td>74862</td>\n",
       "      <td>2016</td>\n",
       "      <td>Arable land (hectares)</td>\n",
       "      <td>NaN</td>\n",
       "      <td>NaN</td>\n",
       "    </tr>\n",
       "    <tr>\n",
       "      <th>74861</th>\n",
       "      <td>74861</td>\n",
       "      <td>2016</td>\n",
       "      <td>Short-term debt (% of total reserves)</td>\n",
       "      <td>NaN</td>\n",
       "      <td>NaN</td>\n",
       "    </tr>\n",
       "    <tr>\n",
       "      <th>74859</th>\n",
       "      <td>74859</td>\n",
       "      <td>2016</td>\n",
       "      <td>Prevalence of wasting, weight for height (% of...</td>\n",
       "      <td>NaN</td>\n",
       "      <td>NaN</td>\n",
       "    </tr>\n",
       "    <tr>\n",
       "      <th>75752</th>\n",
       "      <td>75752</td>\n",
       "      <td>2016</td>\n",
       "      <td>PPG, IBRD (INT, current US$)</td>\n",
       "      <td>NaN</td>\n",
       "      <td>NaN</td>\n",
       "    </tr>\n",
       "  </tbody>\n",
       "</table>\n",
       "</div>"
      ],
      "text/plain": [
       "       Unnamed: 0  year                                     indicator_name  \\\n",
       "74863       74863  2016                   Agricultural machinery, tractors   \n",
       "74862       74862  2016                             Arable land (hectares)   \n",
       "74861       74861  2016              Short-term debt (% of total reserves)   \n",
       "74859       74859  2016  Prevalence of wasting, weight for height (% of...   \n",
       "75752       75752  2016                       PPG, IBRD (INT, current US$)   \n",
       "\n",
       "       indicator_value  Unnamed: 3  \n",
       "74863              NaN         NaN  \n",
       "74862              NaN         NaN  \n",
       "74861              NaN         NaN  \n",
       "74859              NaN         NaN  \n",
       "75752              NaN         NaN  "
      ]
     },
     "execution_count": 10,
     "metadata": {},
     "output_type": "execute_result"
    }
   ],
   "source": [
    "WDI_df_sorted.tail()"
   ]
  },
  {
   "cell_type": "code",
   "execution_count": 95,
   "metadata": {},
   "outputs": [
    {
     "data": {
      "text/html": [
       "<div>\n",
       "<style scoped>\n",
       "    .dataframe tbody tr th:only-of-type {\n",
       "        vertical-align: middle;\n",
       "    }\n",
       "\n",
       "    .dataframe tbody tr th {\n",
       "        vertical-align: top;\n",
       "    }\n",
       "\n",
       "    .dataframe thead th {\n",
       "        text-align: right;\n",
       "    }\n",
       "</style>\n",
       "<table border=\"1\" class=\"dataframe\">\n",
       "  <thead>\n",
       "    <tr style=\"text-align: right;\">\n",
       "      <th></th>\n",
       "      <th>Unnamed: 0</th>\n",
       "      <th>year</th>\n",
       "      <th>indicator_name</th>\n",
       "      <th>indicator_value</th>\n",
       "      <th>Unnamed: 3</th>\n",
       "    </tr>\n",
       "  </thead>\n",
       "  <tbody>\n",
       "    <tr>\n",
       "      <th>74863</th>\n",
       "      <td>74863</td>\n",
       "      <td>2016</td>\n",
       "      <td>Agricultural machinery, tractors</td>\n",
       "      <td>NaN</td>\n",
       "      <td>NaN</td>\n",
       "    </tr>\n",
       "    <tr>\n",
       "      <th>74862</th>\n",
       "      <td>74862</td>\n",
       "      <td>2016</td>\n",
       "      <td>Arable land (hectares)</td>\n",
       "      <td>NaN</td>\n",
       "      <td>NaN</td>\n",
       "    </tr>\n",
       "    <tr>\n",
       "      <th>74861</th>\n",
       "      <td>74861</td>\n",
       "      <td>2016</td>\n",
       "      <td>Short-term debt (% of total reserves)</td>\n",
       "      <td>NaN</td>\n",
       "      <td>NaN</td>\n",
       "    </tr>\n",
       "    <tr>\n",
       "      <th>74859</th>\n",
       "      <td>74859</td>\n",
       "      <td>2016</td>\n",
       "      <td>Prevalence of wasting, weight for height (% of...</td>\n",
       "      <td>NaN</td>\n",
       "      <td>NaN</td>\n",
       "    </tr>\n",
       "    <tr>\n",
       "      <th>75752</th>\n",
       "      <td>75752</td>\n",
       "      <td>2016</td>\n",
       "      <td>PPG, IBRD (INT, current US$)</td>\n",
       "      <td>NaN</td>\n",
       "      <td>NaN</td>\n",
       "    </tr>\n",
       "  </tbody>\n",
       "</table>\n",
       "</div>"
      ],
      "text/plain": [
       "       Unnamed: 0  year                                     indicator_name  \\\n",
       "74863       74863  2016                   Agricultural machinery, tractors   \n",
       "74862       74862  2016                             Arable land (hectares)   \n",
       "74861       74861  2016              Short-term debt (% of total reserves)   \n",
       "74859       74859  2016  Prevalence of wasting, weight for height (% of...   \n",
       "75752       75752  2016                       PPG, IBRD (INT, current US$)   \n",
       "\n",
       "       indicator_value  Unnamed: 3  \n",
       "74863              NaN         NaN  \n",
       "74862              NaN         NaN  \n",
       "74861              NaN         NaN  \n",
       "74859              NaN         NaN  \n",
       "75752              NaN         NaN  "
      ]
     },
     "execution_count": 95,
     "metadata": {},
     "output_type": "execute_result"
    }
   ],
   "source": [
    "WDI_df_sorted.tail()"
   ]
  },
  {
   "cell_type": "markdown",
   "metadata": {},
   "source": [
    "We extract all `indicator_name` from the dataframe and put them into a list. "
   ]
  },
  {
   "cell_type": "code",
   "execution_count": 96,
   "metadata": {},
   "outputs": [],
   "source": [
    "indicator_list_from_df = list(WDI_df_sorted[\"indicator_name\"].unique())"
   ]
  },
  {
   "cell_type": "markdown",
   "metadata": {},
   "source": [
    "This is the number of indicators inside the list."
   ]
  },
  {
   "cell_type": "code",
   "execution_count": 97,
   "metadata": {},
   "outputs": [
    {
     "data": {
      "text/plain": [
       "1329"
      ]
     },
     "execution_count": 97,
     "metadata": {},
     "output_type": "execute_result"
    }
   ],
   "source": [
    "len(indicator_list_from_df)"
   ]
  },
  {
   "cell_type": "markdown",
   "metadata": {},
   "source": [
    "## Showing All Non-Empty Indicator Values"
   ]
  },
  {
   "cell_type": "markdown",
   "metadata": {},
   "source": [
    "We print the number of values in each `indicator_name`. "
   ]
  },
  {
   "cell_type": "markdown",
   "metadata": {},
   "source": [
    "Total number of indicators is **1329**"
   ]
  },
  {
   "cell_type": "markdown",
   "metadata": {},
   "source": [
    "A `counter` used to count how many indicators satisfy some conditions."
   ]
  },
  {
   "cell_type": "code",
   "execution_count": 98,
   "metadata": {},
   "outputs": [],
   "source": [
    "counter = 0"
   ]
  },
  {
   "cell_type": "markdown",
   "metadata": {},
   "source": [
    "We collect all indicators that satisfy 90% or more data availability."
   ]
  },
  {
   "cell_type": "code",
   "execution_count": 99,
   "metadata": {},
   "outputs": [],
   "source": [
    "indicator_list_100 = []"
   ]
  },
  {
   "cell_type": "code",
   "execution_count": 100,
   "metadata": {},
   "outputs": [],
   "source": [
    "for indeks, indicator in enumerate(indicator_list_from_df):\n",
    "    df_temp = WDI_df_sorted[ WDI_df_sorted['indicator_name'] == indicator  ]\n",
    "    years = df_temp['year']\n",
    "    values = df_temp['indicator_value']\n",
    "    percentage = 57 - values.isna().sum()\n",
    "    if (percentage / 57) >= 0.9:\n",
    "#        print(indeks, indicator, \"with number of values =\", percentage, \"and percentage =\", 100*(percentage / 57) )\n",
    "        indicator_list_100.append(indicator)\n",
    "        counter += 1"
   ]
  },
  {
   "cell_type": "markdown",
   "metadata": {},
   "source": [
    "Terdapat **179** indikator yang jumlah *time series values*nya di atas **90%**."
   ]
  },
  {
   "cell_type": "code",
   "execution_count": 101,
   "metadata": {},
   "outputs": [
    {
     "data": {
      "text/plain": [
       "179"
      ]
     },
     "execution_count": 101,
     "metadata": {},
     "output_type": "execute_result"
    }
   ],
   "source": [
    "len(indicator_list_100)"
   ]
  },
  {
   "cell_type": "markdown",
   "metadata": {},
   "source": [
    "For example, we show 5 indicators from the list. "
   ]
  },
  {
   "cell_type": "code",
   "execution_count": 102,
   "metadata": {},
   "outputs": [
    {
     "data": {
      "text/plain": [
       "['CO2 emissions (kg per 2010 US$ of GDP)',\n",
       " 'GNI (constant LCU)',\n",
       " 'GNI (current LCU)',\n",
       " 'GNI per capita growth (annual %)',\n",
       " 'GNI (constant 2010 US$)']"
      ]
     },
     "execution_count": 102,
     "metadata": {},
     "output_type": "execute_result"
    }
   ],
   "source": [
    "indicator_list_100[:5]"
   ]
  },
  {
   "cell_type": "markdown",
   "metadata": {},
   "source": [
    "Sayang sekali, terdapat 5 (lima) indicator name yang memiliki missing data di tengah2 yaitu sebagai berikut:\n",
    "1.  Final consumption expenditure, etc. (annual % growth) (nomor 18)\n",
    "2.  Agriculture, value added (annual % growth) (nomor 41)\n",
    "3.  Merchandise exports to low- and middle-income economies within region (% of total merchandise exports) (nomor 69)\n",
    "4.  Merchandise exports to high-income economies (% of total merchandise exports) (nomor 72)\n",
    "5.  Net bilateral aid flows from DAC donors, Canada (current US\\$) (nomor 89) \n",
    "6.  Merchandise exports to low- and middle-income economies outside region (% of total merchandise exports)\n",
    "7.  Merchandise exports to low- and middle-income economies in South Asia (% of total merchandise exports)\n",
    "8. Net bilateral aid flows from DAC donors, Italy (current US$)"
   ]
  },
  {
   "cell_type": "markdown",
   "metadata": {},
   "source": [
    "We shall remove all indicator names that have _missing values_."
   ]
  },
  {
   "cell_type": "markdown",
   "metadata": {},
   "source": [
    "1. We remove _Final consumption expenditure, etc. (annual % growth)_"
   ]
  },
  {
   "cell_type": "code",
   "execution_count": 103,
   "metadata": {},
   "outputs": [],
   "source": [
    "indicator_list_100.remove('Final consumption expenditure, etc. (annual % growth)')"
   ]
  },
  {
   "cell_type": "code",
   "execution_count": 104,
   "metadata": {},
   "outputs": [
    {
     "data": {
      "text/plain": [
       "178"
      ]
     },
     "execution_count": 104,
     "metadata": {},
     "output_type": "execute_result"
    }
   ],
   "source": [
    "len(indicator_list_100)"
   ]
  },
  {
   "cell_type": "markdown",
   "metadata": {},
   "source": [
    "2. We remove _Agriculture, value added (annual % growth)_"
   ]
  },
  {
   "cell_type": "code",
   "execution_count": 105,
   "metadata": {},
   "outputs": [],
   "source": [
    "indicator_list_100.remove('Agriculture, value added (annual % growth)')"
   ]
  },
  {
   "cell_type": "code",
   "execution_count": 106,
   "metadata": {},
   "outputs": [
    {
     "data": {
      "text/plain": [
       "177"
      ]
     },
     "execution_count": 106,
     "metadata": {},
     "output_type": "execute_result"
    }
   ],
   "source": [
    "len(indicator_list_100)"
   ]
  },
  {
   "cell_type": "markdown",
   "metadata": {},
   "source": [
    "3. We remove _Merchandise exports to low- and middle-income economies within region (% of total merchandise exports)_"
   ]
  },
  {
   "cell_type": "code",
   "execution_count": 107,
   "metadata": {},
   "outputs": [],
   "source": [
    "indicator_list_100.remove('Merchandise exports to low- and middle-income economies within region (% of total merchandise exports)')"
   ]
  },
  {
   "cell_type": "code",
   "execution_count": 108,
   "metadata": {},
   "outputs": [
    {
     "data": {
      "text/plain": [
       "176"
      ]
     },
     "execution_count": 108,
     "metadata": {},
     "output_type": "execute_result"
    }
   ],
   "source": [
    "len(indicator_list_100)"
   ]
  },
  {
   "cell_type": "markdown",
   "metadata": {},
   "source": [
    "4. We remove _Merchandise exports to high-income economies (% of total merchandise exports)_"
   ]
  },
  {
   "cell_type": "code",
   "execution_count": 109,
   "metadata": {},
   "outputs": [],
   "source": [
    "indicator_list_100.remove('Merchandise exports to high-income economies (% of total merchandise exports)')"
   ]
  },
  {
   "cell_type": "code",
   "execution_count": 110,
   "metadata": {},
   "outputs": [
    {
     "data": {
      "text/plain": [
       "175"
      ]
     },
     "execution_count": 110,
     "metadata": {},
     "output_type": "execute_result"
    }
   ],
   "source": [
    "len(indicator_list_100)"
   ]
  },
  {
   "cell_type": "markdown",
   "metadata": {},
   "source": [
    "5. We remove 'Net bilateral aid flows from DAC donors, Canada (current US\\$)'"
   ]
  },
  {
   "cell_type": "code",
   "execution_count": 111,
   "metadata": {},
   "outputs": [],
   "source": [
    "indicator_list_100.remove('Net bilateral aid flows from DAC donors, Canada (current US$)')"
   ]
  },
  {
   "cell_type": "code",
   "execution_count": 112,
   "metadata": {},
   "outputs": [
    {
     "data": {
      "text/plain": [
       "174"
      ]
     },
     "execution_count": 112,
     "metadata": {},
     "output_type": "execute_result"
    }
   ],
   "source": [
    "len(indicator_list_100)"
   ]
  },
  {
   "cell_type": "markdown",
   "metadata": {},
   "source": [
    "6. We remove 'Merchandise exports to low- and middle-income economies outside region (% of total merchandise exports)'"
   ]
  },
  {
   "cell_type": "code",
   "execution_count": 114,
   "metadata": {},
   "outputs": [],
   "source": [
    "indicator_list_100.remove('Merchandise exports to low- and middle-income economies outside region (% of total merchandise exports)')"
   ]
  },
  {
   "cell_type": "code",
   "execution_count": 115,
   "metadata": {},
   "outputs": [
    {
     "data": {
      "text/plain": [
       "173"
      ]
     },
     "execution_count": 115,
     "metadata": {},
     "output_type": "execute_result"
    }
   ],
   "source": [
    "len(indicator_list_100)"
   ]
  },
  {
   "cell_type": "markdown",
   "metadata": {},
   "source": [
    "7. We remove 'Merchandise exports to low- and middle-income economies in South Asia (% of total merchandise exports)'"
   ]
  },
  {
   "cell_type": "code",
   "execution_count": 116,
   "metadata": {},
   "outputs": [],
   "source": [
    "indicator_list_100.remove('Merchandise exports to low- and middle-income economies in South Asia (% of total merchandise exports)')"
   ]
  },
  {
   "cell_type": "code",
   "execution_count": 117,
   "metadata": {},
   "outputs": [
    {
     "data": {
      "text/plain": [
       "172"
      ]
     },
     "execution_count": 117,
     "metadata": {},
     "output_type": "execute_result"
    }
   ],
   "source": [
    "len(indicator_list_100)"
   ]
  },
  {
   "cell_type": "markdown",
   "metadata": {},
   "source": [
    "8.  We remove 'Net bilateral aid flows from DAC donors, Italy (current US\\$)'"
   ]
  },
  {
   "cell_type": "code",
   "execution_count": 118,
   "metadata": {},
   "outputs": [],
   "source": [
    "indicator_list_100.remove('Net bilateral aid flows from DAC donors, Italy (current US$)')"
   ]
  },
  {
   "cell_type": "code",
   "execution_count": 119,
   "metadata": {},
   "outputs": [
    {
     "data": {
      "text/plain": [
       "171"
      ]
     },
     "execution_count": 119,
     "metadata": {},
     "output_type": "execute_result"
    }
   ],
   "source": [
    "len(indicator_list_100)"
   ]
  },
  {
   "cell_type": "markdown",
   "metadata": {},
   "source": [
    "We save all these indicator names into a file."
   ]
  },
  {
   "cell_type": "code",
   "execution_count": 120,
   "metadata": {},
   "outputs": [],
   "source": [
    "pickle.dump( indicator_list_100, open( WDI_path+\"list_of_all_indicator_names_above_90.p\", \"wb\" ) )"
   ]
  },
  {
   "cell_type": "markdown",
   "metadata": {},
   "source": [
    "Again we collect all the rows that satisfy availability of data over 90%."
   ]
  },
  {
   "cell_type": "code",
   "execution_count": 121,
   "metadata": {},
   "outputs": [],
   "source": [
    "WDI_df_over_90 = WDI_df_sorted.loc[WDI_df_sorted['indicator_name'].isin(indicator_list_100)]"
   ]
  },
  {
   "cell_type": "markdown",
   "metadata": {},
   "source": [
    "Total number of rows is (_Number of Indicators_) $\\times$ (_Number of Years_), that is $171 \\times 57 = 9747$."
   ]
  },
  {
   "cell_type": "code",
   "execution_count": 122,
   "metadata": {},
   "outputs": [
    {
     "data": {
      "text/plain": [
       "(9747, 5)"
      ]
     },
     "execution_count": 122,
     "metadata": {},
     "output_type": "execute_result"
    }
   ],
   "source": [
    "WDI_df_over_90.shape"
   ]
  },
  {
   "cell_type": "code",
   "execution_count": 123,
   "metadata": {},
   "outputs": [
    {
     "data": {
      "text/plain": [
       "9747"
      ]
     },
     "execution_count": 123,
     "metadata": {},
     "output_type": "execute_result"
    }
   ],
   "source": [
    "171 * 57"
   ]
  },
  {
   "cell_type": "markdown",
   "metadata": {},
   "source": [
    "## Creating a Design Matrix for Features whose Availability $\\ge$ 90% "
   ]
  },
  {
   "cell_type": "markdown",
   "metadata": {},
   "source": [
    "We need to extract a list of years."
   ]
  },
  {
   "cell_type": "markdown",
   "metadata": {},
   "source": [
    "`list_of_years` will be our index."
   ]
  },
  {
   "cell_type": "code",
   "execution_count": 124,
   "metadata": {},
   "outputs": [],
   "source": [
    "list_of_years = list(WDI_df_over_90['year'].unique())"
   ]
  },
  {
   "cell_type": "code",
   "execution_count": 125,
   "metadata": {},
   "outputs": [],
   "source": [
    "list_of_indicators = indicator_list_100"
   ]
  },
  {
   "cell_type": "markdown",
   "metadata": {},
   "source": [
    "We create an empty `dataframe`."
   ]
  },
  {
   "cell_type": "code",
   "execution_count": 126,
   "metadata": {},
   "outputs": [],
   "source": [
    "new_design_df = pd.DataFrame(columns=list_of_indicators, index=list_of_years)"
   ]
  },
  {
   "cell_type": "code",
   "execution_count": 127,
   "metadata": {},
   "outputs": [
    {
     "name": "stdout",
     "output_type": "stream",
     "text": [
      "Populating for row 1960 is completed ...\n",
      "Populating for row 1961 is completed ...\n",
      "Populating for row 1962 is completed ...\n",
      "Populating for row 1963 is completed ...\n",
      "Populating for row 1964 is completed ...\n",
      "Populating for row 1965 is completed ...\n",
      "Populating for row 1966 is completed ...\n",
      "Populating for row 1967 is completed ...\n",
      "Populating for row 1968 is completed ...\n",
      "Populating for row 1969 is completed ...\n",
      "Populating for row 1970 is completed ...\n",
      "Populating for row 1971 is completed ...\n",
      "Populating for row 1972 is completed ...\n",
      "Populating for row 1973 is completed ...\n",
      "Populating for row 1974 is completed ...\n",
      "Populating for row 1975 is completed ...\n",
      "Populating for row 1976 is completed ...\n",
      "Populating for row 1977 is completed ...\n",
      "Populating for row 1978 is completed ...\n",
      "Populating for row 1979 is completed ...\n",
      "Populating for row 1980 is completed ...\n",
      "Populating for row 1981 is completed ...\n",
      "Populating for row 1982 is completed ...\n",
      "Populating for row 1983 is completed ...\n",
      "Populating for row 1984 is completed ...\n",
      "Populating for row 1985 is completed ...\n",
      "Populating for row 1986 is completed ...\n",
      "Populating for row 1987 is completed ...\n",
      "Populating for row 1988 is completed ...\n",
      "Populating for row 1989 is completed ...\n",
      "Populating for row 1990 is completed ...\n",
      "Populating for row 1991 is completed ...\n",
      "Populating for row 1992 is completed ...\n",
      "Populating for row 1993 is completed ...\n",
      "Populating for row 1994 is completed ...\n",
      "Populating for row 1995 is completed ...\n",
      "Populating for row 1996 is completed ...\n",
      "Populating for row 1997 is completed ...\n",
      "Populating for row 1998 is completed ...\n",
      "Populating for row 1999 is completed ...\n",
      "Populating for row 2000 is completed ...\n",
      "Populating for row 2001 is completed ...\n",
      "Populating for row 2002 is completed ...\n",
      "Populating for row 2003 is completed ...\n",
      "Populating for row 2004 is completed ...\n",
      "Populating for row 2005 is completed ...\n",
      "Populating for row 2006 is completed ...\n",
      "Populating for row 2007 is completed ...\n",
      "Populating for row 2008 is completed ...\n",
      "Populating for row 2009 is completed ...\n",
      "Populating for row 2010 is completed ...\n",
      "Populating for row 2011 is completed ...\n",
      "Populating for row 2012 is completed ...\n",
      "Populating for row 2013 is completed ...\n",
      "Populating for row 2014 is completed ...\n",
      "Populating for row 2015 is completed ...\n",
      "Populating for row 2016 is completed ...\n"
     ]
    }
   ],
   "source": [
    "for a_year in list_of_years:    \n",
    "    \n",
    "    # Create a temporary dataframe\n",
    "    temp_df = WDI_df_over_90[WDI_df_over_90['year'] == a_year ]\n",
    "    \n",
    "    # Create a list of indicator names temporary\n",
    "    list_of_indicator_names_temp = list(temp_df['indicator_name'])\n",
    "    \n",
    "    # Create a list of indicator values temporary that corresponds to the indicator names\n",
    "    list_of_indicator_values_temp = list(temp_df['indicator_value'])\n",
    "    \n",
    "    # Create an empy dict\n",
    "    temp_set = {}\n",
    "    \n",
    "    # We iterate all nama indikator from list_of_indicator_names_temp\n",
    "    for nama_indikator in list_of_indicator_names_temp:\n",
    "        temp_set[nama_indikator] = np.sum(temp_df[ temp_df['indicator_name'] == nama_indikator ]['indicator_value'])\n",
    "    \n",
    "    new_design_df.loc[a_year] = pd.Series( temp_set )\n",
    "    print(\"Populating for row\", a_year, \"is completed ...\")"
   ]
  },
  {
   "cell_type": "code",
   "execution_count": 129,
   "metadata": {},
   "outputs": [
    {
     "data": {
      "text/plain": [
       "(57, 171)"
      ]
     },
     "execution_count": 129,
     "metadata": {},
     "output_type": "execute_result"
    }
   ],
   "source": [
    "new_design_df.shape"
   ]
  },
  {
   "cell_type": "markdown",
   "metadata": {},
   "source": [
    "#### BEGIN: MWE"
   ]
  },
  {
   "cell_type": "markdown",
   "metadata": {},
   "source": [
    "We try to create a set of years from 1960 to 2016"
   ]
  },
  {
   "cell_type": "code",
   "execution_count": null,
   "metadata": {},
   "outputs": [],
   "source": [
    "set(np.arange(1960, 2017));"
   ]
  },
  {
   "cell_type": "code",
   "execution_count": null,
   "metadata": {},
   "outputs": [],
   "source": [
    "set_of_years.difference_update({2016})"
   ]
  },
  {
   "cell_type": "markdown",
   "metadata": {},
   "source": [
    "#### END: MWE"
   ]
  },
  {
   "cell_type": "code",
   "execution_count": 130,
   "metadata": {},
   "outputs": [],
   "source": [
    "set_of_years = set(np.arange(1962, 2014))\n"
   ]
  },
  {
   "cell_type": "code",
   "execution_count": 131,
   "metadata": {},
   "outputs": [],
   "source": [
    "complete_values_df = new_design_df.loc[set_of_years]"
   ]
  },
  {
   "cell_type": "code",
   "execution_count": 133,
   "metadata": {},
   "outputs": [
    {
     "data": {
      "text/plain": [
       "(52, 171)"
      ]
     },
     "execution_count": 133,
     "metadata": {},
     "output_type": "execute_result"
    }
   ],
   "source": [
    "complete_values_df.shape"
   ]
  },
  {
   "cell_type": "code",
   "execution_count": null,
   "metadata": {},
   "outputs": [],
   "source": []
  },
  {
   "cell_type": "code",
   "execution_count": 134,
   "metadata": {},
   "outputs": [
    {
     "name": "stdout",
     "output_type": "stream",
     "text": [
      "CO2 emissions (kg per 2010 US$ of GDP) Int64Index([], dtype='int64')\n",
      "GNI (constant LCU) Int64Index([], dtype='int64')\n",
      "GNI (current LCU) Int64Index([], dtype='int64')\n",
      "GNI per capita growth (annual %) Int64Index([], dtype='int64')\n",
      "GNI (constant 2010 US$) Int64Index([], dtype='int64')\n",
      "General government final consumption expenditure (current LCU) Int64Index([], dtype='int64')\n",
      "Net bilateral aid flows from DAC donors, United Kingdom (current US$) Int64Index([], dtype='int64')\n",
      "Food production index (2004-2006 = 100) Int64Index([], dtype='int64')\n",
      "Household final consumption expenditure (annual % growth) Int64Index([], dtype='int64')\n",
      "Permanent cropland (% of land area) Int64Index([], dtype='int64')\n",
      "GNI per capita (constant 2010 US$) Int64Index([], dtype='int64')\n",
      "Age dependency ratio, young (% of working-age population) Int64Index([], dtype='int64')\n",
      "Population density (people per sq. km of land area) Int64Index([], dtype='int64')\n",
      "Industry, value added (annual % growth) Int64Index([], dtype='int64')\n",
      "Age dependency ratio, old (% of working-age population) Int64Index([], dtype='int64')\n",
      "GNI per capita (constant LCU) Int64Index([], dtype='int64')\n",
      "Land under cereal production (hectares) Int64Index([], dtype='int64')\n",
      "Agricultural land (sq. km) Int64Index([], dtype='int64')\n",
      "Cereal yield (kg per hectare) Int64Index([], dtype='int64')\n",
      "Cereal production (metric tons) Int64Index([], dtype='int64')\n",
      "Agriculture, value added (constant LCU) Int64Index([], dtype='int64')\n",
      "Household final consumption expenditure, etc. (annual % growth) Int64Index([], dtype='int64')\n",
      "Gross capital formation (annual % growth) Int64Index([], dtype='int64')\n",
      "Aquaculture production (metric tons) Int64Index([], dtype='int64')\n",
      "Final consumption expenditure, etc. (current LCU) Int64Index([], dtype='int64')\n",
      "Final consumption expenditure, etc. (constant LCU) Int64Index([], dtype='int64')\n",
      "Final consumption expenditure, etc. (constant 2010 US$) Int64Index([], dtype='int64')\n",
      "Arms imports (SIPRI trend indicator values) Int64Index([], dtype='int64')\n",
      "Final consumption expenditure, etc. (% of GDP) Int64Index([], dtype='int64')\n",
      "Final consumption expenditure (current LCU) Int64Index([], dtype='int64')\n",
      "Final consumption expenditure (constant LCU) Int64Index([], dtype='int64')\n",
      "Final consumption expenditure (constant 2010 US$) Int64Index([], dtype='int64')\n",
      "Agriculture, value added (current LCU) Int64Index([], dtype='int64')\n",
      "General government final consumption expenditure (annual % growth) Int64Index([], dtype='int64')\n",
      "Agriculture, value added (constant 2010 US$) Int64Index([], dtype='int64')\n",
      "Agriculture, value added (% of GDP) Int64Index([], dtype='int64')\n",
      "Surface area (sq. km) Int64Index([], dtype='int64')\n",
      "Crop production index (2004-2006 = 100) Int64Index([], dtype='int64')\n",
      "General government final consumption expenditure (constant 2010 US$) Int64Index([], dtype='int64')\n",
      "Exports of goods and services (annual % growth) Int64Index([], dtype='int64')\n",
      "General government final consumption expenditure (constant LCU) Int64Index([], dtype='int64')\n",
      "General government final consumption expenditure (% of GDP) Int64Index([], dtype='int64')\n",
      "Household final consumption expenditure per capita growth (annual %) Int64Index([], dtype='int64')\n",
      "Agricultural land (% of land area) Int64Index([], dtype='int64')\n",
      "GNI growth (annual %) Int64Index([], dtype='int64')\n",
      "Population in the largest city (% of urban population) Int64Index([], dtype='int64')\n",
      "Exports of goods and services (current LCU) Int64Index([], dtype='int64')\n",
      "Population in largest city Int64Index([], dtype='int64')\n",
      "Merchandise imports (current US$) Int64Index([], dtype='int64')\n",
      "Population growth (annual %) Int64Index([], dtype='int64')\n",
      "Exports of goods and services (constant LCU) Int64Index([], dtype='int64')\n",
      "Industry, value added (% of GDP) Int64Index([], dtype='int64')\n",
      "Capture fisheries production (metric tons) Int64Index([], dtype='int64')\n",
      "External balance on goods and services (% of GDP) Int64Index([], dtype='int64')\n",
      "Merchandise imports by the reporting economy, residual (% of total merchandise imports) Int64Index([], dtype='int64')\n",
      "Population ages 65 and above (% of total) Int64Index([], dtype='int64')\n",
      "External balance on goods and services (constant LCU) Int64Index([], dtype='int64')\n",
      "Merchandise imports by the reporting economy (current US$) Int64Index([], dtype='int64')\n",
      "Population ages 15-64 (% of total) Int64Index([], dtype='int64')\n",
      "Population in urban agglomerations of more than 1 million Int64Index([], dtype='int64')\n",
      "Population in urban agglomerations of more than 1 million (% of total population) Int64Index([], dtype='int64')\n",
      "Rural population growth (annual %) Int64Index([], dtype='int64')\n",
      "Rural population (% of total population) Int64Index([], dtype='int64')\n",
      "Exports of goods and services (% of GDP) Int64Index([], dtype='int64')\n",
      "Rural population Int64Index([], dtype='int64')\n",
      "Merchandise exports to low- and middle-income economies in East Asia & Pacific (% of total merchandise exports) Int64Index([], dtype='int64')\n",
      "Population, total Int64Index([], dtype='int64')\n",
      "Population, female (% of total) Int64Index([], dtype='int64')\n",
      "Exports of goods and services (constant 2010 US$) Int64Index([], dtype='int64')\n",
      "Exports as a capacity to import (constant LCU) Int64Index([], dtype='int64')\n",
      "Merchandise imports from high-income economies (% of total merchandise imports) Int64Index([], dtype='int64')\n",
      "Life expectancy at birth, male (years) Int64Index([], dtype='int64')\n",
      "Mortality rate, infant (per 1,000 live births) Int64Index([], dtype='int64')\n",
      "Net official development assistance and official aid received (constant 2013 US$) Int64Index([], dtype='int64')\n",
      "Inflation, consumer prices (annual %) Int64Index([], dtype='int64')\n",
      "Mortality rate, under-5 (per 1,000 live births) Int64Index([], dtype='int64')\n",
      "Net ODA received per capita (current US$) Int64Index([], dtype='int64')\n",
      "Net official development assistance and official aid received (current US$) Int64Index([], dtype='int64')\n",
      "CO2 emissions from gaseous fuel consumption (% of total) Int64Index([], dtype='int64')\n",
      "Net bilateral aid flows from DAC donors, United States (current US$) Int64Index([], dtype='int64')\n",
      "Net bilateral aid flows from DAC donors, Germany (current US$) Int64Index([], dtype='int64')\n",
      "Net bilateral aid flows from DAC donors, Total (current US$) Int64Index([], dtype='int64')\n",
      "Net income from abroad (current LCU) Int64Index([], dtype='int64')\n",
      "External balance on goods and services (current LCU) Int64Index([], dtype='int64')\n",
      "Mortality rate, adult, male (per 1,000 male adults) Int64Index([], dtype='int64')\n",
      "Net official development assistance received (current US$) Int64Index([], dtype='int64')\n",
      "Population ages 0-14 (% of total) Int64Index([], dtype='int64')\n",
      "Industry, value added (constant 2010 US$) Int64Index([], dtype='int64')\n",
      "Industry, value added (constant LCU) Int64Index([], dtype='int64')\n",
      "Net official development assistance received (constant 2013 US$) Int64Index([], dtype='int64')\n",
      "Birth rate, crude (per 1,000 people) Int64Index([], dtype='int64')\n",
      "Number of under-five deaths Int64Index([], dtype='int64')\n",
      "Merchandise imports from low- and middle-income economies outside region (% of total merchandise imports) Int64Index([], dtype='int64')\n",
      "Number of infant deaths Int64Index([], dtype='int64')\n",
      "Industry, value added (current LCU) Int64Index([], dtype='int64')\n",
      "Mortality rate, adult, female (per 1,000 female adults) Int64Index([], dtype='int64')\n",
      "Merchandise imports from low- and middle-income economies in South Asia (% of total merchandise imports) Int64Index([], dtype='int64')\n",
      "Imports of goods and services (current LCU) Int64Index([], dtype='int64')\n",
      "Discrepancy in expenditure estimate of GDP (current LCU) Int64Index([], dtype='int64')\n",
      "Gross national expenditure (current LCU) Int64Index([], dtype='int64')\n",
      "Fertility rate, total (births per woman) Int64Index([], dtype='int64')\n",
      "Gross national expenditure deflator (base year varies by country) Int64Index([], dtype='int64')\n",
      "Life expectancy at birth, total (years) Int64Index([], dtype='int64')\n",
      "Household final consumption expenditure (constant 2010 US$) Int64Index([], dtype='int64')\n",
      "Gross national expenditure (constant LCU) Int64Index([], dtype='int64')\n",
      "Household final consumption expenditure (constant LCU) Int64Index([], dtype='int64')\n",
      "Household final consumption expenditure per capita (constant 2010 US$) Int64Index([], dtype='int64')\n",
      "Household final consumption expenditure, etc. (% of GDP) Int64Index([], dtype='int64')\n",
      "CO2 emissions from gaseous fuel consumption (kt) Int64Index([], dtype='int64')\n",
      "Household final consumption expenditure, etc. (constant 2010 US$) Int64Index([], dtype='int64')\n",
      "Household final consumption expenditure, etc. (constant LCU) Int64Index([], dtype='int64')\n",
      "Household final consumption expenditure, etc. (current LCU) Int64Index([], dtype='int64')\n",
      "Household final consumption expenditure (current LCU) Int64Index([], dtype='int64')\n",
      "Urban population growth (annual %) Int64Index([], dtype='int64')\n",
      "Gross national expenditure (constant 2010 US$) Int64Index([], dtype='int64')\n",
      "Gross domestic savings (current LCU) Int64Index([], dtype='int64')\n",
      "Gross national expenditure (% of GDP) Int64Index([], dtype='int64')\n",
      "Grants, excluding technical cooperation (BoP, current US$) Int64Index([], dtype='int64')\n",
      "Gross capital formation (constant 2010 US$) Int64Index([], dtype='int64')\n",
      "Gross capital formation (constant LCU) Int64Index([], dtype='int64')\n",
      "Gross capital formation (current LCU) Int64Index([], dtype='int64')\n",
      "Gross domestic income (constant LCU) Int64Index([], dtype='int64')\n",
      "Gross domestic savings (% of GDP) Int64Index([], dtype='int64')\n",
      "CO2 emissions (kt) Int64Index([], dtype='int64')\n",
      "Gross capital formation (% of GDP) Int64Index([], dtype='int64')\n",
      "Merchandise exports by the reporting economy, residual (% of total merchandise exports) Int64Index([], dtype='int64')\n",
      "Urban population (% of total) Int64Index([], dtype='int64')\n",
      "Manufacturing, value added (constant 2010 US$) Int64Index([], dtype='int64')\n",
      "Services, etc., value added (current LCU) Int64Index([], dtype='int64')\n",
      "Consumer price index (2010 = 100) Int64Index([], dtype='int64')\n",
      "Imports of goods and services (constant 2010 US$) Int64Index([], dtype='int64')\n",
      "Manufacturing, value added (constant LCU) Int64Index([], dtype='int64')\n",
      "Services, etc., value added (constant LCU) Int64Index([], dtype='int64')\n",
      "CO2 emissions from solid fuel consumption (kt) Int64Index([], dtype='int64')\n",
      "Manufacturing, value added (current LCU) Int64Index([], dtype='int64')\n",
      "Death rate, crude (per 1,000 people) Int64Index([], dtype='int64')\n",
      "Merchandise exports (current US$) Int64Index([], dtype='int64')\n",
      "Discrepancy in expenditure estimate of GDP (constant LCU) Int64Index([], dtype='int64')\n",
      "Services, etc., value added (% of GDP) Int64Index([], dtype='int64')\n",
      "Imports of goods and services (constant LCU) Int64Index([], dtype='int64')\n",
      "Merchandise exports by the reporting economy (current US$) Int64Index([], dtype='int64')\n",
      "Services, etc., value added (constant 2010 US$) Int64Index([], dtype='int64')\n",
      "Urban population Int64Index([], dtype='int64')\n",
      "CO2 emissions from solid fuel consumption (% of total) Int64Index([], dtype='int64')\n",
      "Manufacturing, value added (% of GDP) Int64Index([], dtype='int64')\n",
      "Life expectancy at birth, female (years) Int64Index([], dtype='int64')\n",
      "Trade (% of GDP) Int64Index([], dtype='int64')\n",
      "Total reserves minus gold (current US$) Int64Index([], dtype='int64')\n",
      "CO2 emissions (metric tons per capita) Int64Index([], dtype='int64')\n",
      "Survival to age 65, female (% of cohort) Int64Index([], dtype='int64')\n",
      "Total reserves (includes gold, current US$) Int64Index([], dtype='int64')\n",
      "Imports of goods and services (% of GDP) Int64Index([], dtype='int64')\n",
      "Terms of trade adjustment (constant LCU) Int64Index([], dtype='int64')\n",
      "Technical cooperation grants (BoP, current US$) Int64Index([], dtype='int64')\n",
      "CO2 emissions from liquid fuel consumption (% of total) Int64Index([], dtype='int64')\n",
      "CO2 emissions from liquid fuel consumption (kt) Int64Index([], dtype='int64')\n",
      "Survival to age 65, male (% of cohort) Int64Index([], dtype='int64')\n",
      "Total fisheries production (metric tons) Int64Index([], dtype='int64')\n",
      "Arable land (hectares per person) Int64Index([], dtype='int64')\n",
      "Land area (sq. km) Int64Index([], dtype='int64')\n",
      "Age dependency ratio (% of working-age population) Int64Index([], dtype='int64')\n",
      "GNI per capita (current LCU) Int64Index([], dtype='int64')\n",
      "Inflation, GDP deflator (annual %) Int64Index([], dtype='int64')\n",
      "Manufacturing, value added (annual % growth) Int64Index([], dtype='int64')\n",
      "Arable land (hectares) Int64Index([], dtype='int64')\n",
      "Imports of goods and services (annual % growth) Int64Index([], dtype='int64')\n",
      "Net bilateral aid flows from DAC donors, Japan (current US$) Int64Index([], dtype='int64')\n",
      "Adolescent fertility rate (births per 1,000 women ages 15-19) Int64Index([], dtype='int64')\n",
      "Arable land (% of land area) Int64Index([], dtype='int64')\n",
      "Livestock production index (2004-2006 = 100) Int64Index([], dtype='int64')\n",
      "Services, etc., value added (annual % growth) Int64Index([], dtype='int64')\n"
     ]
    }
   ],
   "source": [
    "for indikator in list_of_indicators:\n",
    "    print(indikator, complete_values_df.index[complete_values_df[indikator] == 0])"
   ]
  },
  {
   "cell_type": "code",
   "execution_count": 135,
   "metadata": {},
   "outputs": [
    {
     "data": {
      "text/plain": [
       "52"
      ]
     },
     "execution_count": 135,
     "metadata": {},
     "output_type": "execute_result"
    }
   ],
   "source": [
    "len(set_of_years)"
   ]
  },
  {
   "cell_type": "code",
   "execution_count": 136,
   "metadata": {},
   "outputs": [],
   "source": [
    "pickle.dump( list(set_of_years), open( WDI_path+\"list_of_years_with_complete_values.p\", \"wb\" ))"
   ]
  },
  {
   "cell_type": "code",
   "execution_count": 137,
   "metadata": {},
   "outputs": [],
   "source": [
    "complete_values_df.to_csv(WDI_path+\"completed_values_1962_2013_design_matrix.csv\")"
   ]
  },
  {
   "cell_type": "code",
   "execution_count": 138,
   "metadata": {},
   "outputs": [
    {
     "data": {
      "text/plain": [
       "(52, 171)"
      ]
     },
     "execution_count": 138,
     "metadata": {},
     "output_type": "execute_result"
    }
   ],
   "source": [
    "complete_values_df.shape"
   ]
  },
  {
   "cell_type": "markdown",
   "metadata": {},
   "source": [
    "#### ==============================================================="
   ]
  },
  {
   "cell_type": "code",
   "execution_count": null,
   "metadata": {},
   "outputs": [],
   "source": []
  },
  {
   "cell_type": "code",
   "execution_count": null,
   "metadata": {},
   "outputs": [],
   "source": [
    "len(indicator_list_over_60)"
   ]
  },
  {
   "cell_type": "code",
   "execution_count": null,
   "metadata": {},
   "outputs": [],
   "source": [
    "WDI_df_sorted.head()"
   ]
  },
  {
   "cell_type": "code",
   "execution_count": null,
   "metadata": {},
   "outputs": [],
   "source": [
    "WDI_over_60 = WDI_df_sorted.loc[WDI_df_sorted['indicator_name'].isin(indicator_list_over_60) ]"
   ]
  },
  {
   "cell_type": "markdown",
   "metadata": {},
   "source": [
    "**Sanity check**: there should be $522 \\times 57 = 29754$ "
   ]
  },
  {
   "cell_type": "code",
   "execution_count": null,
   "metadata": {},
   "outputs": [],
   "source": [
    "WDI_over_60.shape"
   ]
  },
  {
   "cell_type": "markdown",
   "metadata": {},
   "source": [
    "## Creating a Design Matrix for Features whose Availability $\\ge$ 60% "
   ]
  },
  {
   "cell_type": "markdown",
   "metadata": {},
   "source": [
    "We need to extract a list of years."
   ]
  },
  {
   "cell_type": "markdown",
   "metadata": {},
   "source": [
    "`list_of_years` will be our index."
   ]
  },
  {
   "cell_type": "code",
   "execution_count": null,
   "metadata": {},
   "outputs": [],
   "source": [
    "list_of_years = list(WDI_over_60['year'].unique())"
   ]
  },
  {
   "cell_type": "code",
   "execution_count": null,
   "metadata": {},
   "outputs": [],
   "source": [
    "list_of_indicators = indicator_list_over_60"
   ]
  },
  {
   "cell_type": "code",
   "execution_count": null,
   "metadata": {},
   "outputs": [],
   "source": [
    "a_year = list_of_years[0]"
   ]
  },
  {
   "cell_type": "code",
   "execution_count": null,
   "metadata": {},
   "outputs": [],
   "source": [
    "a_year"
   ]
  },
  {
   "cell_type": "markdown",
   "metadata": {},
   "source": [
    "We create an empty `dataframe`."
   ]
  },
  {
   "cell_type": "code",
   "execution_count": null,
   "metadata": {},
   "outputs": [],
   "source": [
    "new_design_df = pd.DataFrame(columns=list_of_indicators, index=list_of_years)"
   ]
  },
  {
   "cell_type": "code",
   "execution_count": null,
   "metadata": {},
   "outputs": [],
   "source": [
    "temp_df = WDI_over_60[WDI_over_60['year'] == a_year]"
   ]
  },
  {
   "cell_type": "code",
   "execution_count": null,
   "metadata": {},
   "outputs": [],
   "source": [
    "len(list(temp_df['indicator_name']))"
   ]
  },
  {
   "cell_type": "code",
   "execution_count": null,
   "metadata": {},
   "outputs": [],
   "source": [
    "list(temp_df[\"indicator_name\"])[0]"
   ]
  },
  {
   "cell_type": "code",
   "execution_count": null,
   "metadata": {},
   "outputs": [],
   "source": [
    "list( temp_df['indicator_value'] )[0]"
   ]
  },
  {
   "cell_type": "code",
   "execution_count": null,
   "metadata": {},
   "outputs": [],
   "source": [
    "for a_year in list_of_years:    \n",
    "    \n",
    "    # Create a temporary dataframe\n",
    "    temp_df = WDI_over_60[WDI_over_60['year'] == a_year ]\n",
    "    \n",
    "    # Create a list of indicator names temporary\n",
    "    list_of_indicator_names_temp = list(temp_df['indicator_name'])\n",
    "    \n",
    "    # Create a list of indicator values temporary that corresponds to the indicator names\n",
    "    list_of_indicator_values_temp = list(temp_df['indicator_value'])\n",
    "    \n",
    "    # Create an empy dict\n",
    "    temp_set = {}\n",
    "    \n",
    "    # We iterate all nama indikator from list_of_indicator_names_temp\n",
    "    for nama_indikator in list_of_indicator_names_temp:\n",
    "        temp_set[nama_indikator] = np.sum(temp_df[ temp_df['indicator_name'] == nama_indikator ]['indicator_value'])\n",
    "    \n",
    "    new_design_df.loc[a_year] = pd.Series( temp_set )\n",
    "    print(\"Populating for row\", a_year, \"is completed ...\")"
   ]
  },
  {
   "cell_type": "code",
   "execution_count": null,
   "metadata": {},
   "outputs": [],
   "source": [
    "new_design_df.head()"
   ]
  },
  {
   "cell_type": "code",
   "execution_count": null,
   "metadata": {},
   "outputs": [],
   "source": [
    "new_design_df.shape"
   ]
  },
  {
   "cell_type": "code",
   "execution_count": null,
   "metadata": {},
   "outputs": [],
   "source": [
    "WDI_path"
   ]
  },
  {
   "cell_type": "markdown",
   "metadata": {},
   "source": [
    "We save the result into a `csv` file."
   ]
  },
  {
   "cell_type": "code",
   "execution_count": null,
   "metadata": {},
   "outputs": [],
   "source": [
    "new_design_df.to_csv(WDI_path+\"design_matrix_over_60_percent.csv\")"
   ]
  },
  {
   "cell_type": "code",
   "execution_count": null,
   "metadata": {},
   "outputs": [],
   "source": []
  },
  {
   "cell_type": "code",
   "execution_count": null,
   "metadata": {},
   "outputs": [],
   "source": []
  },
  {
   "cell_type": "code",
   "execution_count": null,
   "metadata": {},
   "outputs": [],
   "source": []
  },
  {
   "cell_type": "code",
   "execution_count": null,
   "metadata": {},
   "outputs": [],
   "source": []
  },
  {
   "cell_type": "code",
   "execution_count": null,
   "metadata": {},
   "outputs": [],
   "source": []
  },
  {
   "cell_type": "markdown",
   "metadata": {},
   "source": [
    "The code below shows how to get the `indicator_value` from an `indicator_name`."
   ]
  },
  {
   "cell_type": "code",
   "execution_count": null,
   "metadata": {},
   "outputs": [],
   "source": [
    "np.sum(temp_df[ temp_df['indicator_name'] == 'CO2 emissions (kg per 2010 US$ of GDP)']['indicator_value'])"
   ]
  },
  {
   "cell_type": "code",
   "execution_count": null,
   "metadata": {},
   "outputs": [],
   "source": [
    "temp_df['indicator_name'].unique()"
   ]
  },
  {
   "cell_type": "code",
   "execution_count": null,
   "metadata": {},
   "outputs": [],
   "source": []
  },
  {
   "cell_type": "code",
   "execution_count": null,
   "metadata": {},
   "outputs": [],
   "source": []
  },
  {
   "cell_type": "code",
   "execution_count": null,
   "metadata": {},
   "outputs": [],
   "source": []
  },
  {
   "cell_type": "code",
   "execution_count": null,
   "metadata": {},
   "outputs": [],
   "source": [
    "counter"
   ]
  },
  {
   "cell_type": "code",
   "execution_count": null,
   "metadata": {},
   "outputs": [],
   "source": [
    "1329 - 807"
   ]
  },
  {
   "cell_type": "code",
   "execution_count": null,
   "metadata": {},
   "outputs": [],
   "source": [
    "522 * 57"
   ]
  },
  {
   "cell_type": "code",
   "execution_count": null,
   "metadata": {},
   "outputs": [],
   "source": [
    "counter /1329"
   ]
  },
  {
   "cell_type": "markdown",
   "metadata": {},
   "source": [
    "## Counting for the Y considering the availability of Y $\\ge$ 90%"
   ]
  },
  {
   "cell_type": "code",
   "execution_count": 139,
   "metadata": {},
   "outputs": [],
   "source": [
    "WDI_Y_df = pd.read_csv(WDI_path+\"WDI-design-matrix-Y.csv\")"
   ]
  },
  {
   "cell_type": "code",
   "execution_count": 140,
   "metadata": {},
   "outputs": [
    {
     "data": {
      "text/html": [
       "<div>\n",
       "<style scoped>\n",
       "    .dataframe tbody tr th:only-of-type {\n",
       "        vertical-align: middle;\n",
       "    }\n",
       "\n",
       "    .dataframe tbody tr th {\n",
       "        vertical-align: top;\n",
       "    }\n",
       "\n",
       "    .dataframe thead th {\n",
       "        text-align: right;\n",
       "    }\n",
       "</style>\n",
       "<table border=\"1\" class=\"dataframe\">\n",
       "  <thead>\n",
       "    <tr style=\"text-align: right;\">\n",
       "      <th></th>\n",
       "      <th>Unnamed: 0</th>\n",
       "      <th>year</th>\n",
       "      <th>indicator_name</th>\n",
       "      <th>indicator_value</th>\n",
       "    </tr>\n",
       "  </thead>\n",
       "  <tbody>\n",
       "    <tr>\n",
       "      <th>0</th>\n",
       "      <td>0</td>\n",
       "      <td>1960</td>\n",
       "      <td>GDP (constant LCU)</td>\n",
       "      <td>4.607980e+14</td>\n",
       "    </tr>\n",
       "    <tr>\n",
       "      <th>1</th>\n",
       "      <td>1</td>\n",
       "      <td>1961</td>\n",
       "      <td>GDP (constant LCU)</td>\n",
       "      <td>4.889300e+14</td>\n",
       "    </tr>\n",
       "    <tr>\n",
       "      <th>2</th>\n",
       "      <td>2</td>\n",
       "      <td>1962</td>\n",
       "      <td>GDP (constant LCU)</td>\n",
       "      <td>4.982660e+14</td>\n",
       "    </tr>\n",
       "    <tr>\n",
       "      <th>3</th>\n",
       "      <td>3</td>\n",
       "      <td>1963</td>\n",
       "      <td>GDP (constant LCU)</td>\n",
       "      <td>4.870400e+14</td>\n",
       "    </tr>\n",
       "    <tr>\n",
       "      <th>4</th>\n",
       "      <td>4</td>\n",
       "      <td>1964</td>\n",
       "      <td>GDP (constant LCU)</td>\n",
       "      <td>5.038500e+14</td>\n",
       "    </tr>\n",
       "  </tbody>\n",
       "</table>\n",
       "</div>"
      ],
      "text/plain": [
       "   Unnamed: 0  year      indicator_name  indicator_value\n",
       "0           0  1960  GDP (constant LCU)     4.607980e+14\n",
       "1           1  1961  GDP (constant LCU)     4.889300e+14\n",
       "2           2  1962  GDP (constant LCU)     4.982660e+14\n",
       "3           3  1963  GDP (constant LCU)     4.870400e+14\n",
       "4           4  1964  GDP (constant LCU)     5.038500e+14"
      ]
     },
     "execution_count": 140,
     "metadata": {},
     "output_type": "execute_result"
    }
   ],
   "source": [
    "WDI_Y_df.head()"
   ]
  },
  {
   "cell_type": "code",
   "execution_count": 141,
   "metadata": {},
   "outputs": [],
   "source": [
    "WDI_Y_df_sorted =  WDI_Y_df.sort_values('year')"
   ]
  },
  {
   "cell_type": "code",
   "execution_count": 142,
   "metadata": {},
   "outputs": [
    {
     "data": {
      "text/html": [
       "<div>\n",
       "<style scoped>\n",
       "    .dataframe tbody tr th:only-of-type {\n",
       "        vertical-align: middle;\n",
       "    }\n",
       "\n",
       "    .dataframe tbody tr th {\n",
       "        vertical-align: top;\n",
       "    }\n",
       "\n",
       "    .dataframe thead th {\n",
       "        text-align: right;\n",
       "    }\n",
       "</style>\n",
       "<table border=\"1\" class=\"dataframe\">\n",
       "  <thead>\n",
       "    <tr style=\"text-align: right;\">\n",
       "      <th></th>\n",
       "      <th>Unnamed: 0</th>\n",
       "      <th>year</th>\n",
       "      <th>indicator_name</th>\n",
       "      <th>indicator_value</th>\n",
       "    </tr>\n",
       "  </thead>\n",
       "  <tbody>\n",
       "    <tr>\n",
       "      <th>625</th>\n",
       "      <td>625</td>\n",
       "      <td>2015</td>\n",
       "      <td>GDP per capita, PPP (constant 2011 internation...</td>\n",
       "      <td>1.038532e+04</td>\n",
       "    </tr>\n",
       "    <tr>\n",
       "      <th>216</th>\n",
       "      <td>216</td>\n",
       "      <td>2015</td>\n",
       "      <td>GDP at market prices (constant 2010 US$)</td>\n",
       "      <td>9.875140e+11</td>\n",
       "    </tr>\n",
       "    <tr>\n",
       "      <th>383</th>\n",
       "      <td>383</td>\n",
       "      <td>2015</td>\n",
       "      <td>GDP per capita (constant 2010 US$)</td>\n",
       "      <td>3.834056e+03</td>\n",
       "    </tr>\n",
       "    <tr>\n",
       "      <th>160</th>\n",
       "      <td>160</td>\n",
       "      <td>2015</td>\n",
       "      <td>GDP (current US$)</td>\n",
       "      <td>8.619340e+11</td>\n",
       "    </tr>\n",
       "    <tr>\n",
       "      <th>1007</th>\n",
       "      <td>1007</td>\n",
       "      <td>2015</td>\n",
       "      <td>GDP per unit of energy use (PPP $ per kg of oi...</td>\n",
       "      <td>NaN</td>\n",
       "    </tr>\n",
       "  </tbody>\n",
       "</table>\n",
       "</div>"
      ],
      "text/plain": [
       "      Unnamed: 0  year                                     indicator_name  \\\n",
       "625          625  2015  GDP per capita, PPP (constant 2011 internation...   \n",
       "216          216  2015           GDP at market prices (constant 2010 US$)   \n",
       "383          383  2015                 GDP per capita (constant 2010 US$)   \n",
       "160          160  2015                                  GDP (current US$)   \n",
       "1007        1007  2015  GDP per unit of energy use (PPP $ per kg of oi...   \n",
       "\n",
       "      indicator_value  \n",
       "625      1.038532e+04  \n",
       "216      9.875140e+11  \n",
       "383      3.834056e+03  \n",
       "160      8.619340e+11  \n",
       "1007              NaN  "
      ]
     },
     "execution_count": 142,
     "metadata": {},
     "output_type": "execute_result"
    }
   ],
   "source": [
    "WDI_Y_df_sorted.tail()"
   ]
  },
  {
   "cell_type": "code",
   "execution_count": 144,
   "metadata": {},
   "outputs": [],
   "source": [
    "indicator_Y_list = list(WDI_Y_df_sorted[\"indicator_name\"].unique())"
   ]
  },
  {
   "cell_type": "code",
   "execution_count": 145,
   "metadata": {},
   "outputs": [
    {
     "data": {
      "text/plain": [
       "['GDP (constant LCU)',\n",
       " 'GDP per capita, PPP (current international $)',\n",
       " 'GDP growth (annual %)',\n",
       " 'GDP per capita, PPP (constant 2011 international $)',\n",
       " 'GDP per person employed (constant 2011 PPP $)']"
      ]
     },
     "execution_count": 145,
     "metadata": {},
     "output_type": "execute_result"
    }
   ],
   "source": [
    "indicator_Y_list[:5]"
   ]
  },
  {
   "cell_type": "markdown",
   "metadata": {},
   "source": [
    "The number of indicator names is 18."
   ]
  },
  {
   "cell_type": "code",
   "execution_count": 146,
   "metadata": {},
   "outputs": [
    {
     "data": {
      "text/plain": [
       "18"
      ]
     },
     "execution_count": 146,
     "metadata": {},
     "output_type": "execute_result"
    }
   ],
   "source": [
    "len(indicator_Y_list)"
   ]
  },
  {
   "cell_type": "code",
   "execution_count": 147,
   "metadata": {},
   "outputs": [],
   "source": [
    "indicator_y_list_over_90 = []"
   ]
  },
  {
   "cell_type": "code",
   "execution_count": 148,
   "metadata": {},
   "outputs": [],
   "source": [
    "counter = 0"
   ]
  },
  {
   "cell_type": "code",
   "execution_count": 149,
   "metadata": {},
   "outputs": [
    {
     "name": "stdout",
     "output_type": "stream",
     "text": [
      "0 GDP (constant LCU) with number of values = 100.0\n",
      "2 GDP growth (annual %) with number of values = 98.21428571428571\n",
      "8 GDP per capita growth (annual %) with number of values = 98.21428571428571\n",
      "12 GDP per capita (constant 2010 US$) with number of values = 100.0\n",
      "13 GDP at market prices (constant 2010 US$) with number of values = 100.0\n",
      "14 GDP per capita (constant LCU) with number of values = 100.0\n",
      "15 GDP deflator (base year varies by country) with number of values = 100.0\n",
      "16 GDP (current LCU) with number of values = 100.0\n",
      "17 GDP per capita (current LCU) with number of values = 100.0\n"
     ]
    }
   ],
   "source": [
    "for indeks, indicator in enumerate(indicator_Y_list):\n",
    "    df_temp = WDI_Y_df_sorted[ WDI_Y_df_sorted['indicator_name'] == indicator  ]\n",
    "    years = df_temp['year']\n",
    "    values = df_temp['indicator_value']\n",
    "    percentage = (56 - values.isna().sum()) / 56 * 100\n",
    "    if percentage >= 90.00:\n",
    "        indicator_y_list_over_90.append( indicator )\n",
    "        print(indeks, indicator, \"with number of values =\", percentage)"
   ]
  },
  {
   "cell_type": "markdown",
   "metadata": {},
   "source": [
    "The number of indicators that are $\\ge$ 90% is 9."
   ]
  },
  {
   "cell_type": "code",
   "execution_count": 150,
   "metadata": {},
   "outputs": [
    {
     "data": {
      "text/plain": [
       "9"
      ]
     },
     "execution_count": 150,
     "metadata": {},
     "output_type": "execute_result"
    }
   ],
   "source": [
    "len(indicator_y_list_over_90)"
   ]
  },
  {
   "cell_type": "markdown",
   "metadata": {},
   "source": [
    "We consider that all these 9 indicators have complete values"
   ]
  },
  {
   "cell_type": "markdown",
   "metadata": {},
   "source": [
    "We need to extract a list of years."
   ]
  },
  {
   "cell_type": "markdown",
   "metadata": {},
   "source": [
    "`list_of_years` will be our index."
   ]
  },
  {
   "cell_type": "code",
   "execution_count": 151,
   "metadata": {},
   "outputs": [],
   "source": [
    "list_of_years = list(WDI_Y_df_sorted['year'].unique())"
   ]
  },
  {
   "cell_type": "code",
   "execution_count": 152,
   "metadata": {},
   "outputs": [],
   "source": [
    "list_of_indicators = indicator_y_list_over_90"
   ]
  },
  {
   "cell_type": "markdown",
   "metadata": {},
   "source": [
    "We create an empty `dataframe`."
   ]
  },
  {
   "cell_type": "code",
   "execution_count": 153,
   "metadata": {},
   "outputs": [],
   "source": [
    "new_design_Y_df = pd.DataFrame(columns=list_of_indicators, index=list_of_years)"
   ]
  },
  {
   "cell_type": "code",
   "execution_count": 154,
   "metadata": {},
   "outputs": [
    {
     "name": "stdout",
     "output_type": "stream",
     "text": [
      "Populating for row 1960 is completed ...\n",
      "Populating for row 1961 is completed ...\n",
      "Populating for row 1962 is completed ...\n",
      "Populating for row 1963 is completed ...\n",
      "Populating for row 1964 is completed ...\n",
      "Populating for row 1965 is completed ...\n",
      "Populating for row 1966 is completed ...\n",
      "Populating for row 1967 is completed ...\n",
      "Populating for row 1968 is completed ...\n",
      "Populating for row 1969 is completed ...\n",
      "Populating for row 1970 is completed ...\n",
      "Populating for row 1971 is completed ...\n",
      "Populating for row 1972 is completed ...\n",
      "Populating for row 1973 is completed ...\n",
      "Populating for row 1974 is completed ...\n",
      "Populating for row 1975 is completed ...\n",
      "Populating for row 1976 is completed ...\n",
      "Populating for row 1977 is completed ...\n",
      "Populating for row 1978 is completed ...\n",
      "Populating for row 1979 is completed ...\n",
      "Populating for row 1980 is completed ...\n",
      "Populating for row 1981 is completed ...\n",
      "Populating for row 1982 is completed ...\n",
      "Populating for row 1983 is completed ...\n",
      "Populating for row 1984 is completed ...\n",
      "Populating for row 1985 is completed ...\n",
      "Populating for row 1986 is completed ...\n",
      "Populating for row 1987 is completed ...\n",
      "Populating for row 1988 is completed ...\n",
      "Populating for row 1989 is completed ...\n",
      "Populating for row 1990 is completed ...\n",
      "Populating for row 1991 is completed ...\n",
      "Populating for row 1992 is completed ...\n",
      "Populating for row 1993 is completed ...\n",
      "Populating for row 1994 is completed ...\n",
      "Populating for row 1995 is completed ...\n",
      "Populating for row 1996 is completed ...\n",
      "Populating for row 1997 is completed ...\n",
      "Populating for row 1998 is completed ...\n",
      "Populating for row 1999 is completed ...\n",
      "Populating for row 2000 is completed ...\n",
      "Populating for row 2001 is completed ...\n",
      "Populating for row 2002 is completed ...\n",
      "Populating for row 2003 is completed ...\n",
      "Populating for row 2004 is completed ...\n",
      "Populating for row 2005 is completed ...\n",
      "Populating for row 2006 is completed ...\n",
      "Populating for row 2007 is completed ...\n",
      "Populating for row 2008 is completed ...\n",
      "Populating for row 2009 is completed ...\n",
      "Populating for row 2010 is completed ...\n",
      "Populating for row 2011 is completed ...\n",
      "Populating for row 2012 is completed ...\n",
      "Populating for row 2013 is completed ...\n",
      "Populating for row 2014 is completed ...\n",
      "Populating for row 2015 is completed ...\n"
     ]
    }
   ],
   "source": [
    "for a_year in list_of_years:    \n",
    "    \n",
    "    # Create a temporary dataframe\n",
    "    temp_df = WDI_Y_df_sorted[WDI_Y_df_sorted['year'] == a_year ]\n",
    "    \n",
    "    # Create a list of indicator names temporary\n",
    "    list_of_indicator_names_temp = list(temp_df['indicator_name'])\n",
    "    \n",
    "    # Create a list of indicator values temporary that corresponds to the indicator names\n",
    "    list_of_indicator_values_temp = list(temp_df['indicator_value'])\n",
    "    \n",
    "    # Create an empy dict\n",
    "    temp_set = {}\n",
    "    \n",
    "    # We iterate all nama indikator from list_of_indicator_names_temp\n",
    "    for nama_indikator in list_of_indicator_names_temp:\n",
    "        temp_set[nama_indikator] = np.sum(temp_df[ temp_df['indicator_name'] == nama_indikator ]['indicator_value'])\n",
    "    \n",
    "    new_design_Y_df.loc[a_year] = pd.Series( temp_set )\n",
    "    print(\"Populating for row\", a_year, \"is completed ...\")"
   ]
  },
  {
   "cell_type": "code",
   "execution_count": 155,
   "metadata": {},
   "outputs": [
    {
     "data": {
      "text/plain": [
       "(56, 9)"
      ]
     },
     "execution_count": 155,
     "metadata": {},
     "output_type": "execute_result"
    }
   ],
   "source": [
    "new_design_Y_df.shape"
   ]
  },
  {
   "cell_type": "code",
   "execution_count": 156,
   "metadata": {},
   "outputs": [
    {
     "data": {
      "text/html": [
       "<div>\n",
       "<style scoped>\n",
       "    .dataframe tbody tr th:only-of-type {\n",
       "        vertical-align: middle;\n",
       "    }\n",
       "\n",
       "    .dataframe tbody tr th {\n",
       "        vertical-align: top;\n",
       "    }\n",
       "\n",
       "    .dataframe thead th {\n",
       "        text-align: right;\n",
       "    }\n",
       "</style>\n",
       "<table border=\"1\" class=\"dataframe\">\n",
       "  <thead>\n",
       "    <tr style=\"text-align: right;\">\n",
       "      <th></th>\n",
       "      <th>GDP (constant LCU)</th>\n",
       "      <th>GDP growth (annual %)</th>\n",
       "      <th>GDP per capita growth (annual %)</th>\n",
       "      <th>GDP per capita (constant 2010 US$)</th>\n",
       "      <th>GDP at market prices (constant 2010 US$)</th>\n",
       "      <th>GDP per capita (constant LCU)</th>\n",
       "      <th>GDP deflator (base year varies by country)</th>\n",
       "      <th>GDP (current LCU)</th>\n",
       "      <th>GDP per capita (current LCU)</th>\n",
       "    </tr>\n",
       "  </thead>\n",
       "  <tbody>\n",
       "    <tr>\n",
       "      <th>1960</th>\n",
       "      <td>4.60798e+14</td>\n",
       "      <td>0</td>\n",
       "      <td>0</td>\n",
       "      <td>577.389</td>\n",
       "      <td>5.06905e+10</td>\n",
       "      <td>5.24872e+06</td>\n",
       "      <td>8.94e-05</td>\n",
       "      <td>4.12e+08</td>\n",
       "      <td>4.69288</td>\n",
       "    </tr>\n",
       "    <tr>\n",
       "      <th>1961</th>\n",
       "      <td>4.8893e+14</td>\n",
       "      <td>6.10492</td>\n",
       "      <td>3.34368</td>\n",
       "      <td>596.695</td>\n",
       "      <td>5.37851e+10</td>\n",
       "      <td>5.42422e+06</td>\n",
       "      <td>0.000101446</td>\n",
       "      <td>4.96e+08</td>\n",
       "      <td>5.50266</td>\n",
       "    </tr>\n",
       "    <tr>\n",
       "      <th>1962</th>\n",
       "      <td>4.98266e+14</td>\n",
       "      <td>1.90966</td>\n",
       "      <td>-0.754594</td>\n",
       "      <td>592.193</td>\n",
       "      <td>5.48122e+10</td>\n",
       "      <td>5.38329e+06</td>\n",
       "      <td>0.00028278</td>\n",
       "      <td>1.409e+09</td>\n",
       "      <td>15.2229</td>\n",
       "    </tr>\n",
       "    <tr>\n",
       "      <th>1963</th>\n",
       "      <td>4.8704e+14</td>\n",
       "      <td>-2.25304</td>\n",
       "      <td>-4.82142</td>\n",
       "      <td>563.641</td>\n",
       "      <td>5.35772e+10</td>\n",
       "      <td>5.12374e+06</td>\n",
       "      <td>0.00069522</td>\n",
       "      <td>3.386e+09</td>\n",
       "      <td>35.6212</td>\n",
       "    </tr>\n",
       "    <tr>\n",
       "      <th>1964</th>\n",
       "      <td>5.0385e+14</td>\n",
       "      <td>3.45147</td>\n",
       "      <td>0.715352</td>\n",
       "      <td>567.673</td>\n",
       "      <td>5.54264e+10</td>\n",
       "      <td>5.16039e+06</td>\n",
       "      <td>0.00149409</td>\n",
       "      <td>7.528e+09</td>\n",
       "      <td>77.1011</td>\n",
       "    </tr>\n",
       "    <tr>\n",
       "      <th>1965</th>\n",
       "      <td>5.08622e+14</td>\n",
       "      <td>0.94708</td>\n",
       "      <td>-1.74078</td>\n",
       "      <td>557.791</td>\n",
       "      <td>5.59514e+10</td>\n",
       "      <td>5.07056e+06</td>\n",
       "      <td>0.00491917</td>\n",
       "      <td>2.502e+10</td>\n",
       "      <td>249.43</td>\n",
       "    </tr>\n",
       "    <tr>\n",
       "      <th>1966</th>\n",
       "      <td>5.2312e+14</td>\n",
       "      <td>2.85043</td>\n",
       "      <td>0.0977779</td>\n",
       "      <td>558.336</td>\n",
       "      <td>5.75462e+10</td>\n",
       "      <td>5.07552e+06</td>\n",
       "      <td>0.0637234</td>\n",
       "      <td>3.3335e+11</td>\n",
       "      <td>3234.29</td>\n",
       "    </tr>\n",
       "    <tr>\n",
       "      <th>1967</th>\n",
       "      <td>5.29005e+14</td>\n",
       "      <td>1.125</td>\n",
       "      <td>-1.58681</td>\n",
       "      <td>549.476</td>\n",
       "      <td>5.81936e+10</td>\n",
       "      <td>4.99498e+06</td>\n",
       "      <td>0.169116</td>\n",
       "      <td>8.94632e+11</td>\n",
       "      <td>8447.3</td>\n",
       "    </tr>\n",
       "    <tr>\n",
       "      <th>1968</th>\n",
       "      <td>5.92667e+14</td>\n",
       "      <td>12.0342</td>\n",
       "      <td>9.03399</td>\n",
       "      <td>599.116</td>\n",
       "      <td>6.51967e+10</td>\n",
       "      <td>5.44622e+06</td>\n",
       "      <td>0.373316</td>\n",
       "      <td>2.21252e+12</td>\n",
       "      <td>20331.6</td>\n",
       "    </tr>\n",
       "    <tr>\n",
       "      <th>1969</th>\n",
       "      <td>6.36983e+14</td>\n",
       "      <td>7.47739</td>\n",
       "      <td>4.61402</td>\n",
       "      <td>626.759</td>\n",
       "      <td>7.00718e+10</td>\n",
       "      <td>5.69751e+06</td>\n",
       "      <td>0.45032</td>\n",
       "      <td>2.86846e+12</td>\n",
       "      <td>25657</td>\n",
       "    </tr>\n",
       "    <tr>\n",
       "      <th>1970</th>\n",
       "      <td>6.8891e+14</td>\n",
       "      <td>8.1521</td>\n",
       "      <td>5.29401</td>\n",
       "      <td>659.94</td>\n",
       "      <td>7.57841e+10</td>\n",
       "      <td>5.99914e+06</td>\n",
       "      <td>0.511636</td>\n",
       "      <td>3.52471e+12</td>\n",
       "      <td>30693.8</td>\n",
       "    </tr>\n",
       "    <tr>\n",
       "      <th>1971</th>\n",
       "      <td>7.37116e+14</td>\n",
       "      <td>6.99736</td>\n",
       "      <td>4.19616</td>\n",
       "      <td>687.632</td>\n",
       "      <td>8.1087e+10</td>\n",
       "      <td>6.25087e+06</td>\n",
       "      <td>0.525676</td>\n",
       "      <td>3.87484e+12</td>\n",
       "      <td>32859.4</td>\n",
       "    </tr>\n",
       "    <tr>\n",
       "      <th>1972</th>\n",
       "      <td>7.9522e+14</td>\n",
       "      <td>7.8827</td>\n",
       "      <td>5.08669</td>\n",
       "      <td>722.61</td>\n",
       "      <td>8.74788e+10</td>\n",
       "      <td>6.56884e+06</td>\n",
       "      <td>0.605632</td>\n",
       "      <td>4.81611e+12</td>\n",
       "      <td>39783</td>\n",
       "    </tr>\n",
       "    <tr>\n",
       "      <th>1973</th>\n",
       "      <td>8.72962e+14</td>\n",
       "      <td>9.77616</td>\n",
       "      <td>6.96396</td>\n",
       "      <td>772.932</td>\n",
       "      <td>9.60309e+10</td>\n",
       "      <td>7.02629e+06</td>\n",
       "      <td>0.816306</td>\n",
       "      <td>7.12604e+12</td>\n",
       "      <td>57356</td>\n",
       "    </tr>\n",
       "    <tr>\n",
       "      <th>1974</th>\n",
       "      <td>9.45042e+14</td>\n",
       "      <td>8.25688</td>\n",
       "      <td>5.51962</td>\n",
       "      <td>815.595</td>\n",
       "      <td>1.0396e+11</td>\n",
       "      <td>7.41411e+06</td>\n",
       "      <td>1.19566</td>\n",
       "      <td>1.12995e+13</td>\n",
       "      <td>88647.7</td>\n",
       "    </tr>\n",
       "    <tr>\n",
       "      <th>1975</th>\n",
       "      <td>1.00348e+15</td>\n",
       "      <td>6.18343</td>\n",
       "      <td>3.53633</td>\n",
       "      <td>844.437</td>\n",
       "      <td>1.10388e+11</td>\n",
       "      <td>7.6763e+06</td>\n",
       "      <td>1.32952</td>\n",
       "      <td>1.33414e+13</td>\n",
       "      <td>102058</td>\n",
       "    </tr>\n",
       "    <tr>\n",
       "      <th>1976</th>\n",
       "      <td>1.06357e+15</td>\n",
       "      <td>5.98815</td>\n",
       "      <td>3.38882</td>\n",
       "      <td>873.054</td>\n",
       "      <td>1.16999e+11</td>\n",
       "      <td>7.93644e+06</td>\n",
       "      <td>1.53459</td>\n",
       "      <td>1.63214e+13</td>\n",
       "      <td>121792</td>\n",
       "    </tr>\n",
       "    <tr>\n",
       "      <th>1977</th>\n",
       "      <td>1.15542e+15</td>\n",
       "      <td>8.63647</td>\n",
       "      <td>6.01677</td>\n",
       "      <td>925.583</td>\n",
       "      <td>1.27103e+11</td>\n",
       "      <td>8.41395e+06</td>\n",
       "      <td>1.73827</td>\n",
       "      <td>2.00844e+13</td>\n",
       "      <td>146258</td>\n",
       "    </tr>\n",
       "    <tr>\n",
       "      <th>1978</th>\n",
       "      <td>1.26178e+15</td>\n",
       "      <td>9.20556</td>\n",
       "      <td>6.60966</td>\n",
       "      <td>986.761</td>\n",
       "      <td>1.38804e+11</td>\n",
       "      <td>8.97009e+06</td>\n",
       "      <td>1.90227</td>\n",
       "      <td>2.40025e+13</td>\n",
       "      <td>170635</td>\n",
       "    </tr>\n",
       "    <tr>\n",
       "      <th>1979</th>\n",
       "      <td>1.35128e+15</td>\n",
       "      <td>7.09262</td>\n",
       "      <td>4.57416</td>\n",
       "      <td>1031.9</td>\n",
       "      <td>1.48648e+11</td>\n",
       "      <td>9.38039e+06</td>\n",
       "      <td>2.54164</td>\n",
       "      <td>3.43447e+13</td>\n",
       "      <td>238416</td>\n",
       "    </tr>\n",
       "    <tr>\n",
       "      <th>1980</th>\n",
       "      <td>1.46918e+15</td>\n",
       "      <td>8.725</td>\n",
       "      <td>6.19147</td>\n",
       "      <td>1095.79</td>\n",
       "      <td>1.61618e+11</td>\n",
       "      <td>9.96118e+06</td>\n",
       "      <td>3.32931</td>\n",
       "      <td>4.89135e+13</td>\n",
       "      <td>331639</td>\n",
       "    </tr>\n",
       "    <tr>\n",
       "      <th>1981</th>\n",
       "      <td>1.58889e+15</td>\n",
       "      <td>8.14819</td>\n",
       "      <td>5.64935</td>\n",
       "      <td>1157.69</td>\n",
       "      <td>1.74787e+11</td>\n",
       "      <td>1.05239e+07</td>\n",
       "      <td>3.67686</td>\n",
       "      <td>5.84213e+13</td>\n",
       "      <td>386950</td>\n",
       "    </tr>\n",
       "    <tr>\n",
       "      <th>1982</th>\n",
       "      <td>1.60643e+15</td>\n",
       "      <td>1.10407</td>\n",
       "      <td>-1.20416</td>\n",
       "      <td>1143.75</td>\n",
       "      <td>1.76717e+11</td>\n",
       "      <td>1.03972e+07</td>\n",
       "      <td>3.89973</td>\n",
       "      <td>6.26465e+13</td>\n",
       "      <td>405463</td>\n",
       "    </tr>\n",
       "    <tr>\n",
       "      <th>1983</th>\n",
       "      <td>1.74217e+15</td>\n",
       "      <td>8.44991</td>\n",
       "      <td>6.02208</td>\n",
       "      <td>1212.63</td>\n",
       "      <td>1.91649e+11</td>\n",
       "      <td>1.10233e+07</td>\n",
       "      <td>4.45551</td>\n",
       "      <td>7.76228e+13</td>\n",
       "      <td>491146</td>\n",
       "    </tr>\n",
       "    <tr>\n",
       "      <th>1984</th>\n",
       "      <td>1.86712e+15</td>\n",
       "      <td>7.17215</td>\n",
       "      <td>4.84288</td>\n",
       "      <td>1271.35</td>\n",
       "      <td>2.05394e+11</td>\n",
       "      <td>1.15572e+07</td>\n",
       "      <td>4.81409</td>\n",
       "      <td>8.98851e+13</td>\n",
       "      <td>556373</td>\n",
       "    </tr>\n",
       "    <tr>\n",
       "      <th>1985</th>\n",
       "      <td>1.93205e+15</td>\n",
       "      <td>3.47754</td>\n",
       "      <td>1.30993</td>\n",
       "      <td>1288.01</td>\n",
       "      <td>2.12537e+11</td>\n",
       "      <td>1.17086e+07</td>\n",
       "      <td>5.0204</td>\n",
       "      <td>9.69968e+13</td>\n",
       "      <td>587816</td>\n",
       "    </tr>\n",
       "    <tr>\n",
       "      <th>1986</th>\n",
       "      <td>2.04729e+15</td>\n",
       "      <td>5.96452</td>\n",
       "      <td>3.83151</td>\n",
       "      <td>1337.36</td>\n",
       "      <td>2.25214e+11</td>\n",
       "      <td>1.21572e+07</td>\n",
       "      <td>5.01553</td>\n",
       "      <td>1.02683e+14</td>\n",
       "      <td>609747</td>\n",
       "    </tr>\n",
       "    <tr>\n",
       "      <th>1987</th>\n",
       "      <td>2.1558e+15</td>\n",
       "      <td>5.3</td>\n",
       "      <td>3.26004</td>\n",
       "      <td>1380.96</td>\n",
       "      <td>2.3715e+11</td>\n",
       "      <td>1.25535e+07</td>\n",
       "      <td>5.78982</td>\n",
       "      <td>1.24817e+14</td>\n",
       "      <td>726825</td>\n",
       "    </tr>\n",
       "    <tr>\n",
       "      <th>1988</th>\n",
       "      <td>2.29281e+15</td>\n",
       "      <td>6.35568</td>\n",
       "      <td>4.36714</td>\n",
       "      <td>1441.27</td>\n",
       "      <td>2.52223e+11</td>\n",
       "      <td>1.31017e+07</td>\n",
       "      <td>6.52775</td>\n",
       "      <td>1.49669e+14</td>\n",
       "      <td>855249</td>\n",
       "    </tr>\n",
       "    <tr>\n",
       "      <th>1989</th>\n",
       "      <td>2.50111e+15</td>\n",
       "      <td>9.08471</td>\n",
       "      <td>7.10643</td>\n",
       "      <td>1543.69</td>\n",
       "      <td>2.75137e+11</td>\n",
       "      <td>1.40328e+07</td>\n",
       "      <td>7.18008</td>\n",
       "      <td>1.79582e+14</td>\n",
       "      <td>1.00757e+06</td>\n",
       "    </tr>\n",
       "    <tr>\n",
       "      <th>1990</th>\n",
       "      <td>2.72625e+15</td>\n",
       "      <td>9.00157</td>\n",
       "      <td>7.07696</td>\n",
       "      <td>1652.93</td>\n",
       "      <td>2.99903e+11</td>\n",
       "      <td>1.50259e+07</td>\n",
       "      <td>7.73467</td>\n",
       "      <td>2.10866e+14</td>\n",
       "      <td>1.1622e+06</td>\n",
       "    </tr>\n",
       "    <tr>\n",
       "      <th>1991</th>\n",
       "      <td>2.96964e+15</td>\n",
       "      <td>8.9278</td>\n",
       "      <td>7.05274</td>\n",
       "      <td>1769.51</td>\n",
       "      <td>3.26678e+11</td>\n",
       "      <td>1.60856e+07</td>\n",
       "      <td>8.41746</td>\n",
       "      <td>2.49969e+14</td>\n",
       "      <td>1.354e+06</td>\n",
       "    </tr>\n",
       "    <tr>\n",
       "      <th>1992</th>\n",
       "      <td>3.18407e+15</td>\n",
       "      <td>7.2205</td>\n",
       "      <td>5.42322</td>\n",
       "      <td>1865.48</td>\n",
       "      <td>3.50266e+11</td>\n",
       "      <td>1.6958e+07</td>\n",
       "      <td>8.869</td>\n",
       "      <td>2.82395e+14</td>\n",
       "      <td>1.504e+06</td>\n",
       "    </tr>\n",
       "    <tr>\n",
       "      <th>1993</th>\n",
       "      <td>3.41504e+15</td>\n",
       "      <td>7.25408</td>\n",
       "      <td>5.50588</td>\n",
       "      <td>1968.19</td>\n",
       "      <td>3.75674e+11</td>\n",
       "      <td>1.78917e+07</td>\n",
       "      <td>9.65658</td>\n",
       "      <td>3.29776e+14</td>\n",
       "      <td>1.72772e+06</td>\n",
       "    </tr>\n",
       "    <tr>\n",
       "      <th>1994</th>\n",
       "      <td>3.67254e+15</td>\n",
       "      <td>7.54007</td>\n",
       "      <td>5.8396</td>\n",
       "      <td>2083.12</td>\n",
       "      <td>4.04e+11</td>\n",
       "      <td>1.89365e+07</td>\n",
       "      <td>10.4075</td>\n",
       "      <td>3.8222e+14</td>\n",
       "      <td>1.97082e+06</td>\n",
       "    </tr>\n",
       "    <tr>\n",
       "      <th>1995</th>\n",
       "      <td>3.9809e+15</td>\n",
       "      <td>8.39636</td>\n",
       "      <td>6.73543</td>\n",
       "      <td>2223.43</td>\n",
       "      <td>4.37922e+11</td>\n",
       "      <td>2.02119e+07</td>\n",
       "      <td>11.4174</td>\n",
       "      <td>4.54514e+14</td>\n",
       "      <td>2.30767e+06</td>\n",
       "    </tr>\n",
       "    <tr>\n",
       "      <th>1996</th>\n",
       "      <td>4.28515e+15</td>\n",
       "      <td>7.64279</td>\n",
       "      <td>6.04437</td>\n",
       "      <td>2357.82</td>\n",
       "      <td>4.71391e+11</td>\n",
       "      <td>2.14336e+07</td>\n",
       "      <td>12.4282</td>\n",
       "      <td>5.32568e+14</td>\n",
       "      <td>2.66382e+06</td>\n",
       "    </tr>\n",
       "    <tr>\n",
       "      <th>1997</th>\n",
       "      <td>4.48655e+15</td>\n",
       "      <td>4.69987</td>\n",
       "      <td>3.18903</td>\n",
       "      <td>2433.01</td>\n",
       "      <td>4.93546e+11</td>\n",
       "      <td>2.21171e+07</td>\n",
       "      <td>13.9906</td>\n",
       "      <td>6.27695e+14</td>\n",
       "      <td>3.09432e+06</td>\n",
       "    </tr>\n",
       "    <tr>\n",
       "      <th>1998</th>\n",
       "      <td>3.89761e+15</td>\n",
       "      <td>-13.1267</td>\n",
       "      <td>-14.351</td>\n",
       "      <td>2083.85</td>\n",
       "      <td>4.28759e+11</td>\n",
       "      <td>1.89431e+07</td>\n",
       "      <td>24.5215</td>\n",
       "      <td>9.55754e+14</td>\n",
       "      <td>4.64514e+06</td>\n",
       "    </tr>\n",
       "    <tr>\n",
       "      <th>1999</th>\n",
       "      <td>3.92844e+15</td>\n",
       "      <td>0.79113</td>\n",
       "      <td>-0.605245</td>\n",
       "      <td>2071.24</td>\n",
       "      <td>4.32151e+11</td>\n",
       "      <td>1.88284e+07</td>\n",
       "      <td>27.9941</td>\n",
       "      <td>1.09973e+15</td>\n",
       "      <td>5.27085e+06</td>\n",
       "    </tr>\n",
       "    <tr>\n",
       "      <th>2000</th>\n",
       "      <td>4.12173e+15</td>\n",
       "      <td>4.92006</td>\n",
       "      <td>3.48353</td>\n",
       "      <td>2143.39</td>\n",
       "      <td>4.53414e+11</td>\n",
       "      <td>1.94843e+07</td>\n",
       "      <td>33.7182</td>\n",
       "      <td>1.38977e+15</td>\n",
       "      <td>6.56976e+06</td>\n",
       "    </tr>\n",
       "    <tr>\n",
       "      <th>2001</th>\n",
       "      <td>4.2719e+15</td>\n",
       "      <td>3.64347</td>\n",
       "      <td>2.23808</td>\n",
       "      <td>2191.36</td>\n",
       "      <td>4.69934e+11</td>\n",
       "      <td>1.99204e+07</td>\n",
       "      <td>38.5384</td>\n",
       "      <td>1.64632e+15</td>\n",
       "      <td>7.67701e+06</td>\n",
       "    </tr>\n",
       "    <tr>\n",
       "      <th>2002</th>\n",
       "      <td>4.46411e+15</td>\n",
       "      <td>4.49948</td>\n",
       "      <td>3.09532</td>\n",
       "      <td>2259.19</td>\n",
       "      <td>4.91078e+11</td>\n",
       "      <td>2.0537e+07</td>\n",
       "      <td>40.8106</td>\n",
       "      <td>1.82183e+15</td>\n",
       "      <td>8.38129e+06</td>\n",
       "    </tr>\n",
       "    <tr>\n",
       "      <th>2003</th>\n",
       "      <td>4.67751e+15</td>\n",
       "      <td>4.78037</td>\n",
       "      <td>3.38269</td>\n",
       "      <td>2335.61</td>\n",
       "      <td>5.14553e+11</td>\n",
       "      <td>2.12317e+07</td>\n",
       "      <td>43.0501</td>\n",
       "      <td>2.01367e+15</td>\n",
       "      <td>9.14028e+06</td>\n",
       "    </tr>\n",
       "    <tr>\n",
       "      <th>2004</th>\n",
       "      <td>4.91283e+15</td>\n",
       "      <td>5.03087</td>\n",
       "      <td>3.63804</td>\n",
       "      <td>2420.58</td>\n",
       "      <td>5.4044e+11</td>\n",
       "      <td>2.20041e+07</td>\n",
       "      <td>46.7312</td>\n",
       "      <td>2.29583e+15</td>\n",
       "      <td>1.02828e+07</td>\n",
       "    </tr>\n",
       "    <tr>\n",
       "      <th>2005</th>\n",
       "      <td>5.1925e+15</td>\n",
       "      <td>5.69257</td>\n",
       "      <td>4.29765</td>\n",
       "      <td>2524.61</td>\n",
       "      <td>5.71205e+11</td>\n",
       "      <td>2.29498e+07</td>\n",
       "      <td>53.4286</td>\n",
       "      <td>2.77428e+15</td>\n",
       "      <td>1.22618e+07</td>\n",
       "    </tr>\n",
       "    <tr>\n",
       "      <th>2006</th>\n",
       "      <td>5.47814e+15</td>\n",
       "      <td>5.50095</td>\n",
       "      <td>4.11617</td>\n",
       "      <td>2628.53</td>\n",
       "      <td>6.02627e+11</td>\n",
       "      <td>2.38945e+07</td>\n",
       "      <td>60.9553</td>\n",
       "      <td>3.33922e+15</td>\n",
       "      <td>1.45649e+07</td>\n",
       "    </tr>\n",
       "    <tr>\n",
       "      <th>2007</th>\n",
       "      <td>5.82573e+15</td>\n",
       "      <td>6.34502</td>\n",
       "      <td>4.95659</td>\n",
       "      <td>2758.81</td>\n",
       "      <td>6.40863e+11</td>\n",
       "      <td>2.50788e+07</td>\n",
       "      <td>67.818</td>\n",
       "      <td>3.95089e+15</td>\n",
       "      <td>1.7008e+07</td>\n",
       "    </tr>\n",
       "    <tr>\n",
       "      <th>2008</th>\n",
       "      <td>6.17607e+15</td>\n",
       "      <td>6.0137</td>\n",
       "      <td>4.63361</td>\n",
       "      <td>2886.65</td>\n",
       "      <td>6.79403e+11</td>\n",
       "      <td>2.62409e+07</td>\n",
       "      <td>80.1268</td>\n",
       "      <td>4.94869e+15</td>\n",
       "      <td>2.1026e+07</td>\n",
       "    </tr>\n",
       "    <tr>\n",
       "      <th>2009</th>\n",
       "      <td>6.46195e+15</td>\n",
       "      <td>4.62887</td>\n",
       "      <td>3.26679</td>\n",
       "      <td>2980.95</td>\n",
       "      <td>7.10852e+11</td>\n",
       "      <td>2.70981e+07</td>\n",
       "      <td>86.7571</td>\n",
       "      <td>5.6062e+15</td>\n",
       "      <td>2.35095e+07</td>\n",
       "    </tr>\n",
       "    <tr>\n",
       "      <th>2010</th>\n",
       "      <td>6.86413e+15</td>\n",
       "      <td>6.22385</td>\n",
       "      <td>4.83987</td>\n",
       "      <td>3125.22</td>\n",
       "      <td>7.55094e+11</td>\n",
       "      <td>2.84096e+07</td>\n",
       "      <td>100</td>\n",
       "      <td>6.86413e+15</td>\n",
       "      <td>2.84096e+07</td>\n",
       "    </tr>\n",
       "    <tr>\n",
       "      <th>2011</th>\n",
       "      <td>7.28764e+15</td>\n",
       "      <td>6.16978</td>\n",
       "      <td>4.7841</td>\n",
       "      <td>3274.73</td>\n",
       "      <td>8.01682e+11</td>\n",
       "      <td>2.97687e+07</td>\n",
       "      <td>107.466</td>\n",
       "      <td>7.83173e+15</td>\n",
       "      <td>3.19913e+07</td>\n",
       "    </tr>\n",
       "    <tr>\n",
       "      <th>2012</th>\n",
       "      <td>7.72708e+15</td>\n",
       "      <td>6.03005</td>\n",
       "      <td>4.64948</td>\n",
       "      <td>3426.99</td>\n",
       "      <td>8.50024e+11</td>\n",
       "      <td>3.11528e+07</td>\n",
       "      <td>111.5</td>\n",
       "      <td>8.6157e+15</td>\n",
       "      <td>3.47354e+07</td>\n",
       "    </tr>\n",
       "    <tr>\n",
       "      <th>2013</th>\n",
       "      <td>8.1565e+15</td>\n",
       "      <td>5.55726</td>\n",
       "      <td>4.20017</td>\n",
       "      <td>3570.93</td>\n",
       "      <td>8.97262e+11</td>\n",
       "      <td>3.24613e+07</td>\n",
       "      <td>117.037</td>\n",
       "      <td>9.54613e+15</td>\n",
       "      <td>3.79918e+07</td>\n",
       "    </tr>\n",
       "    <tr>\n",
       "      <th>2014</th>\n",
       "      <td>8.56627e+15</td>\n",
       "      <td>5.02389</td>\n",
       "      <td>3.70869</td>\n",
       "      <td>3703.37</td>\n",
       "      <td>9.42339e+11</td>\n",
       "      <td>3.36652e+07</td>\n",
       "      <td>123.342</td>\n",
       "      <td>1.06e+16</td>\n",
       "      <td>4.15234e+07</td>\n",
       "    </tr>\n",
       "    <tr>\n",
       "      <th>2015</th>\n",
       "      <td>8.97693e+15</td>\n",
       "      <td>4.79392</td>\n",
       "      <td>3.52896</td>\n",
       "      <td>3834.06</td>\n",
       "      <td>9.87514e+11</td>\n",
       "      <td>3.48532e+07</td>\n",
       "      <td>128.561</td>\n",
       "      <td>1.15e+16</td>\n",
       "      <td>4.48075e+07</td>\n",
       "    </tr>\n",
       "  </tbody>\n",
       "</table>\n",
       "</div>"
      ],
      "text/plain": [
       "     GDP (constant LCU) GDP growth (annual %)  \\\n",
       "1960        4.60798e+14                     0   \n",
       "1961         4.8893e+14               6.10492   \n",
       "1962        4.98266e+14               1.90966   \n",
       "1963         4.8704e+14              -2.25304   \n",
       "1964         5.0385e+14               3.45147   \n",
       "1965        5.08622e+14               0.94708   \n",
       "1966         5.2312e+14               2.85043   \n",
       "1967        5.29005e+14                 1.125   \n",
       "1968        5.92667e+14               12.0342   \n",
       "1969        6.36983e+14               7.47739   \n",
       "1970         6.8891e+14                8.1521   \n",
       "1971        7.37116e+14               6.99736   \n",
       "1972         7.9522e+14                7.8827   \n",
       "1973        8.72962e+14               9.77616   \n",
       "1974        9.45042e+14               8.25688   \n",
       "1975        1.00348e+15               6.18343   \n",
       "1976        1.06357e+15               5.98815   \n",
       "1977        1.15542e+15               8.63647   \n",
       "1978        1.26178e+15               9.20556   \n",
       "1979        1.35128e+15               7.09262   \n",
       "1980        1.46918e+15                 8.725   \n",
       "1981        1.58889e+15               8.14819   \n",
       "1982        1.60643e+15               1.10407   \n",
       "1983        1.74217e+15               8.44991   \n",
       "1984        1.86712e+15               7.17215   \n",
       "1985        1.93205e+15               3.47754   \n",
       "1986        2.04729e+15               5.96452   \n",
       "1987         2.1558e+15                   5.3   \n",
       "1988        2.29281e+15               6.35568   \n",
       "1989        2.50111e+15               9.08471   \n",
       "1990        2.72625e+15               9.00157   \n",
       "1991        2.96964e+15                8.9278   \n",
       "1992        3.18407e+15                7.2205   \n",
       "1993        3.41504e+15               7.25408   \n",
       "1994        3.67254e+15               7.54007   \n",
       "1995         3.9809e+15               8.39636   \n",
       "1996        4.28515e+15               7.64279   \n",
       "1997        4.48655e+15               4.69987   \n",
       "1998        3.89761e+15              -13.1267   \n",
       "1999        3.92844e+15               0.79113   \n",
       "2000        4.12173e+15               4.92006   \n",
       "2001         4.2719e+15               3.64347   \n",
       "2002        4.46411e+15               4.49948   \n",
       "2003        4.67751e+15               4.78037   \n",
       "2004        4.91283e+15               5.03087   \n",
       "2005         5.1925e+15               5.69257   \n",
       "2006        5.47814e+15               5.50095   \n",
       "2007        5.82573e+15               6.34502   \n",
       "2008        6.17607e+15                6.0137   \n",
       "2009        6.46195e+15               4.62887   \n",
       "2010        6.86413e+15               6.22385   \n",
       "2011        7.28764e+15               6.16978   \n",
       "2012        7.72708e+15               6.03005   \n",
       "2013         8.1565e+15               5.55726   \n",
       "2014        8.56627e+15               5.02389   \n",
       "2015        8.97693e+15               4.79392   \n",
       "\n",
       "     GDP per capita growth (annual %) GDP per capita (constant 2010 US$)  \\\n",
       "1960                                0                            577.389   \n",
       "1961                          3.34368                            596.695   \n",
       "1962                        -0.754594                            592.193   \n",
       "1963                         -4.82142                            563.641   \n",
       "1964                         0.715352                            567.673   \n",
       "1965                         -1.74078                            557.791   \n",
       "1966                        0.0977779                            558.336   \n",
       "1967                         -1.58681                            549.476   \n",
       "1968                          9.03399                            599.116   \n",
       "1969                          4.61402                            626.759   \n",
       "1970                          5.29401                             659.94   \n",
       "1971                          4.19616                            687.632   \n",
       "1972                          5.08669                             722.61   \n",
       "1973                          6.96396                            772.932   \n",
       "1974                          5.51962                            815.595   \n",
       "1975                          3.53633                            844.437   \n",
       "1976                          3.38882                            873.054   \n",
       "1977                          6.01677                            925.583   \n",
       "1978                          6.60966                            986.761   \n",
       "1979                          4.57416                             1031.9   \n",
       "1980                          6.19147                            1095.79   \n",
       "1981                          5.64935                            1157.69   \n",
       "1982                         -1.20416                            1143.75   \n",
       "1983                          6.02208                            1212.63   \n",
       "1984                          4.84288                            1271.35   \n",
       "1985                          1.30993                            1288.01   \n",
       "1986                          3.83151                            1337.36   \n",
       "1987                          3.26004                            1380.96   \n",
       "1988                          4.36714                            1441.27   \n",
       "1989                          7.10643                            1543.69   \n",
       "1990                          7.07696                            1652.93   \n",
       "1991                          7.05274                            1769.51   \n",
       "1992                          5.42322                            1865.48   \n",
       "1993                          5.50588                            1968.19   \n",
       "1994                           5.8396                            2083.12   \n",
       "1995                          6.73543                            2223.43   \n",
       "1996                          6.04437                            2357.82   \n",
       "1997                          3.18903                            2433.01   \n",
       "1998                          -14.351                            2083.85   \n",
       "1999                        -0.605245                            2071.24   \n",
       "2000                          3.48353                            2143.39   \n",
       "2001                          2.23808                            2191.36   \n",
       "2002                          3.09532                            2259.19   \n",
       "2003                          3.38269                            2335.61   \n",
       "2004                          3.63804                            2420.58   \n",
       "2005                          4.29765                            2524.61   \n",
       "2006                          4.11617                            2628.53   \n",
       "2007                          4.95659                            2758.81   \n",
       "2008                          4.63361                            2886.65   \n",
       "2009                          3.26679                            2980.95   \n",
       "2010                          4.83987                            3125.22   \n",
       "2011                           4.7841                            3274.73   \n",
       "2012                          4.64948                            3426.99   \n",
       "2013                          4.20017                            3570.93   \n",
       "2014                          3.70869                            3703.37   \n",
       "2015                          3.52896                            3834.06   \n",
       "\n",
       "     GDP at market prices (constant 2010 US$) GDP per capita (constant LCU)  \\\n",
       "1960                              5.06905e+10                   5.24872e+06   \n",
       "1961                              5.37851e+10                   5.42422e+06   \n",
       "1962                              5.48122e+10                   5.38329e+06   \n",
       "1963                              5.35772e+10                   5.12374e+06   \n",
       "1964                              5.54264e+10                   5.16039e+06   \n",
       "1965                              5.59514e+10                   5.07056e+06   \n",
       "1966                              5.75462e+10                   5.07552e+06   \n",
       "1967                              5.81936e+10                   4.99498e+06   \n",
       "1968                              6.51967e+10                   5.44622e+06   \n",
       "1969                              7.00718e+10                   5.69751e+06   \n",
       "1970                              7.57841e+10                   5.99914e+06   \n",
       "1971                               8.1087e+10                   6.25087e+06   \n",
       "1972                              8.74788e+10                   6.56884e+06   \n",
       "1973                              9.60309e+10                   7.02629e+06   \n",
       "1974                               1.0396e+11                   7.41411e+06   \n",
       "1975                              1.10388e+11                    7.6763e+06   \n",
       "1976                              1.16999e+11                   7.93644e+06   \n",
       "1977                              1.27103e+11                   8.41395e+06   \n",
       "1978                              1.38804e+11                   8.97009e+06   \n",
       "1979                              1.48648e+11                   9.38039e+06   \n",
       "1980                              1.61618e+11                   9.96118e+06   \n",
       "1981                              1.74787e+11                   1.05239e+07   \n",
       "1982                              1.76717e+11                   1.03972e+07   \n",
       "1983                              1.91649e+11                   1.10233e+07   \n",
       "1984                              2.05394e+11                   1.15572e+07   \n",
       "1985                              2.12537e+11                   1.17086e+07   \n",
       "1986                              2.25214e+11                   1.21572e+07   \n",
       "1987                               2.3715e+11                   1.25535e+07   \n",
       "1988                              2.52223e+11                   1.31017e+07   \n",
       "1989                              2.75137e+11                   1.40328e+07   \n",
       "1990                              2.99903e+11                   1.50259e+07   \n",
       "1991                              3.26678e+11                   1.60856e+07   \n",
       "1992                              3.50266e+11                    1.6958e+07   \n",
       "1993                              3.75674e+11                   1.78917e+07   \n",
       "1994                                 4.04e+11                   1.89365e+07   \n",
       "1995                              4.37922e+11                   2.02119e+07   \n",
       "1996                              4.71391e+11                   2.14336e+07   \n",
       "1997                              4.93546e+11                   2.21171e+07   \n",
       "1998                              4.28759e+11                   1.89431e+07   \n",
       "1999                              4.32151e+11                   1.88284e+07   \n",
       "2000                              4.53414e+11                   1.94843e+07   \n",
       "2001                              4.69934e+11                   1.99204e+07   \n",
       "2002                              4.91078e+11                    2.0537e+07   \n",
       "2003                              5.14553e+11                   2.12317e+07   \n",
       "2004                               5.4044e+11                   2.20041e+07   \n",
       "2005                              5.71205e+11                   2.29498e+07   \n",
       "2006                              6.02627e+11                   2.38945e+07   \n",
       "2007                              6.40863e+11                   2.50788e+07   \n",
       "2008                              6.79403e+11                   2.62409e+07   \n",
       "2009                              7.10852e+11                   2.70981e+07   \n",
       "2010                              7.55094e+11                   2.84096e+07   \n",
       "2011                              8.01682e+11                   2.97687e+07   \n",
       "2012                              8.50024e+11                   3.11528e+07   \n",
       "2013                              8.97262e+11                   3.24613e+07   \n",
       "2014                              9.42339e+11                   3.36652e+07   \n",
       "2015                              9.87514e+11                   3.48532e+07   \n",
       "\n",
       "     GDP deflator (base year varies by country) GDP (current LCU)  \\\n",
       "1960                                   8.94e-05          4.12e+08   \n",
       "1961                                0.000101446          4.96e+08   \n",
       "1962                                 0.00028278         1.409e+09   \n",
       "1963                                 0.00069522         3.386e+09   \n",
       "1964                                 0.00149409         7.528e+09   \n",
       "1965                                 0.00491917         2.502e+10   \n",
       "1966                                  0.0637234        3.3335e+11   \n",
       "1967                                   0.169116       8.94632e+11   \n",
       "1968                                   0.373316       2.21252e+12   \n",
       "1969                                    0.45032       2.86846e+12   \n",
       "1970                                   0.511636       3.52471e+12   \n",
       "1971                                   0.525676       3.87484e+12   \n",
       "1972                                   0.605632       4.81611e+12   \n",
       "1973                                   0.816306       7.12604e+12   \n",
       "1974                                    1.19566       1.12995e+13   \n",
       "1975                                    1.32952       1.33414e+13   \n",
       "1976                                    1.53459       1.63214e+13   \n",
       "1977                                    1.73827       2.00844e+13   \n",
       "1978                                    1.90227       2.40025e+13   \n",
       "1979                                    2.54164       3.43447e+13   \n",
       "1980                                    3.32931       4.89135e+13   \n",
       "1981                                    3.67686       5.84213e+13   \n",
       "1982                                    3.89973       6.26465e+13   \n",
       "1983                                    4.45551       7.76228e+13   \n",
       "1984                                    4.81409       8.98851e+13   \n",
       "1985                                     5.0204       9.69968e+13   \n",
       "1986                                    5.01553       1.02683e+14   \n",
       "1987                                    5.78982       1.24817e+14   \n",
       "1988                                    6.52775       1.49669e+14   \n",
       "1989                                    7.18008       1.79582e+14   \n",
       "1990                                    7.73467       2.10866e+14   \n",
       "1991                                    8.41746       2.49969e+14   \n",
       "1992                                      8.869       2.82395e+14   \n",
       "1993                                    9.65658       3.29776e+14   \n",
       "1994                                    10.4075        3.8222e+14   \n",
       "1995                                    11.4174       4.54514e+14   \n",
       "1996                                    12.4282       5.32568e+14   \n",
       "1997                                    13.9906       6.27695e+14   \n",
       "1998                                    24.5215       9.55754e+14   \n",
       "1999                                    27.9941       1.09973e+15   \n",
       "2000                                    33.7182       1.38977e+15   \n",
       "2001                                    38.5384       1.64632e+15   \n",
       "2002                                    40.8106       1.82183e+15   \n",
       "2003                                    43.0501       2.01367e+15   \n",
       "2004                                    46.7312       2.29583e+15   \n",
       "2005                                    53.4286       2.77428e+15   \n",
       "2006                                    60.9553       3.33922e+15   \n",
       "2007                                     67.818       3.95089e+15   \n",
       "2008                                    80.1268       4.94869e+15   \n",
       "2009                                    86.7571        5.6062e+15   \n",
       "2010                                        100       6.86413e+15   \n",
       "2011                                    107.466       7.83173e+15   \n",
       "2012                                      111.5        8.6157e+15   \n",
       "2013                                    117.037       9.54613e+15   \n",
       "2014                                    123.342          1.06e+16   \n",
       "2015                                    128.561          1.15e+16   \n",
       "\n",
       "     GDP per capita (current LCU)  \n",
       "1960                      4.69288  \n",
       "1961                      5.50266  \n",
       "1962                      15.2229  \n",
       "1963                      35.6212  \n",
       "1964                      77.1011  \n",
       "1965                       249.43  \n",
       "1966                      3234.29  \n",
       "1967                       8447.3  \n",
       "1968                      20331.6  \n",
       "1969                        25657  \n",
       "1970                      30693.8  \n",
       "1971                      32859.4  \n",
       "1972                        39783  \n",
       "1973                        57356  \n",
       "1974                      88647.7  \n",
       "1975                       102058  \n",
       "1976                       121792  \n",
       "1977                       146258  \n",
       "1978                       170635  \n",
       "1979                       238416  \n",
       "1980                       331639  \n",
       "1981                       386950  \n",
       "1982                       405463  \n",
       "1983                       491146  \n",
       "1984                       556373  \n",
       "1985                       587816  \n",
       "1986                       609747  \n",
       "1987                       726825  \n",
       "1988                       855249  \n",
       "1989                  1.00757e+06  \n",
       "1990                   1.1622e+06  \n",
       "1991                    1.354e+06  \n",
       "1992                    1.504e+06  \n",
       "1993                  1.72772e+06  \n",
       "1994                  1.97082e+06  \n",
       "1995                  2.30767e+06  \n",
       "1996                  2.66382e+06  \n",
       "1997                  3.09432e+06  \n",
       "1998                  4.64514e+06  \n",
       "1999                  5.27085e+06  \n",
       "2000                  6.56976e+06  \n",
       "2001                  7.67701e+06  \n",
       "2002                  8.38129e+06  \n",
       "2003                  9.14028e+06  \n",
       "2004                  1.02828e+07  \n",
       "2005                  1.22618e+07  \n",
       "2006                  1.45649e+07  \n",
       "2007                   1.7008e+07  \n",
       "2008                   2.1026e+07  \n",
       "2009                  2.35095e+07  \n",
       "2010                  2.84096e+07  \n",
       "2011                  3.19913e+07  \n",
       "2012                  3.47354e+07  \n",
       "2013                  3.79918e+07  \n",
       "2014                  4.15234e+07  \n",
       "2015                  4.48075e+07  "
      ]
     },
     "execution_count": 156,
     "metadata": {},
     "output_type": "execute_result"
    }
   ],
   "source": [
    "new_design_Y_df"
   ]
  },
  {
   "cell_type": "code",
   "execution_count": 157,
   "metadata": {},
   "outputs": [],
   "source": [
    "set_of_years = set(np.arange(1962, 2014))"
   ]
  },
  {
   "cell_type": "code",
   "execution_count": 158,
   "metadata": {},
   "outputs": [],
   "source": [
    "complete_values_Y_df = new_design_Y_df.loc[set_of_years]"
   ]
  },
  {
   "cell_type": "code",
   "execution_count": 159,
   "metadata": {},
   "outputs": [
    {
     "data": {
      "text/plain": [
       "(52, 9)"
      ]
     },
     "execution_count": 159,
     "metadata": {},
     "output_type": "execute_result"
    }
   ],
   "source": [
    "complete_values_Y_df.shape"
   ]
  },
  {
   "cell_type": "code",
   "execution_count": 160,
   "metadata": {},
   "outputs": [],
   "source": [
    "complete_values_Y_df.to_csv(WDI_path+\"complete_values_Y_1962_2013_design_matrix.csv\")"
   ]
  },
  {
   "cell_type": "code",
   "execution_count": null,
   "metadata": {},
   "outputs": [],
   "source": []
  },
  {
   "cell_type": "code",
   "execution_count": null,
   "metadata": {},
   "outputs": [],
   "source": [
    "WDI_Y_over_60 = WDI_Y_df_sorted.loc[WDI_Y_df_sorted['indicator_name'].isin(indicator_y_list_over_60) ]"
   ]
  },
  {
   "cell_type": "code",
   "execution_count": null,
   "metadata": {},
   "outputs": [],
   "source": [
    "list_of_y_years = list(WDI_Y_df_sorted['year'].unique())"
   ]
  },
  {
   "cell_type": "markdown",
   "metadata": {},
   "source": [
    "`list_of_years` will be our index."
   ]
  },
  {
   "cell_type": "code",
   "execution_count": null,
   "metadata": {},
   "outputs": [],
   "source": [
    "list_of_y_indicators = indicator_y_list_over_60"
   ]
  },
  {
   "cell_type": "markdown",
   "metadata": {},
   "source": [
    "We create an empty `dataframe`."
   ]
  },
  {
   "cell_type": "code",
   "execution_count": null,
   "metadata": {},
   "outputs": [],
   "source": [
    "new_design_Y_df = pd.DataFrame(columns=list_of_y_indicators, index=list_of_y_years)"
   ]
  },
  {
   "cell_type": "code",
   "execution_count": null,
   "metadata": {},
   "outputs": [],
   "source": [
    "for a_year in list_of_y_years:    \n",
    "    \n",
    "    # Create a temporary dataframe\n",
    "    temp_df = WDI_Y_over_60[WDI_Y_over_60['year'] == a_year ]\n",
    "    \n",
    "    # Create a list of indicator names temporary\n",
    "    list_of_indicator_names_temp = list(temp_df['indicator_name'])\n",
    "    \n",
    "    # Create a list of indicator values temporary that corresponds to the indicator names\n",
    "    list_of_indicator_values_temp = list(temp_df['indicator_value'])\n",
    "    \n",
    "    # Create an empy dict\n",
    "    temp_set = {}\n",
    "    \n",
    "    # We iterate all nama indikator from list_of_indicator_names_temp\n",
    "    for nama_indikator in list_of_indicator_names_temp:\n",
    "        temp_set[nama_indikator] = np.sum(temp_df[ temp_df['indicator_name'] == nama_indikator ]['indicator_value'])\n",
    "    \n",
    "    new_design_Y_df.loc[a_year] = pd.Series( temp_set )\n",
    "    print(\"Populating Y Matrix for row\", a_year, \"is completed ...\")"
   ]
  },
  {
   "cell_type": "code",
   "execution_count": null,
   "metadata": {},
   "outputs": [],
   "source": [
    "new_design_Y_df.head()"
   ]
  },
  {
   "cell_type": "code",
   "execution_count": null,
   "metadata": {},
   "outputs": [],
   "source": [
    "new_design_Y_df.to_csv(WDI_path+\"design_matrix_Y_over_60_percent.csv\")"
   ]
  },
  {
   "cell_type": "code",
   "execution_count": null,
   "metadata": {},
   "outputs": [],
   "source": [
    "new_design_Y_df.shape"
   ]
  },
  {
   "cell_type": "code",
   "execution_count": null,
   "metadata": {},
   "outputs": [],
   "source": [
    "WDI_Y_over_60.shape"
   ]
  },
  {
   "cell_type": "code",
   "execution_count": null,
   "metadata": {},
   "outputs": [],
   "source": [
    "11 * 56"
   ]
  },
  {
   "cell_type": "markdown",
   "metadata": {},
   "source": [
    "## Indeks ke-0: CO2 emissions (kg per 2010 US of GDP)"
   ]
  },
  {
   "cell_type": "code",
   "execution_count": null,
   "metadata": {},
   "outputs": [],
   "source": [
    "indicator_list_from_df[0]    "
   ]
  },
  {
   "cell_type": "code",
   "execution_count": null,
   "metadata": {},
   "outputs": [],
   "source": [
    "df_co2_emissions = WDI_df_sorted[ WDI_df_sorted['indicator_name'] == indicator_list_from_df[0] ]"
   ]
  },
  {
   "cell_type": "code",
   "execution_count": null,
   "metadata": {},
   "outputs": [],
   "source": [
    "years  = df_co2_emissions['year']\n",
    "values = df_co2_emissions['indicator_value'] "
   ]
  },
  {
   "cell_type": "code",
   "execution_count": null,
   "metadata": {},
   "outputs": [],
   "source": [
    "values.min()"
   ]
  },
  {
   "cell_type": "code",
   "execution_count": null,
   "metadata": {},
   "outputs": [],
   "source": [
    "values.max()"
   ]
  },
  {
   "cell_type": "markdown",
   "metadata": {},
   "source": [
    "Number of years in **time series** is **57**"
   ]
  },
  {
   "cell_type": "code",
   "execution_count": null,
   "metadata": {},
   "outputs": [],
   "source": [
    "plt.plot(years, values)\n",
    "plt.xlim(1959, 2017)\n",
    "plt.ylim(values.min(), values.max())\n",
    "plt.axvline(x=1960, linestyle=\":\")\n",
    "plt.axvline(x=2016, linestyle=\":\")\n",
    "plt.xlabel('years')\n",
    "plt.ylabel(indicator_list_from_df[0])\n",
    "plt.title(\"0 Time series for \"+indicator_list_from_df[0])\n",
    "plt.show()"
   ]
  },
  {
   "cell_type": "markdown",
   "metadata": {},
   "source": [
    "## Indeks ke-1: Youth literacy rate, population 15-24 years, both sexes (%)"
   ]
  },
  {
   "cell_type": "code",
   "execution_count": null,
   "metadata": {},
   "outputs": [],
   "source": [
    "indicator_list_from_df[1]    "
   ]
  },
  {
   "cell_type": "code",
   "execution_count": null,
   "metadata": {},
   "outputs": [],
   "source": [
    "df_youth_literacy = WDI_df_sorted[ WDI_df_sorted['indicator_name'] == indicator_list_from_df[1] ]"
   ]
  },
  {
   "cell_type": "code",
   "execution_count": null,
   "metadata": {},
   "outputs": [],
   "source": [
    "years  = df_youth_literacy['year']\n",
    "values = df_youth_literacy['indicator_value'] "
   ]
  },
  {
   "cell_type": "code",
   "execution_count": null,
   "metadata": {},
   "outputs": [],
   "source": [
    "57 - values.isna().sum()"
   ]
  },
  {
   "cell_type": "markdown",
   "metadata": {},
   "source": [
    "## Indeks ke-2: Diarrhea treatment (% of children under 5 who received ORS packet)"
   ]
  },
  {
   "cell_type": "code",
   "execution_count": null,
   "metadata": {},
   "outputs": [],
   "source": [
    "indicator_list_from_df[2]"
   ]
  },
  {
   "cell_type": "code",
   "execution_count": null,
   "metadata": {},
   "outputs": [],
   "source": [
    "df_temp = WDI_df_sorted[WDI_df_sorted['indicator_name'] == indicator_list_from_df[2]]"
   ]
  },
  {
   "cell_type": "code",
   "execution_count": null,
   "metadata": {},
   "outputs": [],
   "source": [
    "years = df_temp['year']\n",
    "values = df_temp['indicator_value']"
   ]
  },
  {
   "cell_type": "code",
   "execution_count": null,
   "metadata": {},
   "outputs": [],
   "source": [
    "57 - values.isna().sum()"
   ]
  }
 ],
 "metadata": {
  "kernelspec": {
   "display_name": "wdi-project",
   "language": "python",
   "name": "wdi-project"
  },
  "language_info": {
   "codemirror_mode": {
    "name": "ipython",
    "version": 3
   },
   "file_extension": ".py",
   "mimetype": "text/x-python",
   "name": "python",
   "nbconvert_exporter": "python",
   "pygments_lexer": "ipython3",
   "version": "3.7.1"
  }
 },
 "nbformat": 4,
 "nbformat_minor": 2
}
